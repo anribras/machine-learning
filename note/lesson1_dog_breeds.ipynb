{
 "cells": [
  {
   "cell_type": "markdown",
   "metadata": {},
   "source": [
    "## dog_breeds_identification kaggle game"
   ]
  },
  {
   "cell_type": "markdown",
   "metadata": {},
   "source": [
    "### Preparing"
   ]
  },
  {
   "cell_type": "code",
   "execution_count": 1,
   "metadata": {},
   "outputs": [],
   "source": [
    "# Put these at the top of every notebook, to get automatic reloading and inline plotting\n",
    "%reload_ext autoreload\n",
    "%autoreload 2\n",
    "%matplotlib inline"
   ]
  },
  {
   "cell_type": "code",
   "execution_count": 1,
   "metadata": {},
   "outputs": [],
   "source": [
    "import torch\n",
    "from fastai.imports import *\n",
    "from fastai.transforms import *\n",
    "from fastai.conv_learner import *\n",
    "from fastai.model import *\n",
    "from fastai.dataset import *\n",
    "from fastai.sgdr import *\n",
    "from fastai.plots import *\n"
   ]
  },
  {
   "cell_type": "markdown",
   "metadata": {},
   "source": [
    "#### gpu not good for cpu mode"
   ]
  },
  {
   "cell_type": "code",
   "execution_count": 3,
   "metadata": {},
   "outputs": [
    {
     "data": {
      "text/plain": [
       "True"
      ]
     },
     "execution_count": 3,
     "metadata": {},
     "output_type": "execute_result"
    }
   ],
   "source": [
    "torch.cuda.is_available()"
   ]
  },
  {
   "cell_type": "code",
   "execution_count": 4,
   "metadata": {},
   "outputs": [
    {
     "data": {
      "text/plain": [
       "True"
      ]
     },
     "execution_count": 4,
     "metadata": {},
     "output_type": "execute_result"
    }
   ],
   "source": [
    "torch.backends.cudnn.enabled"
   ]
  },
  {
   "cell_type": "code",
   "execution_count": 5,
   "metadata": {},
   "outputs": [],
   "source": [
    "torch.cuda.set_device(0)"
   ]
  },
  {
   "cell_type": "markdown",
   "metadata": {},
   "source": [
    "### Download from kaggle\n",
    "\n",
    "\n",
    "\n",
    "\n",
    "\n",
    "\n",
    "\n",
    "\n",
    "\n",
    "\n",
    "\n",
    "\n",
    "\n"
   ]
  },
  {
   "cell_type": "code",
   "execution_count": 6,
   "metadata": {},
   "outputs": [],
   "source": [
    "#!pip install kaggle\n",
    "# download your own kaggle.json  put it under ~/.kaggle/\n",
    "# run kaggle competitions download -c dog-breed-identification\n",
    "# zip file will locates in ~/kaggle/.."
   ]
  },
  {
   "cell_type": "code",
   "execution_count": 7,
   "metadata": {},
   "outputs": [],
   "source": [
    "PATH = \"data/dogbreeds/\""
   ]
  },
  {
   "cell_type": "markdown",
   "metadata": {},
   "source": [
    "### Prepare data \n"
   ]
  },
  {
   "cell_type": "code",
   "execution_count": 14,
   "metadata": {},
   "outputs": [
    {
     "name": "stdout",
     "output_type": "stream",
     "text": [
      "labels.csv  sample_submission.csv  test  train\r\n"
     ]
    }
   ],
   "source": [
    "!ls {PATH}"
   ]
  },
  {
   "cell_type": "markdown",
   "metadata": {},
   "source": [
    "#### check train set"
   ]
  },
  {
   "cell_type": "code",
   "execution_count": 15,
   "metadata": {},
   "outputs": [
    {
     "name": "stdout",
     "output_type": "stream",
     "text": [
      "/home/ubuntu/fastai/courses/dl1\r\n"
     ]
    }
   ],
   "source": [
    "!pwd"
   ]
  },
  {
   "cell_type": "code",
   "execution_count": 16,
   "metadata": {},
   "outputs": [
    {
     "name": "stdout",
     "output_type": "stream",
     "text": [
      "data/dogbreeds/labels.csv\n",
      "10222\n"
     ]
    }
   ],
   "source": [
    "label_csv = f'{PATH}labels.csv'\n",
    "print(label_csv)\n",
    "#list of rows, minus 1, nubmer of rows in CSV, number of imgs\n",
    "n = len(list(open(label_csv)))-1\n",
    "print(n)"
   ]
  },
  {
   "cell_type": "code",
   "execution_count": 17,
   "metadata": {},
   "outputs": [
    {
     "data": {
      "text/html": [
       "<div>\n",
       "<style scoped>\n",
       "    .dataframe tbody tr th:only-of-type {\n",
       "        vertical-align: middle;\n",
       "    }\n",
       "\n",
       "    .dataframe tbody tr th {\n",
       "        vertical-align: top;\n",
       "    }\n",
       "\n",
       "    .dataframe thead th {\n",
       "        text-align: right;\n",
       "    }\n",
       "</style>\n",
       "<table border=\"1\" class=\"dataframe\">\n",
       "  <thead>\n",
       "    <tr style=\"text-align: right;\">\n",
       "      <th></th>\n",
       "      <th>id</th>\n",
       "      <th>breed</th>\n",
       "    </tr>\n",
       "  </thead>\n",
       "  <tbody>\n",
       "    <tr>\n",
       "      <th>0</th>\n",
       "      <td>000bec180eb18c7604dcecc8fe0dba07</td>\n",
       "      <td>boston_bull</td>\n",
       "    </tr>\n",
       "    <tr>\n",
       "      <th>1</th>\n",
       "      <td>001513dfcb2ffafc82cccf4d8bbaba97</td>\n",
       "      <td>dingo</td>\n",
       "    </tr>\n",
       "    <tr>\n",
       "      <th>2</th>\n",
       "      <td>001cdf01b096e06d78e9e5112d419397</td>\n",
       "      <td>pekinese</td>\n",
       "    </tr>\n",
       "    <tr>\n",
       "      <th>3</th>\n",
       "      <td>00214f311d5d2247d5dfe4fe24b2303d</td>\n",
       "      <td>bluetick</td>\n",
       "    </tr>\n",
       "    <tr>\n",
       "      <th>4</th>\n",
       "      <td>0021f9ceb3235effd7fcde7f7538ed62</td>\n",
       "      <td>golden_retriever</td>\n",
       "    </tr>\n",
       "  </tbody>\n",
       "</table>\n",
       "</div>"
      ],
      "text/plain": [
       "                                 id             breed\n",
       "0  000bec180eb18c7604dcecc8fe0dba07       boston_bull\n",
       "1  001513dfcb2ffafc82cccf4d8bbaba97             dingo\n",
       "2  001cdf01b096e06d78e9e5112d419397          pekinese\n",
       "3  00214f311d5d2247d5dfe4fe24b2303d          bluetick\n",
       "4  0021f9ceb3235effd7fcde7f7538ed62  golden_retriever"
      ]
     },
     "execution_count": 17,
     "metadata": {},
     "output_type": "execute_result"
    }
   ],
   "source": [
    "labels_df= pd.read_csv(label_csv)\n",
    "labels_df.head()\n"
   ]
  },
  {
   "cell_type": "code",
   "execution_count": 18,
   "metadata": {},
   "outputs": [
    {
     "data": {
      "text/plain": [
       "120"
      ]
     },
     "execution_count": 18,
     "metadata": {},
     "output_type": "execute_result"
    }
   ],
   "source": [
    "len(labels_df['breed'].unique())"
   ]
  },
  {
   "cell_type": "code",
   "execution_count": 19,
   "metadata": {},
   "outputs": [
    {
     "data": {
      "text/html": [
       "<div>\n",
       "<style scoped>\n",
       "    .dataframe tbody tr th:only-of-type {\n",
       "        vertical-align: middle;\n",
       "    }\n",
       "\n",
       "    .dataframe tbody tr th {\n",
       "        vertical-align: top;\n",
       "    }\n",
       "\n",
       "    .dataframe thead th {\n",
       "        text-align: right;\n",
       "    }\n",
       "</style>\n",
       "<table border=\"1\" class=\"dataframe\">\n",
       "  <thead>\n",
       "    <tr style=\"text-align: right;\">\n",
       "      <th></th>\n",
       "      <th>id</th>\n",
       "    </tr>\n",
       "    <tr>\n",
       "      <th>breed</th>\n",
       "      <th></th>\n",
       "    </tr>\n",
       "  </thead>\n",
       "  <tbody>\n",
       "    <tr>\n",
       "      <th>scottish_deerhound</th>\n",
       "      <td>126</td>\n",
       "    </tr>\n",
       "    <tr>\n",
       "      <th>maltese_dog</th>\n",
       "      <td>117</td>\n",
       "    </tr>\n",
       "    <tr>\n",
       "      <th>afghan_hound</th>\n",
       "      <td>116</td>\n",
       "    </tr>\n",
       "    <tr>\n",
       "      <th>entlebucher</th>\n",
       "      <td>115</td>\n",
       "    </tr>\n",
       "    <tr>\n",
       "      <th>bernese_mountain_dog</th>\n",
       "      <td>114</td>\n",
       "    </tr>\n",
       "    <tr>\n",
       "      <th>shih-tzu</th>\n",
       "      <td>112</td>\n",
       "    </tr>\n",
       "    <tr>\n",
       "      <th>great_pyrenees</th>\n",
       "      <td>111</td>\n",
       "    </tr>\n",
       "    <tr>\n",
       "      <th>pomeranian</th>\n",
       "      <td>111</td>\n",
       "    </tr>\n",
       "    <tr>\n",
       "      <th>basenji</th>\n",
       "      <td>110</td>\n",
       "    </tr>\n",
       "    <tr>\n",
       "      <th>samoyed</th>\n",
       "      <td>109</td>\n",
       "    </tr>\n",
       "    <tr>\n",
       "      <th>airedale</th>\n",
       "      <td>107</td>\n",
       "    </tr>\n",
       "    <tr>\n",
       "      <th>tibetan_terrier</th>\n",
       "      <td>107</td>\n",
       "    </tr>\n",
       "    <tr>\n",
       "      <th>leonberg</th>\n",
       "      <td>106</td>\n",
       "    </tr>\n",
       "    <tr>\n",
       "      <th>cairn</th>\n",
       "      <td>106</td>\n",
       "    </tr>\n",
       "    <tr>\n",
       "      <th>beagle</th>\n",
       "      <td>105</td>\n",
       "    </tr>\n",
       "    <tr>\n",
       "      <th>japanese_spaniel</th>\n",
       "      <td>105</td>\n",
       "    </tr>\n",
       "    <tr>\n",
       "      <th>australian_terrier</th>\n",
       "      <td>102</td>\n",
       "    </tr>\n",
       "    <tr>\n",
       "      <th>blenheim_spaniel</th>\n",
       "      <td>102</td>\n",
       "    </tr>\n",
       "    <tr>\n",
       "      <th>miniature_pinscher</th>\n",
       "      <td>102</td>\n",
       "    </tr>\n",
       "    <tr>\n",
       "      <th>irish_wolfhound</th>\n",
       "      <td>101</td>\n",
       "    </tr>\n",
       "    <tr>\n",
       "      <th>lakeland_terrier</th>\n",
       "      <td>99</td>\n",
       "    </tr>\n",
       "    <tr>\n",
       "      <th>saluki</th>\n",
       "      <td>99</td>\n",
       "    </tr>\n",
       "    <tr>\n",
       "      <th>papillon</th>\n",
       "      <td>96</td>\n",
       "    </tr>\n",
       "    <tr>\n",
       "      <th>whippet</th>\n",
       "      <td>95</td>\n",
       "    </tr>\n",
       "    <tr>\n",
       "      <th>siberian_husky</th>\n",
       "      <td>95</td>\n",
       "    </tr>\n",
       "    <tr>\n",
       "      <th>norwegian_elkhound</th>\n",
       "      <td>95</td>\n",
       "    </tr>\n",
       "    <tr>\n",
       "      <th>pug</th>\n",
       "      <td>94</td>\n",
       "    </tr>\n",
       "    <tr>\n",
       "      <th>chow</th>\n",
       "      <td>93</td>\n",
       "    </tr>\n",
       "    <tr>\n",
       "      <th>italian_greyhound</th>\n",
       "      <td>92</td>\n",
       "    </tr>\n",
       "    <tr>\n",
       "      <th>pembroke</th>\n",
       "      <td>92</td>\n",
       "    </tr>\n",
       "    <tr>\n",
       "      <th>...</th>\n",
       "      <td>...</td>\n",
       "    </tr>\n",
       "    <tr>\n",
       "      <th>german_short-haired_pointer</th>\n",
       "      <td>75</td>\n",
       "    </tr>\n",
       "    <tr>\n",
       "      <th>boxer</th>\n",
       "      <td>75</td>\n",
       "    </tr>\n",
       "    <tr>\n",
       "      <th>bull_mastiff</th>\n",
       "      <td>75</td>\n",
       "    </tr>\n",
       "    <tr>\n",
       "      <th>borzoi</th>\n",
       "      <td>75</td>\n",
       "    </tr>\n",
       "    <tr>\n",
       "      <th>pekinese</th>\n",
       "      <td>75</td>\n",
       "    </tr>\n",
       "    <tr>\n",
       "      <th>cocker_spaniel</th>\n",
       "      <td>74</td>\n",
       "    </tr>\n",
       "    <tr>\n",
       "      <th>american_staffordshire_terrier</th>\n",
       "      <td>74</td>\n",
       "    </tr>\n",
       "    <tr>\n",
       "      <th>doberman</th>\n",
       "      <td>74</td>\n",
       "    </tr>\n",
       "    <tr>\n",
       "      <th>brittany_spaniel</th>\n",
       "      <td>73</td>\n",
       "    </tr>\n",
       "    <tr>\n",
       "      <th>malinois</th>\n",
       "      <td>73</td>\n",
       "    </tr>\n",
       "    <tr>\n",
       "      <th>standard_schnauzer</th>\n",
       "      <td>72</td>\n",
       "    </tr>\n",
       "    <tr>\n",
       "      <th>flat-coated_retriever</th>\n",
       "      <td>72</td>\n",
       "    </tr>\n",
       "    <tr>\n",
       "      <th>redbone</th>\n",
       "      <td>72</td>\n",
       "    </tr>\n",
       "    <tr>\n",
       "      <th>border_collie</th>\n",
       "      <td>72</td>\n",
       "    </tr>\n",
       "    <tr>\n",
       "      <th>curly-coated_retriever</th>\n",
       "      <td>72</td>\n",
       "    </tr>\n",
       "    <tr>\n",
       "      <th>kuvasz</th>\n",
       "      <td>71</td>\n",
       "    </tr>\n",
       "    <tr>\n",
       "      <th>chihuahua</th>\n",
       "      <td>71</td>\n",
       "    </tr>\n",
       "    <tr>\n",
       "      <th>soft-coated_wheaten_terrier</th>\n",
       "      <td>71</td>\n",
       "    </tr>\n",
       "    <tr>\n",
       "      <th>french_bulldog</th>\n",
       "      <td>70</td>\n",
       "    </tr>\n",
       "    <tr>\n",
       "      <th>vizsla</th>\n",
       "      <td>70</td>\n",
       "    </tr>\n",
       "    <tr>\n",
       "      <th>tibetan_mastiff</th>\n",
       "      <td>69</td>\n",
       "    </tr>\n",
       "    <tr>\n",
       "      <th>german_shepherd</th>\n",
       "      <td>69</td>\n",
       "    </tr>\n",
       "    <tr>\n",
       "      <th>giant_schnauzer</th>\n",
       "      <td>69</td>\n",
       "    </tr>\n",
       "    <tr>\n",
       "      <th>walker_hound</th>\n",
       "      <td>69</td>\n",
       "    </tr>\n",
       "    <tr>\n",
       "      <th>otterhound</th>\n",
       "      <td>69</td>\n",
       "    </tr>\n",
       "    <tr>\n",
       "      <th>golden_retriever</th>\n",
       "      <td>67</td>\n",
       "    </tr>\n",
       "    <tr>\n",
       "      <th>brabancon_griffon</th>\n",
       "      <td>67</td>\n",
       "    </tr>\n",
       "    <tr>\n",
       "      <th>komondor</th>\n",
       "      <td>67</td>\n",
       "    </tr>\n",
       "    <tr>\n",
       "      <th>briard</th>\n",
       "      <td>66</td>\n",
       "    </tr>\n",
       "    <tr>\n",
       "      <th>eskimo_dog</th>\n",
       "      <td>66</td>\n",
       "    </tr>\n",
       "  </tbody>\n",
       "</table>\n",
       "<p>120 rows × 1 columns</p>\n",
       "</div>"
      ],
      "text/plain": [
       "                                 id\n",
       "breed                              \n",
       "scottish_deerhound              126\n",
       "maltese_dog                     117\n",
       "afghan_hound                    116\n",
       "entlebucher                     115\n",
       "bernese_mountain_dog            114\n",
       "shih-tzu                        112\n",
       "great_pyrenees                  111\n",
       "pomeranian                      111\n",
       "basenji                         110\n",
       "samoyed                         109\n",
       "airedale                        107\n",
       "tibetan_terrier                 107\n",
       "leonberg                        106\n",
       "cairn                           106\n",
       "beagle                          105\n",
       "japanese_spaniel                105\n",
       "australian_terrier              102\n",
       "blenheim_spaniel                102\n",
       "miniature_pinscher              102\n",
       "irish_wolfhound                 101\n",
       "lakeland_terrier                 99\n",
       "saluki                           99\n",
       "papillon                         96\n",
       "whippet                          95\n",
       "siberian_husky                   95\n",
       "norwegian_elkhound               95\n",
       "pug                              94\n",
       "chow                             93\n",
       "italian_greyhound                92\n",
       "pembroke                         92\n",
       "...                             ...\n",
       "german_short-haired_pointer      75\n",
       "boxer                            75\n",
       "bull_mastiff                     75\n",
       "borzoi                           75\n",
       "pekinese                         75\n",
       "cocker_spaniel                   74\n",
       "american_staffordshire_terrier   74\n",
       "doberman                         74\n",
       "brittany_spaniel                 73\n",
       "malinois                         73\n",
       "standard_schnauzer               72\n",
       "flat-coated_retriever            72\n",
       "redbone                          72\n",
       "border_collie                    72\n",
       "curly-coated_retriever           72\n",
       "kuvasz                           71\n",
       "chihuahua                        71\n",
       "soft-coated_wheaten_terrier      71\n",
       "french_bulldog                   70\n",
       "vizsla                           70\n",
       "tibetan_mastiff                  69\n",
       "german_shepherd                  69\n",
       "giant_schnauzer                  69\n",
       "walker_hound                     69\n",
       "otterhound                       69\n",
       "golden_retriever                 67\n",
       "brabancon_griffon                67\n",
       "komondor                         67\n",
       "briard                           66\n",
       "eskimo_dog                       66\n",
       "\n",
       "[120 rows x 1 columns]"
      ]
     },
     "execution_count": 19,
     "metadata": {},
     "output_type": "execute_result"
    }
   ],
   "source": [
    "labels_df.pivot_table(index='breed',aggfunc=len).sort_values('id',ascending=False)"
   ]
  },
  {
   "cell_type": "markdown",
   "metadata": {},
   "source": [
    "#### 20% as validation data"
   ]
  },
  {
   "cell_type": "code",
   "execution_count": 22,
   "metadata": {
    "code_folding": []
   },
   "outputs": [],
   "source": [
    "def get_cv_idxs(n, cv_idx=4, val_pct=0.2, seed=1):\n",
    "    np.random.seed(seed)\n",
    "    n_val = int(val_pct*n)\n",
    "    idx_start = cv_idx*n_val\n",
    "    idxs = np.random.permutation(n)\n",
    "    return idxs[idx_start:idx_start+n_val]"
   ]
  },
  {
   "cell_type": "code",
   "execution_count": 23,
   "metadata": {},
   "outputs": [
    {
     "name": "stdout",
     "output_type": "stream",
     "text": [
      "[9026 6380 2500 ... 2895 7813  905]\n"
     ]
    }
   ],
   "source": [
    "# get crossvalidation indexes custom FASTAI\n",
    "val_idxs = get_cv_idxs(n)\n",
    "print(val_idxs)"
   ]
  },
  {
   "cell_type": "markdown",
   "metadata": {},
   "source": [
    "### Train model using FastAi steps"
   ]
  },
  {
   "cell_type": "markdown",
   "metadata": {},
   "source": [
    "#### some basic set\n",
    "\n",
    "不同的架构有不同的参数，结构"
   ]
  },
  {
   "cell_type": "code",
   "execution_count": 32,
   "metadata": {},
   "outputs": [],
   "source": [
    "\n",
    "# arch=resnet34\n",
    "arch=resnet101\n",
    "# arch=resnext54\n",
    "bs=24\n",
    "sz=224"
   ]
  },
  {
   "cell_type": "markdown",
   "metadata": {},
   "source": [
    "####  load data enable data agument "
   ]
  },
  {
   "cell_type": "code",
   "execution_count": 33,
   "metadata": {},
   "outputs": [],
   "source": [
    "#That's the way of it\n",
    "tfms = tfms_from_model(arch,sz,aug_tfms=transforms_side_on,max_zoom=1.1)\n",
    "data = ImageClassifierData.from_csv(PATH,'train',\n",
    "                                    label_csv,tfms=tfms,\n",
    "                                    val_idxs=val_idxs,\n",
    "                                    suffix='.jpg',\n",
    "                                    test_name='test',\n",
    "                                    bs =bs)"
   ]
  },
  {
   "cell_type": "markdown",
   "metadata": {},
   "source": [
    "#### dealing with huge or tiny images"
   ]
  },
  {
   "cell_type": "code",
   "execution_count": 34,
   "metadata": {},
   "outputs": [
    {
     "data": {
      "text/plain": [
       "'data/dogbreeds/train/001cdf01b096e06d78e9e5112d419397.jpg'"
      ]
     },
     "execution_count": 34,
     "metadata": {},
     "output_type": "execute_result"
    }
   ],
   "source": [
    "# fn = PATH+data.trn_ds.fnames[0]\n",
    "fn = PATH + data.val_ds.fnames[0]\n",
    "fn"
   ]
  },
  {
   "cell_type": "code",
   "execution_count": 35,
   "metadata": {},
   "outputs": [
    {
     "data": {
      "image/png": "[encoded data removed]",
      "text/plain": [
       "<PIL.JpegImagePlugin.JpegImageFile image mode=RGB size=500x375 at 0x7F11A7333B00>"
      ]
     },
     "execution_count": 35,
     "metadata": {},
     "output_type": "execute_result"
    }
   ],
   "source": [
    "img = PIL.Image.open(fn)\n",
    "img"
   ]
  },
  {
   "cell_type": "code",
   "execution_count": null,
   "metadata": {},
   "outputs": [],
   "source": [
    "size_d = {k: PIL.Image.open(PATH+k).size for k in data.trn_ds.fnames}"
   ]
  },
  {
   "cell_type": "markdown",
   "metadata": {},
   "source": [
    "* zip用法\n",
    "```\n",
    ">>>a = [1,2,3]\n",
    ">>> b = [4,5,6]\n",
    ">>> c = [4,5,6,7,8]\n",
    ">>> zipped = zip(a,b)     # 打包为元组的列表\n",
    "[(1, 4), (2, 5), (3, 6)]\n",
    ">>> zip(a,c)              # 元素个数与最短的列表一致\n",
    "[(1, 4), (2, 5), (3, 6)]\n",
    ">>> zip(*zipped)          # 与 zip 相反，可理解为解压，返回二维矩阵式\n",
    "[(1, 2, 3), (4, 5, 6)]\n",
    "```"
   ]
  },
  {
   "cell_type": "code",
   "execution_count": 48,
   "metadata": {},
   "outputs": [],
   "source": [
    "# 行列分开，分别统计\n",
    "row_sz,col_sz = list(zip(*size_d.values()));\n",
    "\n",
    "row_sz = np.array(row_sz); col_sz=np.array(col_sz)"
   ]
  },
  {
   "cell_type": "code",
   "execution_count": 49,
   "metadata": {},
   "outputs": [
    {
     "data": {
      "text/plain": [
       "(array([3047., 5001.,   84.,   14.,   10.,    4.,   14.,    2.,    0.,    2.]),\n",
       " array([  97. ,  413.7,  730.4, 1047.1, 1363.8, 1680.5, 1997.2, 2313.9, 2630.6, 2947.3, 3264. ]),\n",
       " <a list of 10 Patch objects>)"
      ]
     },
     "execution_count": 49,
     "metadata": {},
     "output_type": "execute_result"
    },
    {
     "data": {
      "image/png": "[encoded data removed]",
      "text/plain": [
       "<Figure size 432x288 with 1 Axes>"
      ]
     },
     "metadata": {},
     "output_type": "display_data"
    }
   ],
   "source": [
    "plt.hist(row_sz)"
   ]
  },
  {
   "cell_type": "code",
   "execution_count": 50,
   "metadata": {},
   "outputs": [
    {
     "data": {
      "text/plain": [
       "(array([ 19.,  95., 267., 288., 193., 874., 958., 371., 250., 204.]),\n",
       " array([ 97. , 137.2, 177.4, 217.6, 257.8, 298. , 338.2, 378.4, 418.6, 458.8, 499. ]),\n",
       " <a list of 10 Patch objects>)"
      ]
     },
     "execution_count": 50,
     "metadata": {},
     "output_type": "execute_result"
    },
    {
     "data": {
      "image/png": "[encoded data removed]",
      "text/plain": [
       "<Figure size 432x288 with 1 Axes>"
      ]
     },
     "metadata": {},
     "output_type": "display_data"
    }
   ],
   "source": [
    "plt.hist(row_sz[row_sz < 500])"
   ]
  },
  {
   "cell_type": "code",
   "execution_count": 51,
   "metadata": {},
   "outputs": [
    {
     "data": {
      "text/plain": [
       "(array([2889., 5106.,  118.,   21.,   15.,   16.,    7.,    3.,    0.,    3.]),\n",
       " array([ 102.,  348.,  594.,  840., 1086., 1332., 1578., 1824., 2070., 2316., 2562.]),\n",
       " <a list of 10 Patch objects>)"
      ]
     },
     "execution_count": 51,
     "metadata": {},
     "output_type": "execute_result"
    },
    {
     "data": {
      "image/png": "[encoded data removed]",
      "text/plain": [
       "<Figure size 432x288 with 1 Axes>"
      ]
     },
     "metadata": {},
     "output_type": "display_data"
    }
   ],
   "source": [
    "plt.hist(col_sz)"
   ]
  },
  {
   "cell_type": "code",
   "execution_count": 52,
   "metadata": {},
   "outputs": [
    {
     "data": {
      "text/plain": [
       "(8178, 2044)"
      ]
     },
     "execution_count": 52,
     "metadata": {},
     "output_type": "execute_result"
    }
   ],
   "source": [
    "len(data.trn_ds),len(data.val_ds)"
   ]
  },
  {
   "cell_type": "code",
   "execution_count": 53,
   "metadata": {},
   "outputs": [
    {
     "data": {
      "text/plain": [
       "['affenpinscher',\n",
       " 'afghan_hound',\n",
       " 'african_hunting_dog',\n",
       " 'airedale',\n",
       " 'american_staffordshire_terrier']"
      ]
     },
     "execution_count": 53,
     "metadata": {},
     "output_type": "execute_result"
    }
   ],
   "source": [
    "data.classes[:5]"
   ]
  },
  {
   "cell_type": "code",
   "execution_count": 54,
   "metadata": {},
   "outputs": [],
   "source": [
    "# 输入sz和batch sz为参数，可以调整不同大小数据的训练结果\n",
    "def get_data(sz,bs):\n",
    "    tfms = tfms_from_model(arch,sz,aug_tfms=transforms_side_on,max_zoom=1.1)\n",
    "    data = ImageClassifierData.from_csv(PATH,'train',\n",
    "                                    label_csv,tfms=tfms,\n",
    "                                    val_idxs=val_idxs,\n",
    "                                    suffix='.jpg',\n",
    "                                    test_name='test',\n",
    "                                    bs =bs)\n",
    "    return data if (sz > 300) else data.resize(340,'tmp')\n",
    "    "
   ]
  },
  {
   "cell_type": "markdown",
   "metadata": {},
   "source": [
    "#### learn a right learning rate using lr_find     "
   ]
  },
  {
   "cell_type": "code",
   "execution_count": 55,
   "metadata": {},
   "outputs": [
    {
     "data": {
      "application/vnd.jupyter.widget-view+json": {
       "model_id": "dce5b52e27294042bef6be76e9bfe233",
       "version_major": 2,
       "version_minor": 0
      },
      "text/plain": [
       "HBox(children=(IntProgress(value=0, max=6), HTML(value='')))"
      ]
     },
     "metadata": {},
     "output_type": "display_data"
    },
    {
     "name": "stdout",
     "output_type": "stream",
     "text": [
      "                                                      \n"
     ]
    }
   ],
   "source": [
    "# 先训练224\n",
    "bs=24\n",
    "sz=224\n",
    "data = get_data(sz,bs);"
   ]
  },
  {
   "cell_type": "code",
   "execution_count": 56,
   "metadata": {},
   "outputs": [
    {
     "name": "stderr",
     "output_type": "stream",
     "text": [
      "Downloading: \"https://download.pytorch.org/models/resnet101-5d3b4d8f.pth\" to /home/ubuntu/.torch/models/resnet101-5d3b4d8f.pth\n",
      "100%|██████████| 178728960/178728960 [00:02<00:00, 68625635.68it/s]\n"
     ]
    },
    {
     "name": "stdout",
     "output_type": "stream",
     "text": [
      "100%|██████████| 341/341 [02:49<00:00,  2.01it/s]\n",
      "100%|██████████| 86/86 [00:30<00:00,  2.83it/s]\n",
      "100%|██████████| 432/432 [02:34<00:00,  2.80it/s]\n"
     ]
    }
   ],
   "source": [
    "learn = ConvLearner.pretrained(arch, data, precompute=True)"
   ]
  },
  {
   "cell_type": "code",
   "execution_count": 57,
   "metadata": {},
   "outputs": [
    {
     "data": {
      "application/vnd.jupyter.widget-view+json": {
       "model_id": "99169cd581334a77843031d6f4278fa4",
       "version_major": 2,
       "version_minor": 0
      },
      "text/plain": [
       "HBox(children=(IntProgress(value=0, description='Epoch', max=1), HTML(value='')))"
      ]
     },
     "metadata": {},
     "output_type": "display_data"
    },
    {
     "name": "stdout",
     "output_type": "stream",
     "text": [
      " 83%|████████▎ | 284/341 [00:14<00:02, 19.05it/s, loss=9.66]"
     ]
    },
    {
     "data": {
      "image/png": "[encoded data removed]",
      "text/plain": [
       "<Figure size 432x288 with 1 Axes>"
      ]
     },
     "metadata": {},
     "output_type": "display_data"
    }
   ],
   "source": [
    "learn.lr_find()\n",
    "# plot lr and iterations\n",
    "learn.sched.plot_lr()"
   ]
  },
  {
   "cell_type": "code",
   "execution_count": 58,
   "metadata": {},
   "outputs": [
    {
     "data": {
      "image/png": "[encoded data removed]",
      "text/plain": [
       "<Figure size 432x288 with 1 Axes>"
      ]
     },
     "metadata": {},
     "output_type": "display_data"
    }
   ],
   "source": [
    "#plot lost function and lr ,thus find the best lr\n",
    "learn.sched.plot()"
   ]
  },
  {
   "cell_type": "code",
   "execution_count": 59,
   "metadata": {},
   "outputs": [
    {
     "name": "stdout",
     "output_type": "stream",
     "text": [
      "\r",
      " 83%|████████▎ | 284/341 [00:30<00:06,  9.47it/s, loss=9.66]"
     ]
    }
   ],
   "source": [
    "suitable_lr = 0.01;"
   ]
  },
  {
   "cell_type": "markdown",
   "metadata": {},
   "source": [
    "#### pre-train last layer 1-2 epochs \n",
    "precomputed=True\n",
    "Try small size data set first!"
   ]
  },
  {
   "cell_type": "code",
   "execution_count": 60,
   "metadata": {},
   "outputs": [
    {
     "data": {
      "application/vnd.jupyter.widget-view+json": {
       "model_id": "8cb36e9949054ef6a43f57f18c7f681c",
       "version_major": 2,
       "version_minor": 0
      },
      "text/plain": [
       "HBox(children=(IntProgress(value=0, description='Epoch', max=2), HTML(value='')))"
      ]
     },
     "metadata": {},
     "output_type": "display_data"
    },
    {
     "name": "stdout",
     "output_type": "stream",
     "text": [
      "epoch      trn_loss   val_loss   accuracy                    \n",
      "    0      0.709949   0.442442   0.868885  \n",
      " 75%|███████▍  | 255/341 [00:03<00:01, 74.82it/s, loss=0.492]\n",
      "    1      0.451829   0.410725   0.872798                    \n",
      "\n"
     ]
    },
    {
     "data": {
      "text/plain": [
       "[array([0.41073]), 0.8727984370084192]"
      ]
     },
     "execution_count": 60,
     "metadata": {},
     "output_type": "execute_result"
    }
   ],
   "source": [
    "learn = ConvLearner.pretrained(arch, data, precompute=True)\n",
    "learn.fit(suitable_lr, 2)"
   ]
  },
  {
   "cell_type": "markdown",
   "metadata": {},
   "source": [
    "#### using SGDR (restart) retrain last layer "
   ]
  },
  {
   "cell_type": "code",
   "execution_count": 61,
   "metadata": {},
   "outputs": [
    {
     "data": {
      "application/vnd.jupyter.widget-view+json": {
       "model_id": "09232416e67b42d4991977df41dedebe",
       "version_major": 2,
       "version_minor": 0
      },
      "text/plain": [
       "HBox(children=(IntProgress(value=0, description='Epoch', max=3), HTML(value='')))"
      ]
     },
     "metadata": {},
     "output_type": "display_data"
    },
    {
     "name": "stdout",
     "output_type": "stream",
     "text": [
      "epoch      trn_loss   val_loss   accuracy                    \n",
      "    0      0.420168   0.350067   0.893346  \n",
      "    1      0.422      0.353739   0.8909                      \n",
      "    2      0.384243   0.349893   0.889432                    \n",
      "\n"
     ]
    },
    {
     "data": {
      "text/plain": [
       "[array([0.34989]), 0.8894324864893277]"
      ]
     },
     "execution_count": 61,
     "metadata": {},
     "output_type": "execute_result"
    }
   ],
   "source": [
    "learn.precompute=False\n",
    "learn.fit(suitable_lr, 3, cycle_len=1)"
   ]
  },
  {
   "cell_type": "code",
   "execution_count": 62,
   "metadata": {},
   "outputs": [],
   "source": [
    "learn.save('dogbreeds_224_1st')"
   ]
  },
  {
   "cell_type": "markdown",
   "metadata": {},
   "source": [
    "#### check point if  sth wrong can restart here"
   ]
  },
  {
   "cell_type": "code",
   "execution_count": 63,
   "metadata": {},
   "outputs": [],
   "source": [
    "learn.load('dogbreeds_224_1st')"
   ]
  },
  {
   "cell_type": "markdown",
   "metadata": {},
   "source": [
    "#### check result 1st time"
   ]
  },
  {
   "cell_type": "code",
   "execution_count": 64,
   "metadata": {},
   "outputs": [
    {
     "data": {
      "text/plain": [
       "array([0.     , 0.00048, 0.00024, ..., 0.     , 0.00048, 0.00006], dtype=float32)"
      ]
     },
     "execution_count": 64,
     "metadata": {},
     "output_type": "execute_result"
    }
   ],
   "source": [
    "log_preds = learn.predict()\n",
    "\n",
    "preds = np.argmax(log_preds, axis=1)  # from log probabilities to 0 or 1\n",
    "probs = np.exp(log_preds[:,1])        # pr(dog)\n",
    "# probs = np.exp(log_preds)\n",
    "probs\n",
    "\n"
   ]
  },
  {
   "cell_type": "markdown",
   "metadata": {},
   "source": [
    "####  lr_find again"
   ]
  },
  {
   "cell_type": "code",
   "execution_count": 65,
   "metadata": {},
   "outputs": [
    {
     "data": {
      "application/vnd.jupyter.widget-view+json": {
       "model_id": "bda147321bf344319f578d503ceaf972",
       "version_major": 2,
       "version_minor": 0
      },
      "text/plain": [
       "HBox(children=(IntProgress(value=0, description='Epoch', max=1), HTML(value='')))"
      ]
     },
     "metadata": {},
     "output_type": "display_data"
    },
    {
     "name": "stdout",
     "output_type": "stream",
     "text": [
      " 74%|███████▎  | 251/341 [01:34<00:33,  2.66it/s, loss=1.12] "
     ]
    },
    {
     "data": {
      "image/png": "[encoded data removed]",
      "text/plain": [
       "<Figure size 432x288 with 1 Axes>"
      ]
     },
     "metadata": {},
     "output_type": "display_data"
    }
   ],
   "source": [
    "\n",
    "learn.lr_find()\n",
    "# plot lr and iterations\n",
    "learn.sched.plot_lr()"
   ]
  },
  {
   "cell_type": "code",
   "execution_count": 66,
   "metadata": {},
   "outputs": [
    {
     "data": {
      "image/png": "[encoded data removed]",
      "text/plain": [
       "<Figure size 432x288 with 1 Axes>"
      ]
     },
     "metadata": {},
     "output_type": "display_data"
    }
   ],
   "source": [
    "learn.sched.plot()"
   ]
  },
  {
   "cell_type": "code",
   "execution_count": null,
   "metadata": {
    "collapsed": true
   },
   "outputs": [],
   "source": [
    "#### conlusion\n",
    "\n",
    "上面看loss并没有改进的余地了?"
   ]
  },
  {
   "cell_type": "code",
   "execution_count": 67,
   "metadata": {},
   "outputs": [],
   "source": [
    "suitable_lr = 0.01"
   ]
  },
  {
   "cell_type": "markdown",
   "metadata": {},
   "source": [
    "#### unfreeze and set muti-learning rate for other layer"
   ]
  },
  {
   "cell_type": "code",
   "execution_count": 76,
   "metadata": {},
   "outputs": [
    {
     "data": {
      "application/vnd.jupyter.widget-view+json": {
       "model_id": "9443459711e840299eb7dd7b9c003cfc",
       "version_major": 2,
       "version_minor": 0
      },
      "text/plain": [
       "A Jupyter Widget"
      ]
     },
     "metadata": {},
     "output_type": "display_data"
    },
    {
     "name": "stdout",
     "output_type": "stream",
     "text": [
      "epoch      trn_loss   val_loss   accuracy                    \n",
      "    0      0.76473    0.555561   0.829256  \n",
      "\n"
     ]
    },
    {
     "data": {
      "text/plain": [
       "[array([ 0.55556]), 0.82925635914513274]"
      ]
     },
     "execution_count": 76,
     "metadata": {},
     "output_type": "execute_result"
    }
   ],
   "source": [
    "learn.load('dogbreeds_224_1st')\n",
    "learn.unfreeze()\n",
    "lr=np.array([suitable_lr/100,suitable_lr/10,suitable_lr]);\n",
    "learn.fit(lr, 1, cycle_len=1)"
   ]
  },
  {
   "cell_type": "code",
   "execution_count": null,
   "metadata": {
    "collapsed": true
   },
   "outputs": [],
   "source": [
    "learn.save('dogbreeds_224_2nd_more_bad')\n",
    "#### Decide not using this way"
   ]
  },
  {
   "cell_type": "markdown",
   "metadata": {},
   "source": [
    "#### Train huge size image data set then!"
   ]
  },
  {
   "cell_type": "code",
   "execution_count": 69,
   "metadata": {},
   "outputs": [
    {
     "data": {
      "application/vnd.jupyter.widget-view+json": {
       "model_id": "89a83a15f4bc40b1b0a6ecb9dbdf7398",
       "version_major": 2,
       "version_minor": 0
      },
      "text/plain": [
       "HBox(children=(IntProgress(value=0, max=6), HTML(value='')))"
      ]
     },
     "metadata": {},
     "output_type": "display_data"
    },
    {
     "data": {
      "application/vnd.jupyter.widget-view+json": {
       "model_id": "ae6cf47b4a3943dea972be294475df93",
       "version_major": 2,
       "version_minor": 0
      },
      "text/plain": [
       "HBox(children=(IntProgress(value=0, description='Epoch', max=2), HTML(value='')))"
      ]
     },
     "metadata": {},
     "output_type": "display_data"
    },
    {
     "name": "stdout",
     "output_type": "stream",
     "text": [
      "  0%|          | 0/171 [00:00<?, ?it/s]\n",
      "epoch      trn_loss   val_loss   accuracy                    \n",
      "    0      0.308072   0.314278   0.902642  \n",
      "    1      0.303592   0.313066   0.904599                    \n",
      "\n"
     ]
    },
    {
     "data": {
      "text/plain": [
       "[array([0.31307]), 0.90459882128262]"
      ]
     },
     "execution_count": 69,
     "metadata": {},
     "output_type": "execute_result"
    }
   ],
   "source": [
    "learn.load('dogbreeds_224_1st')\n",
    "sz = 299\n",
    "bs = 48;\n",
    "learn.set_data(get_data(sz,bs))\n",
    "learn.fit(suitable_lr,2,cycle_len=1)\n",
    "# overfit?\n",
    "#learn.fit(1e-2,3 cycle_len=1, cycle_mult=2)"
   ]
  },
  {
   "cell_type": "markdown",
   "metadata": {},
   "source": [
    "#### TTA operation for validation set\n",
    "\n",
    "TTA is kind of better predictiton. \n",
    "Prediction for valid dataset aparted from train set (20% of it)"
   ]
  },
  {
   "cell_type": "code",
   "execution_count": 70,
   "metadata": {},
   "outputs": [
    {
     "name": "stdout",
     "output_type": "stream",
     "text": [
      "                                             \r"
     ]
    },
    {
     "data": {
      "text/plain": [
       "0.9094911937377691"
      ]
     },
     "execution_count": 70,
     "metadata": {},
     "output_type": "execute_result"
    }
   ],
   "source": [
    "log_preds,y = learn.TTA()\n",
    "probs = np.mean(np.exp(log_preds),0)\n",
    "accuracy_np(probs, y)"
   ]
  },
  {
   "cell_type": "code",
   "execution_count": 71,
   "metadata": {},
   "outputs": [
    {
     "data": {
      "text/plain": [
       "(5, 2044, 120)"
      ]
     },
     "execution_count": 71,
     "metadata": {},
     "output_type": "execute_result"
    }
   ],
   "source": [
    "log_preds.shape"
   ]
  },
  {
   "cell_type": "code",
   "execution_count": 72,
   "metadata": {},
   "outputs": [],
   "source": [
    "learn.save('dogbreeds_224_2nd_good')"
   ]
  },
  {
   "cell_type": "markdown",
   "metadata": {},
   "source": [
    "### Submit results"
   ]
  },
  {
   "cell_type": "markdown",
   "metadata": {
    "collapsed": true
   },
   "source": [
    "#### Predict on test set"
   ]
  },
  {
   "cell_type": "code",
   "execution_count": 94,
   "metadata": {},
   "outputs": [
    {
     "data": {
      "text/plain": [
       "['fd1a7be32f10493735555e62913c0841',\n",
       " '5273d42f02b4715cb93845205995ef64',\n",
       " '442057a3142f4d75a1023db363e2fb54',\n",
       " 'fb03302b030afd122e0f4936c158f6c1',\n",
       " '511ca6e3539192aa5c8747bb697e0525',\n",
       " '2e60533a26e589f57fff34711c5ba73c',\n",
       " '27e4bd954bfe78f9e01338dc5108fadd',\n",
       " '591566259cbc95dd43b75d77b00aa7a5',\n",
       " 'a51c2803972dff8c7fcc17f6b7eda64d',\n",
       " '9ace4c5cced4fb88678a5b0a9b3f3cf1',\n",
       " '0a4ef19459cd2100977b052de5f46231',\n",
       " 'd1d5b398aaee58ef3d6d7cde20cf17ac',\n",
       " '5f93b0c2f5941449705b44ac56555740',\n",
       " 'a8c328b54ad54952071ca471aaaf9bf8',\n",
       " '7b5f0257ec767a039aaf95246561163b',\n",
       " '01d5ffa4de01074483149bec0f6e5a59',\n",
       " 'e12e6997c15c233c7b92209e08ff9d14',\n",
       " 'b79c8019e5558042de2fd1105defec28',\n",
       " 'cca524a4ee4fbbea4a867767377f2035',\n",
       " '873c14fc563d7d83e6de1253ab6ab67f',\n",
       " '99b7f212ca1c54282f01dfb98efbaea3',\n",
       " 'cb7c8ef5b03d79feb9cf5416836ccc2d',\n",
       " '482051c1436a506f7556625e612060a5',\n",
       " '7b3ffac7ead20a7062d917ad210e6b08',\n",
       " 'f9e23db817511ad879ddee9edccebfe7',\n",
       " 'a0c6b0725c21647464fc786ff9608b65',\n",
       " '7f94beaceeeea537472e656c73bc99c1',\n",
       " '73ecf0de50e754a9fef7df76acf99ea1',\n",
       " '1e7356e15911f32f972271f28fcc6288',\n",
       " '600e5b100dcd21ba221d7ef1ca01426d',\n",
       " '5d9c0c30c1908e9ef0390120a9eb41c8',\n",
       " 'f5f3f3913dabe2ff9d100b81b44e2611',\n",
       " '6280a706538f2eb9821ea13325f13509',\n",
       " '034beab81ed7a5806e3324a08b89b60b',\n",
       " 'e806fbb5ca4dd3a094f7819bd810cc65',\n",
       " 'fedd9cc1cf0075443e7dfc349d24d412',\n",
       " 'f45014f665123584d3588802ee020bce',\n",
       " '0d2421d1aaeb809587a95def06c4ae4d',\n",
       " '9e784074154fad8a13f293c1f3de28e2',\n",
       " '810a8bc224dc72a23a9242339756444d',\n",
       " '7dc35cd0fa0965cb9add24576bc2e1bc',\n",
       " '372ec9d3411f5d36176a094f7ec12705',\n",
       " '7df0aa40b7514ad56847f2b43e7b677e',\n",
       " '59b07b46f717691187c603b9da6d4811',\n",
       " 'c320cd8e85f8b2ff3e371ae6d04953cd',\n",
       " 'af7006592aefbb36b92149190c487345',\n",
       " '283ce0ab05c251fa02f9cb609e6b8cf2',\n",
       " 'ed3c3d91c25ad370e44704caa4bc1c63',\n",
       " '7dacbf779fa9a4203fa7c02d32b32202',\n",
       " 'd524e1319b967c4e111b2ff4c75c5959',\n",
       " '27155dedca27e52b7bbd4666644d07d5',\n",
       " 'ebe4a8b8507fa28905cb7e70b90b9170',\n",
       " 'ba0875164edc17285ffebaaefbfa030f',\n",
       " '04ec9d02010d787f46ded19a75429b8b',\n",
       " '98755ea66e1b1daf87b7c168d52987e9',\n",
       " '0441fda84f1eab8ddc72a8262a66e626',\n",
       " 'f4eb6450497df847ef1012d61d869007',\n",
       " '5206d48eb4adfaee7d87d1a07de368b0',\n",
       " 'b7d611dec18c9a7557fbe3f6e06eb64a',\n",
       " 'b1aa9c743d188c4cf27c7433b4290699',\n",
       " '50f60661565a02c5b96f446f089832e6',\n",
       " '192a300fce43b70a75da804e0b9adaf7',\n",
       " '03b4aee397e5dacdc21da01e5a5beeee',\n",
       " 'b98f8ae051465972798a0fdf035ad3b0',\n",
       " '3e6d21074f78119df37d78ab8e96a9e3',\n",
       " '4a7434a0c49e95b5c1ffe8006c5edc2e',\n",
       " 'd7a8e33d60c6184bdedf9e2e8865199d',\n",
       " '3247a9afc5171760dbaea74c5239a4a0',\n",
       " 'db2b8aeb5293d771b5edb1d34d94edf2',\n",
       " '8e78fefe5b7612a131e66a7fe616309a',\n",
       " '52f42cf61637c2e15296516f402f00c9',\n",
       " 'f89654f9652fed8140209b60093e6f3c',\n",
       " '52daaff152ee0087423db59047cf1221',\n",
       " '2aa0320f1b6757f67b36b53ae1ead740',\n",
       " '852758528e03f51340dcbad58f6e6dbd',\n",
       " 'ed1d8dfbebbb70b252cd71e165ea3d76',\n",
       " '63d381a8b806b56e3c155dd458a66646',\n",
       " 'd4bf8bfc3da858e3566dce7bd1b71cd6',\n",
       " 'f9cdb4d856a56b7f0530b0f787877027',\n",
       " '8e132d99a94e8ad63e2dd95bcda13994',\n",
       " '97d4ed796a33f67ebbec96b7ecc2dc22',\n",
       " '044b55c0f3ddceb089854c891c1fc01b',\n",
       " 'fc5dd147bc719dedca53f20ece5ee037',\n",
       " '5841eb6b67eb578868ddce0576d5e89a',\n",
       " '5ec8dee99ef0116867a1027b3bc0d96d',\n",
       " '4bac41fed0eaf2ebf2297a376b1174a3',\n",
       " '573c8f31bb33fa4120f29110e61dd549',\n",
       " '0f06bc9d173a94c0c79dcf1cac9511a3',\n",
       " '3d62d8a840ce431e9d7e89482ee4dac8',\n",
       " 'e0806e5049519130d459dd7bd640a092',\n",
       " 'c15e564dfe0f3369b42e4a11e845baa9',\n",
       " 'b7eda8c3172b4dc492d75b150b773b1f',\n",
       " '84fc75ded1b3415d6fb9dc6e65a5137b',\n",
       " 'e29f03a924c493b29d17877204dd0205',\n",
       " '9021db6be87fcd46c9815baa5ddc0637',\n",
       " 'b370ddfbcc1d5f3f694d424a3a9d096f',\n",
       " '7ee3d9d8e1c78c11fe8da52b3ad70453',\n",
       " 'c856e6ac2e86c4c99e7395b89f496a02',\n",
       " 'bd4211cd31953f8ada0a80791a37cf73',\n",
       " '00846c0edd5aa4f10ee5e9b84d7310a6',\n",
       " '651c4f7eeb78658dc1511355844cae6d',\n",
       " 'bae23d6cf1b3ee8299b254487b4ec86e',\n",
       " '874dfc7e9aad3f9395812cdf762732a8',\n",
       " 'f96bc5732168cac38f78847a24a61765',\n",
       " '9644cc59374b08a02a593c80f821120b',\n",
       " '13837b605ad3176d3114c5f6bd6a653c',\n",
       " '893f4897ef6b6a813f569a65210b6998',\n",
       " 'cdacaa29e856f06f1f41ee795d57877d',\n",
       " '0e4c14d014ad3e0421933ab29ad7b16c',\n",
       " '1ea22244a23b4f419be97c8f3e350010',\n",
       " '32af86f0ccd36975cc43113dedbde438',\n",
       " 'e4369279919beecfb6d91a5375bc122f',\n",
       " 'ef413ae9b0de80605bc95de2d12a4082',\n",
       " '02215f26ca6ece8786daecc15c60e774',\n",
       " 'b151fa5a434c3a7fcc6618c8d6a0797a',\n",
       " '7603a1e5ec7825b354d3d9f2dc0f6059',\n",
       " '16d37a5c6ddaf444ab5585627be4adce',\n",
       " 'be5e92b4c69da9a39d03ae06c00926f3',\n",
       " 'e90b4707267cec5bcd2dbe4cbb68a070',\n",
       " '0f3ac08b6178ce79358ac3f172820258',\n",
       " '80f3a7540af65509da6fd45d44bff94f',\n",
       " '4b752ece6d15aa5123bf523b74703694',\n",
       " 'd039d96eac17bec375a317beb44553cd',\n",
       " '2972fed195a90795186fabc9ff7e409c',\n",
       " '2efa5294b999f09234ef2d57f0d5c759',\n",
       " 'c0f00b1690172c6b11f2d2502b84ee14',\n",
       " '993801b99c2c193ba45e23ff00401bd2',\n",
       " 'e91094730afaa4ade3d3041d96d57f3a',\n",
       " 'fc5628535ed7e4e285796b2a43778fcf',\n",
       " '3698d0a2067983cf6c3d7d0ee9556f8e',\n",
       " 'd45091e26d64a67364891acce1181b91',\n",
       " 'c2370c53e8e91ad4374760178bd68ddd',\n",
       " '27fd1dbdb9ce404fe5d94605b60b16a8',\n",
       " '767fd92e210b0be1befe520b0acb7047',\n",
       " '486d20dafdedfe20f0ac56c32d1e43c1',\n",
       " '426dfd819da9c855bc00123b2cb2aa09',\n",
       " '24193dad6b66cb25cca7e84d731d4290',\n",
       " '82e41a906dbd9ec362a3d49cf6bbe645',\n",
       " 'c7802bfc81504a618254657300847c4d',\n",
       " '5540a2cea8229c32b51be26020c9307a',\n",
       " '073b0f066231ef6c0b2a0e1142dae338',\n",
       " 'b72a9b96eea9ffd80ea49d53eefb19e2',\n",
       " '582c346847be9a10fcc5edf5656896c7',\n",
       " 'f643ae3f2d8e15aebe4a417367b3f14e',\n",
       " 'ad18fb9d8fdb6a075283e4cfecbedc28',\n",
       " '889224b2b61240e166a4981a7e0d2730',\n",
       " '291956adf955ac9e9776a8fe0db8745b',\n",
       " '1c857714795c657006755bf5e45613c9',\n",
       " '20e561f5bf09685d3cd0ca4431fc7961',\n",
       " '06b727fc8e24e46fd7ea78b08091cab5',\n",
       " 'caf242df58bdb9dc8a5101f0ea39492a',\n",
       " '5fcd310119565bcff9c94298034dfc1f',\n",
       " '2f8ea7b3242838538dba2a258b3a24fe',\n",
       " '85e749d2b349c2aa648cb650d6b31797',\n",
       " 'de4223b8c5ca7b80d34d1cd2b5e62351',\n",
       " 'd733d7d86267b797afd6497fea7465fc',\n",
       " 'f68c74c33e5a231bd45bff6206401f09',\n",
       " 'cf60e733ba1b8dd5f0a5d9152cf81dc4',\n",
       " 'c4ab6646f01ccbd119042d5bf9456d96',\n",
       " 'e12731c30619c3fa4b0d9d9a76fb9d60',\n",
       " '8c8a47cac8b6fd7aae1ed898424216a0',\n",
       " 'b41241ea71ff8c4718a6db0ee93a450c',\n",
       " 'd574bb7c20876397d79237d1362b05d1',\n",
       " '032b415cb78da68bc4cb6fc86547b310',\n",
       " 'b28ec7a531e1bdabced300136a60b2df',\n",
       " '303d2bc59de08d6973f67793f87e36f5',\n",
       " '8b1ada6dd7072a18f649edbcfa01963c',\n",
       " 'dd3eb4338145e614d325a917a35e5a1e',\n",
       " 'cb2e6f11680876b86bf7a9bde6186da2',\n",
       " '5bbe40c8adec0550a246e3dd230ff0d2',\n",
       " '3203ed7648f91c3b3f3e8d728de9133f',\n",
       " '32c2c04a7c497e9d7b8a9f4c841c4523',\n",
       " 'b81c15c0f426dfc776d36c9816057a87',\n",
       " '29a1288277a526148349518cf6ea71e4',\n",
       " '0bb3fbcaac7d24aa3f24517355d62a27',\n",
       " '31ee20c24af937270456165babe0f7c7',\n",
       " '0d2eabeabab223d84cc00ffa8aacd16d',\n",
       " 'dc8156c66d73de9b19f0a3bd640e5f80',\n",
       " 'c33407c3c58fdbd37374688ed1635571',\n",
       " '606e444bcf478a1433cba9d472b2920d',\n",
       " 'f1c41fe76fb9962343d34c58efb384cd',\n",
       " '91faba2e7bd694aec44c6d91e386445b',\n",
       " '7e390b2dff546d49a015380b9b887f92',\n",
       " 'fb0aa9d598d54e50963be105661944dc',\n",
       " '5ba53c5a1a62e47e6986c936a37605d7',\n",
       " 'a07211e87a6f435fec0c126dee3f9530',\n",
       " '996254e59f86a920027b43542c177b7d',\n",
       " 'ffa76e07dc686174c2a55fdbdca68bb3',\n",
       " '6fa52b20c124da0aab210e8540a50016',\n",
       " '080a64bd87b1e0f5c96b37acea9da4ee',\n",
       " 'b188e7618ee277e8588a233bc0f145c8',\n",
       " 'd3ab81be44c1f0703916e018ab97dfac',\n",
       " 'a9dd40d7254b456a74c41dc147757707',\n",
       " '186ce2324e1dc6ae0f0fe51811a9c2a3',\n",
       " '93e61b35344f8c5b6e41816d523a1ac8',\n",
       " 'f74e342ace4cdfbf26dfd2bd32a62cee',\n",
       " '46742b602bea83f5b421496f4cf53034',\n",
       " '4794f2975b98eb205949ede87acf2631',\n",
       " '469e02aace66bdae82507bfa20a93e9c',\n",
       " '6f4d76f5bae03fb94ba9e1d1e10a02f2',\n",
       " '0c8c480c7a385be3ab227159ab481938',\n",
       " '1c553a60d52c10614fbb7f5f2a63e05f',\n",
       " '4b54b74c6aa6569a0ec44c2b90e87443',\n",
       " '0d232196ff8e67750201aa6111e252e1',\n",
       " 'a2e614c76e1dc58ce33e756c775ea6c2',\n",
       " '6730f15a77116e044442077d3c275938',\n",
       " '5e12bf10f925b2167704ac491e22edda',\n",
       " '25b3a365952dd0a757aaa8fcca4c3e6b',\n",
       " 'b7e6c5746e5fc25b72ef66a61bee779a',\n",
       " 'feacb43d576eb6d78b38d4eb835d7b20',\n",
       " 'f569c5b12fae4ca37d376d21bc05f2b3',\n",
       " 'f645e45c994e1eea2e6090ba8c583fc1',\n",
       " '113ca01bc889d3b8c34fac5e2e3fc50d',\n",
       " '9bf93ac268122f8985cd9dcafa2e3a85',\n",
       " '283a2612ccccf684b2796dd8e4a5ba13',\n",
       " 'afddb210da6148169f32db3dc3d1042f',\n",
       " '64db9cc4785e029b2a1106cdb57db78b',\n",
       " '55fbea1f92bbc06f3a01d096ed141e6e',\n",
       " '246d301e3d0491f4bd6edd2d602130db',\n",
       " '505f53fe9f598b73849518324e3d5daa',\n",
       " '646c2fb89f80d20f0a38550f8d929a5e',\n",
       " 'fa1b7fcead34bd69f791c89c9b989adb',\n",
       " '02ec16651b25ff76fd995f70a18a56d7',\n",
       " '27ee48039c475345d1d24103d0b4fcb9',\n",
       " '945d5bc18a470bda95312f99d0d4b1c5',\n",
       " '8a2f4c7dd2b66d515e0449b261ae0dad',\n",
       " 'b7651433f6a59fa4032e0e689714c65b',\n",
       " '7ec3929c60fe70208989c9882722a25b',\n",
       " 'a19ab9cf2beb1c1dfb32d68921b33c71',\n",
       " 'd1e4180797034e1e1d6a7bd85b5d11f3',\n",
       " 'b5cf42054fc30582086ffd39f4c2c021',\n",
       " '0e116c1a6ba0c9c4fccac09033d3c393',\n",
       " 'd6bc129ff291bedc5ccdb11152b22f85',\n",
       " 'a82e70edda3d865d704f3b759a9d4b51',\n",
       " 'dce52d7235885d9ad2ae34006e2ecb1e',\n",
       " '56d7b5e1713b034355e623419ded032d',\n",
       " 'b2edda24c8c845736aa185f348a6aa9d',\n",
       " '1b5db7f102030910cc89141a392047a7',\n",
       " 'eb448b29df9391fb8b84c88c3a3313e6',\n",
       " '0d8ce6159135b56cbc62081ec3b674ac',\n",
       " '4f5b4dad544cf08f720bfef9467ce0d5',\n",
       " '9fc3dd94b5db3201db33501904df6dbf',\n",
       " '16a7e9f6d674462e90c403dd2044f462',\n",
       " '7f38478702d5b46f5dd1274658f44020',\n",
       " '18c9bd6df42e3ae92ffcf815b5c2cc0b',\n",
       " '377bf1770fc03d91c5bcf8cfd862aab1',\n",
       " 'b40e164bd132e333722e5f5e9a25939a',\n",
       " 'ba57c17dae7055ef1c54c479262fee4d',\n",
       " '59791221b00f22a42082cb2e6e041ba2',\n",
       " '3098ae7ef4ff1068f4de95947fe41d95',\n",
       " 'f83d03d1949ebedbbe8bb49debac8af9',\n",
       " '101b04a9285eaa095ff49fd96fa1c322',\n",
       " '9282c21669a8c219d4bcc4623e3a7ac3',\n",
       " '68683d69e860726fa2c7dc5c281b7ebf',\n",
       " 'e9c961dc49fdf960fc46c8b54ae1996d',\n",
       " '669e58ccbccad5d4880e391046ab1343',\n",
       " '68ec9cf5b73b91f6506ed9e44e8260af',\n",
       " '69736f3e22b460c670a918d5ae14a96f',\n",
       " '0d89ad8385e4871589195df66f386b4b',\n",
       " '0d6a4703b8989cb5c5402b15e7efbdda',\n",
       " 'e9727fde8aa044a5a2c18b84170f5619',\n",
       " 'e12168553b1e0b5e56d5ab6ac8a58984',\n",
       " '2fdbbd37a896ffa757fedce3c3816aca',\n",
       " 'a68b5abce5006faf179a326a2b1339fb',\n",
       " '7893673817843dfade56328f405e48c5',\n",
       " '28443fec87fe42d33ff84bbe7d112a09',\n",
       " 'b93fbd5bf2851431b8c22355c0f9e35a',\n",
       " '0890c992ea2d00c3c2de9e588081a3b9',\n",
       " '87014c664be9fa67cab57a1d7aaa8c3f',\n",
       " '388edf10377674a40c25915d64f4f377',\n",
       " 'f790aabc5b0b99798e7a098419a2d8ec',\n",
       " 'aacb500bf7d94889d4af329b47179f76',\n",
       " '8e4650fbb8b6d35b451f2c1b5935b049',\n",
       " '82b7446e48bb2fcc3150cb2c13a99611',\n",
       " '1dcf9c0a0180173cb7930418be722998',\n",
       " '59d9d60a5a31c64f8db4c4e488283373',\n",
       " '02113c6c2c25cb7bfe1d743c17a93b0d',\n",
       " 'cfc2241717869ac1b161129fd2043ef9',\n",
       " '50c10bddd88bc3ccc3908fc1cc96c2be',\n",
       " '12595290a6be01f4edc990edd1e69a64',\n",
       " '5ccdc606e46085dfa87ff1d4a9cad7e1',\n",
       " '52b0c3cc3a1a929c11a0fba2e18e1b88',\n",
       " '178e636aafb169a385215a6daf1cbf5a',\n",
       " '586b80f5018bd4d42f497de2f2c6e93b',\n",
       " '98a81ff7d67383c57947b40a3e08c593',\n",
       " '6dbd6ab0457cfdb13094e900f1a57b09',\n",
       " '455fa6e172d0f71efaaa365be3e3c107',\n",
       " '341c6fd79bb32102bb9377c884e0ee40',\n",
       " 'fc50b817f059dbfff5fa1857d7769cc2',\n",
       " 'f054f5578e5c9d3f6759b357df3c5f16',\n",
       " '6c48992c680be488b94e3c9a0da7e47a',\n",
       " '8eb4d197b67a2ee9670ab5576d568328',\n",
       " '4779ef8b9abf2d81e943e9b7bf0462d1',\n",
       " '36f3183c141930a35fa7d84ddc6b1f8c',\n",
       " '3703c4ed4f4baab1aac6bf560ad6e495',\n",
       " 'a0ec7676875f54299bd43d0ddbf9f854',\n",
       " '527c76c29bffd93757cee44abab025f7',\n",
       " '25388b6d6833aab10a08588599ab92eb',\n",
       " '5333ccb08620f8f0855750adc4138c27',\n",
       " '2e0aeaa29b6fe3dcd092c020e6fd45c9',\n",
       " '661be7952c33b332c31d96717c83b15a',\n",
       " '598816a4249ee9e17e286f8040e016f4',\n",
       " 'e2888231cedd08540816e629c0733922',\n",
       " '9c749758e85e5b13fa7ff4498bd7b3f3',\n",
       " '5a352afc7940eedfb9e3478444163d38',\n",
       " '10599ab6821a2a0a16f4e91ca28b7353',\n",
       " '286c669f6883093d509e1391e5638fc3',\n",
       " 'ddbdd621e79563a56443a0dd1ee4c48d',\n",
       " 'b80d89ad4a17ac2537ff46d251efcd7c',\n",
       " 'dc680dbc1cc98a6e65d784b8cbb6cab1',\n",
       " '3396aac7abd70815c765575f2ad07a05',\n",
       " '2985c2a64cea132bed4d27766e1ac2ac',\n",
       " '0c65c361ccaf8d7e79036a67d6290802',\n",
       " 'f89330d6f8a1f8b6e9ba1723767b8e32',\n",
       " '457df9ea0117164eb28c6eef0bec4ddb',\n",
       " '6d41ac100737f33db95996bdae59bad1',\n",
       " '23e3de07d79b125aa21651f6d2bb972b',\n",
       " '8d661dfb329568d0f365c4f9a030b52d',\n",
       " 'bf29aa547c53fe893b2c3547d58063cd',\n",
       " '9ebcadf00da2674bf7e1d5add39e4a01',\n",
       " '28d6506ec1073e9bbd756cc1a49a886d',\n",
       " 'd50aee8c0bf819b889dc756dabe709fb',\n",
       " 'd09cef7dce522043685e6c347c158e0a',\n",
       " 'dde1bc55cec2ac068cb9822928e67461',\n",
       " 'b77dbd50464ea6f854fc74754407b9be',\n",
       " 'fe0940c6a3ab0fb53c961295f656bde7',\n",
       " 'd97ee5d50b0491216699a12412f9998a',\n",
       " 'a67e66eafd749e489e888f7f323e344e',\n",
       " 'b3f90b70c533cfaa5fdb35f646dfe89e',\n",
       " '6ea101b2da1345a74c345632695da3e6',\n",
       " '25f5ff7aed88163977aceca3f3637f80',\n",
       " 'b94f11ac8515eafeb8c90b9890d1dd3f',\n",
       " '93e03b53d9abfe662d5da32ea9995ea8',\n",
       " 'cecb377c724cd2e385458d8b0eba2a49',\n",
       " 'd16f5acab90d41f1ac0014944027d490',\n",
       " '6cdfcb145c9ecc6d65edf561c43e9aee',\n",
       " 'eca94e609a77c2ed87b79c3c08a11a62',\n",
       " 'ef510b25dc13743d566b719b41b35e92',\n",
       " '9bb4213b044033a0efffc81fefda6d2b',\n",
       " 'f191370aae3cc8e282cfd72ecdcc2226',\n",
       " 'a940379e403d5fd0d85f79731544ea2c',\n",
       " '5062f38bbab3716122e3b881735a200b',\n",
       " 'bf72201525899d708b9858d1bc5fc92b',\n",
       " 'a929f3f20f71129cfb12ea068dae82c0',\n",
       " 'e73efb021b7b49e328b2159d34060b82',\n",
       " 'a77d90e8768e0d97db44019c9f57824b',\n",
       " '4cf0fcba95a9fbadc5a7ca4d7d01bbe7',\n",
       " 'dc110cfb9e242562f5ad75391594832d',\n",
       " 'abbe1108ea6a8a96d8b08c59e2c92601',\n",
       " '06ecb29a374579fb320c1c7d2801cbe1',\n",
       " '22ceeed76fe2f66f8c820cbb24c5d05b',\n",
       " '6ebf53d47c489c0b3ea2f72d694a947e',\n",
       " '416085f568b12844c1f53173f9343396',\n",
       " '7d10ac9435e30ba0f6e7bb193c1a3230',\n",
       " '1089db65c1121fbf48af002d8db7fe04',\n",
       " '83bebb2fdb3e84f5a0bd19bb594718c5',\n",
       " '26c03b468732677cfc95f7407f9ed70f',\n",
       " '65c0f996ad48fa88bd51ced6b7549103',\n",
       " '44dd39d39e212c5d0ad0d47c4c2b2e94',\n",
       " '6cdff5325cb35cfd44447b9e4f6cb7b4',\n",
       " '1b8a76d1d731ab0e25ac0c61dd16f3d9',\n",
       " '319d13f45b021200c589fd9b1732624f',\n",
       " 'a51f7553440109364978ce3c2bda4e8b',\n",
       " 'ecab96d4268569065f73b4bb5ddffa59',\n",
       " 'fbf4abbd32d544ff9b5df6af25eec3e3',\n",
       " 'ca12dfbb1c72495ec3e10f4372942a85',\n",
       " '75ce08b9d3a16b71762af327c1796201',\n",
       " '04d36eed15fe648c54a88e0b5c49deb2',\n",
       " '7961a22a295ecebe86a8f4a0f7148ef3',\n",
       " 'd866e0c3a198f14108fd0f60dfc0fcde',\n",
       " 'bcad5b48c530d0a7eed97331583d27e8',\n",
       " '3d64b0add5bc371c2b6a873615dde15e',\n",
       " 'c4e355e6f702461ddbd7a901ee9cf0b0',\n",
       " '165f33c2289a91271048b887941ccf44',\n",
       " '6969c077141fec2c23f4b0857056fc9c',\n",
       " '9f57531651e9b35af426537ad10fbc57',\n",
       " 'e721c3eec5951861bf3ed7f40ef8b091',\n",
       " 'c11958ccf93630b4300e3530fbfc0fe9',\n",
       " 'e3c97ed588b32f49c7aae65cf91f17ba',\n",
       " '66f57c8187a9fc6e9c814f66418231fd',\n",
       " '26a9d1052d04bf8d3d31577e04cdb88d',\n",
       " '7d634946a774f0131d2659cfdf104699',\n",
       " '1b7421b4d34056c04a9b2d109e503fe4',\n",
       " 'e587c21aedc81f89b83dd326e034e7e0',\n",
       " '59e9c006ede96869e3954e6f743d7917',\n",
       " 'df2a003a0b1a216effd806f03f703859',\n",
       " 'c10d6f9e470ee1be933d81f8388c92fb',\n",
       " 'f7773948b9f12b6573a6b935e4281d60',\n",
       " '0bce736f42515d9c8d100f27bc6f42f3',\n",
       " 'e193c532dc7c9a5ee397848a1ee007f0',\n",
       " '794483d5fc378e515c28c52a1cf6fdd4',\n",
       " '5d1e5ef0fb32ab0d0c0abadcfb3541b9',\n",
       " '59f7c4e4d7d7501260ffba34cdb137c2',\n",
       " 'e7b357150635c250757363718e4dae86',\n",
       " 'fec24843dec09a1eb5ae4689d748f470',\n",
       " '555ec0f324fd1deac1a725b15a03d2cc',\n",
       " '0a01f3b0c6d250c08785716c562e2d4d',\n",
       " '735325a42aca71ebe25d7e9b7d86fc91',\n",
       " '9370330bf2d72d321109b9cf2cc2534a',\n",
       " '2b7b1be98f9dce6a55cc7c85bd3e2eaf',\n",
       " '2a65acdba9ad995ec9ce44a5159b680d',\n",
       " 'ab2bb0a11106f74334b541900575bb0b',\n",
       " '255f8de9002dd352b80a6df1e51d01c7',\n",
       " 'd7afb3095877e3c94e62fd633a0c232a',\n",
       " 'b22d7deec141c706d158ff9f1355a016',\n",
       " 'd9b9bc0839bc75beb0686e21c143c0eb',\n",
       " '5ab92bb65ccc22cd3a22bef689e86e61',\n",
       " '87d11271b708467c8eeea0118219a81f',\n",
       " '5114c5571a3ea6e8a208acad3733f44d',\n",
       " '06482b717bf262e4da3f029d942c4de6',\n",
       " '8c3d8b3dba778fa9dd1753315a5afe13',\n",
       " 'af6f27a592f2230bf113f8bdcb91f299',\n",
       " '8c6f366b8410fe8d58cb47c71df22cc7',\n",
       " '895989b6e9e22a83ab231c320303ed83',\n",
       " '0fa8b51dbcf4db355110909c624fb37f',\n",
       " '36ad4269f38b87653eb7aeb70101f0ae',\n",
       " 'b9a9ca36a4a4fd5fab0f32e61d5e69d2',\n",
       " '70ac4cb7a43215b6d341d73443540e92',\n",
       " '15f9bce2f39a0855b04d1fcc173e5f7a',\n",
       " 'd7678b731ca252aa2a49d5c3d4c6e6c0',\n",
       " '57ba777547a97bb3251d69d3a358137b',\n",
       " '2d8b78d291ba57b21c1893e1a6489dbb',\n",
       " '346ff167d16f44acef5ca5b1c9c9636d',\n",
       " 'e8914f74848c23b70b520887b3ff2e8a',\n",
       " '3c1651cc6309abb1832afd467fac7337',\n",
       " '054d889adc4050ca15d78e2cd2486d1e',\n",
       " 'ea057ca7f831d161d456091bf293e4b1',\n",
       " 'a54c9a8d6783d64582c474b26893f749',\n",
       " 'd4592b2ce3f4b01ccf09e3dd066366cf',\n",
       " 'b89384559bd19e4182deccc6fbf1d261',\n",
       " 'fd32579d66aa6223b19085aa600fbc2d',\n",
       " '1cc56ea149a97f5c3b7844bdfda095d0',\n",
       " '2c4b432be733e9db692a57b670a8d822',\n",
       " '93de7504a1dc66c8458dc25eab863433',\n",
       " '153e0d8f86691d96db98b4c34c0a62b7',\n",
       " 'bdf763668a96cf9ef6bde57ea0353eb5',\n",
       " 'c399d41b187a83d878bdcd2fe617949c',\n",
       " '001a5f3114548acdefa3d4da05474c2e',\n",
       " '82b8fed3d9e3d9cf02bc286e32002416',\n",
       " '25600c773eee1db25c6f29e9601597ee',\n",
       " '39ae33e37489e73c1f5151a76f728aa3',\n",
       " '2b6d70418714fe266a383b645e43dffa',\n",
       " '84e3a6a1d53e886d97f65411489969f0',\n",
       " 'b19a8a426fe7b91c890e33f5622fcced',\n",
       " '0f1f058522972750c6afe200c02a027c',\n",
       " 'bd80f2d9d300a2162291270312312980',\n",
       " 'dbb5cdad1972b8316773a788ed33f8be',\n",
       " '43ef838aeff820c5e84f878e388ef63c',\n",
       " '27b6aa96002c6050ba96ba435887592d',\n",
       " 'dd2c0c44f98af0cf223572a1aa189779',\n",
       " '028f76e33c078292b0f5687a7179f15e',\n",
       " 'f7730df5cb8a3823cebc4369f2274793',\n",
       " 'ff357aadc868c7b38e17bd5b87de31be',\n",
       " 'eceb457b878bc73e565b0efa002d5563',\n",
       " 'ec25ce11616bda2e8b7669c415128768',\n",
       " 'e8fcfd7898f198f6efe756a6f93bc0fc',\n",
       " '1dd01e73fb1d53b82792289a68872b70',\n",
       " 'ced54cc7dd36c7aa12530ec79779e24d',\n",
       " '371cc67c8675a767b03c9cf8b4c6ab61',\n",
       " 'a468d10f3a618186de49d4c5780911fc',\n",
       " '0a59d3205cff15e31ee30213b9988e7e',\n",
       " 'ca113721843e1a2729c11dd421891263',\n",
       " '5361ce8afa30a9bda6f6f49bc13596ee',\n",
       " '70ddb5c5bacf3b68a49bdb5d6f85e158',\n",
       " '1140e6284f80fc0bc1d668438a417a29',\n",
       " '5027019c550157d9b8a113c93cc532cf',\n",
       " '4f0b2dbc23fdef5f939144f456a62140',\n",
       " '3ab5ac92251128d0d5f6f5089ce63284',\n",
       " '7fda3605993035df84afe29168a097c0',\n",
       " '72ec9ff0338193778ef1760ed3a33789',\n",
       " 'ab04e38e4e084955f9a2b44ccf04fdae',\n",
       " 'fb05fd17b96a9d33288691701da2dffd',\n",
       " 'd3f35cd21d100eb8c0f84616b3a5476e',\n",
       " 'fd9a41c9a7e713e8ff5ffac23fed60e8',\n",
       " 'a3ce9a29dca2ed8a065a2d10fd0a14bc',\n",
       " '48d0737c8d57d673ad2f3ee0475d7f49',\n",
       " '133ced46ba8853fb83cdd814ca572112',\n",
       " '478c68493385dfad26b6164b74b81ab7',\n",
       " 'cdc0b938bad01e1f66aa594699d10184',\n",
       " 'ee878152e29a6b6ce288b44b358f9d05',\n",
       " 'a7cb2fc22e6ec05e857c26d456703402',\n",
       " '8893700719c79352ef6aefc5291b6697',\n",
       " '9796f4fee0eecaaee3299598c7d6fefc',\n",
       " '6c0b8edb43c00352112f3338df51e039',\n",
       " 'cccd0be23cf26390bf035f3d5b902eea',\n",
       " '59fe8dbdbc6ffa14d73b84628eba3ee0',\n",
       " 'c60d1576b160e11ec84cd1009e275485',\n",
       " '00bbbcb2bf285af6304bd4da0c10299e',\n",
       " '60b14d209fe8ca892fd44efaca76f748',\n",
       " '0df5d0e873f58e89111b5de3d3fab9d2',\n",
       " 'ac2c67c2a2f30a02fffe9063abbbef8e',\n",
       " '1dc13e8a3c6d59521aa85148839f5e18',\n",
       " '2d519803e4fae46ae1760262ddf2b4b2',\n",
       " '58fbd8d644057e463ca4e9c88d46b285',\n",
       " '115e99fcb5d2b82c22d58df7d0011069',\n",
       " 'c8bd44970ed0164a9f335c31c61413a8',\n",
       " '56dd550a941f74f503709bb2a10cb29e',\n",
       " 'be1f6336710d3cdaa0b466ea1f477173',\n",
       " 'e67cd079a0f9c15ebee3c41743906c73',\n",
       " 'b69e0598531d2ac48b7ff13f5e6c2086',\n",
       " 'a1cb7c5e21fcf06bcae959316c56af09',\n",
       " '543fb767142de6f884085480ab70f54e',\n",
       " '41f9b285f9fce70954a44672e4c705cd',\n",
       " '803d7415c42d682a9eff453115163fa1',\n",
       " '66365ef19679cbcecee709da7ac4fbc5',\n",
       " '76510d1c9a1da15997ecef0e4a7a6340',\n",
       " '6d07e237578a419b0f317b2934e48584',\n",
       " 'eb9d126d7a3adc19f25e4c9ba79aa6ce',\n",
       " '8523f138ea8ec843cd30015628a7338e',\n",
       " 'ceb1d4ce47422f388f9c71c7468c9588',\n",
       " '80da6ae51731dc301360a3b59e061fa1',\n",
       " 'c6371656002d56de372719eedbf02806',\n",
       " 'e6c9d8058cbc9b1665aecac1ae179288',\n",
       " '118e6d01dfdf00c1fc90a52501295d6a',\n",
       " '90d33610403888324897e8b126509704',\n",
       " 'fba4684e816c08a6431436047b872629',\n",
       " '416c3f35c567dfd6565c838a1d0be50e',\n",
       " '333fd9416f177c1d23f20eb625e540dc',\n",
       " 'a826cea115b98ae5fc2b31ba18d0b1c4',\n",
       " '329d3d6fea50b2ce65c611fd5b31d1d2',\n",
       " '463ffe453648a5cf157f2d24551b2b1f',\n",
       " 'f0eb0e073867e9a31cc5222c225ad142',\n",
       " '9ce6e9b061cf6b1a9a95297af51ae94f',\n",
       " '9d591f86fdd00f9731dc51d68c7b6323',\n",
       " '10faaeac53d791eaab517fc05b6a7145',\n",
       " '9e0fc3554dff837746953b94c1240e62',\n",
       " 'c7e31e4ddbd1b05548a4f613de954db2',\n",
       " '2f580f6732a5bfb2693b0101cbe58bf1',\n",
       " 'a11f38a3f78dbe56ba0aadad683ddf22',\n",
       " '88d23b246d593dff5ea91d0e07408384',\n",
       " '303abcde9c444c7f90ec60e6d594fb9f',\n",
       " 'aba9bba97c5dc5a3f48465d73a4a99e9',\n",
       " 'f16a73d54d86c0020bf1d63a29eb024b',\n",
       " 'f32ce9df6028804688984658e2b5164c',\n",
       " '29e761753bbd812e045d1602e558565a',\n",
       " '3593a4403b4a2ab9e90382b108cb85e7',\n",
       " '564c005818b5571083b75d4836d45049',\n",
       " '619c08e1980fd44f91a025dbdc4a8c15',\n",
       " '6185d48ab57403045d30a7c59f534d54',\n",
       " '75c3350964fb0d32484b77bd51d50a11',\n",
       " '21e874df199f1c06e041040b35cbc716',\n",
       " '05b5fae69139329bef42256d8dfdedba',\n",
       " 'a5a1d11cfb905ebb82daa21ff063fcfd',\n",
       " 'c917b56307748854b0c72617c506b600',\n",
       " 'b4e71d8ff10e226a61e9d8e55f72d0cf',\n",
       " 'c87b574003ac9568970b70f29702bf85',\n",
       " 'c0a6e0b243d518dfb7b0b1147b0f06d3',\n",
       " 'e90bd6aa38e304f67db74f757df9a834',\n",
       " 'ca334474240615b7086d8f6e866df8db',\n",
       " 'cee2a394ae1bedfbd02033ea8828f3fd',\n",
       " '6bc0af79a3309be448fe2b4a9ad7083a',\n",
       " '039014444919fd5af1d6a33e82a7c0ae',\n",
       " '06884c40e2376b67269360f13ef71b85',\n",
       " 'd0fb1d5a18ffd793a5c7ee1e8c7b69f6',\n",
       " '9841057e1e4699918e264310f55fc000',\n",
       " '84fb3c8a96b146acf4a2bf1eef86d208',\n",
       " '7ae870da7180cd0f3d79061071f5e1a6',\n",
       " '5b8fe1b3769460952465a296e6f5b53a',\n",
       " '5f56c0efe334496379bb7d0c9a64b7ba',\n",
       " '11f9a644c6e7a1ec847b917e99462e72',\n",
       " 'bd817f883c35e1c77516f60e3e2bfcaf',\n",
       " '337eef426e12108ebb3f099dd81afd51',\n",
       " 'ff20371d584e330e288f9a863f484ca5',\n",
       " '609e8b82bda10358325662f5d837cf6c',\n",
       " 'f4ec1eb228bb0a7084de552fa4333b43',\n",
       " '646a3e764aa244f1f160ce3392e0b702',\n",
       " 'ebaafedb1a8a61e8d3f9eaa271b27629',\n",
       " '2fcb0bce7107a87563f3d0eb04c599a8',\n",
       " '673bc20e700dc04751b2111fbe1070c6',\n",
       " '3c631321287065a56f6e9603941d3644',\n",
       " '57c8db20a559e22dcbd7b7363c378287',\n",
       " 'bba293dd06d11a8b7dc78bfca28059be',\n",
       " '457b4e62d6b5b4eeefae45c5d377f62d',\n",
       " '59359fdd0967a2b7c0f81156045515cf',\n",
       " '12576fadf1319d363ea0d8d6f29a2895',\n",
       " '4de2ba963d28c9ade288ec40ba54afb9',\n",
       " '4f61f29dd5d63f317db565d7a1935c02',\n",
       " '47230b4d63ad71d2e9ff20d28805a6b7',\n",
       " '22737dba61a1468f3c33f9ddce6ddd3d',\n",
       " 'e280f6f772fa8439dcf0957a0e8b8e1d',\n",
       " '35285831a42d652521a33132f01f6147',\n",
       " '372969e9b4061489f312a607c9e8c149',\n",
       " '1b4d8de1b1f67ad27a4e62f6927309d0',\n",
       " '82f07a63a1f03ff9d8e0f4a8458caa93',\n",
       " '5de79cddad717b04df0dcb7a132dd5f1',\n",
       " '5acc1488ca19571c047d8a9b8535ed12',\n",
       " '87f26de902396e2db022e604ae91f15e',\n",
       " '9815824054e2b8533a329cad2449864b',\n",
       " '14dac63a8e92005b685c7d39ddd8ed40',\n",
       " '1b6828700205a5552e8ab2464647021f',\n",
       " '5426536a887db1c8e0e635d90fdd460c',\n",
       " '9fbc55434909504c4c47fa6ee36fb0b3',\n",
       " '3a7d676acddfbd7f5cb3fceab8cd3aa4',\n",
       " '585aaff09df42cf4a6397a87224da814',\n",
       " '14831db5108c3b9c056efe04329a3916',\n",
       " '32b09857c983edf030d8b27136a841cc',\n",
       " 'f8bb3821edde56432a481b082247ef74',\n",
       " '987f79301ba859cffef952c94238a206',\n",
       " '0f09d93e5acf4df2d9038501d434d5e5',\n",
       " '13b6f9b3dcbab9a4ba4b5c3de3cd5f6f',\n",
       " '83bad7f33f93fdae0b33200ff3d66778',\n",
       " 'c4330f9bd1aaaf6229aaa8121a96472f',\n",
       " '372cc49af09cdecdb0290034a83b20b6',\n",
       " '6176a72621f847c62ea1e5da1f557f1d',\n",
       " 'e1c6c50bbaee219e7faf29e9c1c343ca',\n",
       " 'ca723dfb684285be9338d6c621a669df',\n",
       " '682308c7d0faa9e394545c2792ae7e9b',\n",
       " 'dafc9901d935400355c4a1266c3fed73',\n",
       " '2fa000699577a417b18ba0875e457564',\n",
       " '3073145644cdcd4bb89785870aecb630',\n",
       " 'd99ef4375ab82f363df39631016a1d49',\n",
       " 'fc7cb4a3ebea16f655d8655a5d85cad5',\n",
       " 'a56a7a20664f220674732d824604de44',\n",
       " 'd84710bbb1a21a2a8b5998e470d1d3cf',\n",
       " '94b3aaec44d9bb38ab0d6cdb15ce769e',\n",
       " 'c22c96451b2bb39cb7973fbda2eaefea',\n",
       " '899205b9082a382bcf11ddffd0799c41',\n",
       " '9c659a53dfb080036738108fdda4bcb5',\n",
       " 'd2711493173c25605b97067a6ede36d6',\n",
       " '60dc0b634487ca5c243799a9673f368e',\n",
       " '1c6785d832f3bd13c01ee474e3fbf5b3',\n",
       " '97293dde07811568ec22a04b4cde9fab',\n",
       " '18c6b3769a215ea325655dcc1b692c54',\n",
       " '452e58a7cfc482391e5ed7a25201f446',\n",
       " '4c5f883c288486d82908f6c14ac24d74',\n",
       " '2cf6c91192f2c2950635a4b8217fc34a',\n",
       " '42feb15909b1a7da5d85bc1a2baafe47',\n",
       " 'a0208af2ec02ce681b43a114029f6989',\n",
       " '00102ee9d8eb90812350685311fe5890',\n",
       " '0c6176b396e31ce7666185aa435be7e0',\n",
       " '42d9590a60f764850f55c94693e7566e',\n",
       " '5361283e7d99e055e283cbf1a5159b5b',\n",
       " '29ee32e55ed89846115db9088e4cbada',\n",
       " '85c13ab8a324ac101734de1251d4a551',\n",
       " 'de6cc38e54a460dd34c53b74f022a8da',\n",
       " '210f7ba6d18853dd9da8cd9e99562b8c',\n",
       " 'fa2f44a5e2c304e76f65bb9fa60ecb10',\n",
       " 'feef68785ccffe35c8d129bd725783b7',\n",
       " '8eb2d59b4f612268811fb7bb8daeb676',\n",
       " '50f067c811d3d356825e4653f30a67ec',\n",
       " 'b9cc833c7b665260cd7d4402e952ad58',\n",
       " '46d64fa64be77a9b6e5363ea3bdd72b8',\n",
       " 'c14b19ed793bb9c9b455d825cae44c3c',\n",
       " 'b76c3e9fa63c2bf06c0956a0a995d784',\n",
       " '7a7fffb0dd56e807e0f12e2260eb7fa8',\n",
       " '29cafb8c01f1f0861317c072559db310',\n",
       " 'f6b8d1787176be43d99bb3aa8fbff45f',\n",
       " 'e995cac3e30ce4e55d0f203c20cd0986',\n",
       " '41c140a5bb85485e947b031d5ba92585',\n",
       " 'b9dabc00c67a232007c059b13b03aa9b',\n",
       " '00a558277e1f03b71d8c813e03344ddf',\n",
       " 'df0196ea5d16d1570c1f2b567b975b90',\n",
       " 'f2c4131850c17dee485d48c2bb8a358e',\n",
       " 'a65cf5d43aea46c015916511ff4efc6e',\n",
       " '89fccf21bf9e8e577d448cc75d535a79',\n",
       " '386024ac883f8d7b13a4d27e4df36905',\n",
       " 'b1caee92d84ce6c100413a1f5cc32460',\n",
       " 'f33e9ed93787d73091d1c6f4dabc4c46',\n",
       " '5456177c013e9c3c124357c1b11a74f8',\n",
       " 'fb599fc7e59d082f35f3462310f16a12',\n",
       " '53228eb119340867718b808e363e3e5f',\n",
       " 'fa49b444c38455214ce24fa79e662cf4',\n",
       " 'f9c7abc6102dffc5745d77fac5d6881f',\n",
       " 'a72fcf5fcbb929fd82017b2c94c9352c',\n",
       " 'e6da14858db7781843db6af91551f627',\n",
       " '492c1ecc6dee91c3251766eeadd4ad9d',\n",
       " '868ba9e5a839149e47dd7c400c64a18f',\n",
       " '40f6997db1b822ed85a40a4b3831bf3f',\n",
       " '175988f267bc03d07e7ad7e406abd144',\n",
       " '4b6d0c31ec6bc300cb12de27ca5f2e91',\n",
       " 'cf5e297eeddf3be25200b2c8ac7e0c96',\n",
       " 'a14aa49a6e773fc746e61de84292e7fa',\n",
       " '8751ca428642432846491b6cbcac2588',\n",
       " '34a066be0c506f07fc4d2447e6005136',\n",
       " '4bbfdb65ca5794529a84f9f539bb4bba',\n",
       " 'a6f152a6be327ab48724fc58765c51d2',\n",
       " 'c5120a58c8b044f3968bb8bf8c281ac0',\n",
       " 'ab62afb54df52ba10a2481a1cdfc2c43',\n",
       " 'c533ef64743aa9d9431287b6fa3dc436',\n",
       " 'adcd11b22cfc3787fa2870614b1de1cf',\n",
       " 'd7cf793caa78dfc64e3b01c2d20d4c7d',\n",
       " '2b63b949feb86af0d6c52aec7ecbd8db',\n",
       " 'ed280557d6013c45e5bf89492fe44c1a',\n",
       " 'd346c8f2c14e1f602a74e895b0928e65',\n",
       " 'fa85d9951d7996c4c92ce5dc41d87dcd',\n",
       " 'cd1658a5857c3eaf2324b3f8598975d7',\n",
       " '5940f8f0eab42d8714cf44b4fee6e6bf',\n",
       " '3f9fb54bea1a6bf6c2a661ec0d213160',\n",
       " 'c153bb8aa922179a4bdb9cdc2a513d2c',\n",
       " '6aa7ea7a603a49723643c2fcf923dc1f',\n",
       " '058020dbdbd003cd198e88468b139013',\n",
       " '03281ed4ff1f0f4265d9f3d9940a839e',\n",
       " '5c873a3533849b784d2f250167eb7a70',\n",
       " '812c0a953a2c7f83ef54e54aa46fd510',\n",
       " '6a08052b90d01b1d3edb6f3beb8d4a29',\n",
       " '1119c5511941dd992da0f8f66b34e55c',\n",
       " '27a41d4814b22e0e6673ae0fa67883c6',\n",
       " 'cbcfda1cdf0d6fcd6d07471786c87fc8',\n",
       " '5dfc0321f7cdec9deeb8edecc05ceaff',\n",
       " 'bb589c9bae9914e82d398283e9b151df',\n",
       " '73da54912a7097f28624ead4244e49fa',\n",
       " '150d13d574dba18e286f2029ae99b7df',\n",
       " '6f926cea477d787b0cfdf3cc569ba21e',\n",
       " 'cfd0a66680b16d2479c28001a03b5c7a',\n",
       " '46fe1810343e4f3151f736649cf80836',\n",
       " '0fe9386d16a008c40f260dbf3bef4a00',\n",
       " '7308c95772b943b4603d4d48c4d9f058',\n",
       " 'e5ded7a736b3336729463af8d74a09c9',\n",
       " '5b1a1246d5596c873a86c0c5ecab23a4',\n",
       " 'ef59760870674327ca5d004bae427422',\n",
       " '86584e58605edfc9ef50fef65beac0e2',\n",
       " '394217aa781f327cf4c26beabc50f457',\n",
       " '1e37a0cfdae33c1ccb9e04574223817c',\n",
       " '9eaa7a13f259e77cd0b57e824ac7cd8f',\n",
       " '6b350b0a892207ba23555ad90ce0fd52',\n",
       " 'c9b4b55951148af15ae4ca46186716f0',\n",
       " 'd2dec608053c1cf80cae8116cd470cda',\n",
       " '5159d9f44e842776a1ff00dd46be9813',\n",
       " 'bec6516cc49448d28ae6ebe1390ba9df',\n",
       " 'b38611a8637d828eb0b47cd082471da8',\n",
       " 'e6a5c18da7beedb1622bf7d18b452121',\n",
       " 'ad04fa2b879c5675bbfe454d0a15881b',\n",
       " '131bdd75158af3e5c2816a330e6f83dd',\n",
       " 'd688fab5c2743e4ef263b1955668d53b',\n",
       " 'd00a7af75fc34b9358fc4d41198305ec',\n",
       " 'd75b525a57d91ebf47826956b0f2318e',\n",
       " 'd9434835690f981815711f3e0a04a1ff',\n",
       " '390de735a2798852dddb71d30202e54e',\n",
       " 'dddb2b191e1b1de4867f6f5e81236312',\n",
       " '381de4fab27fbb64824e39dfe1e09d0a',\n",
       " 'a1669b55f2449f27a21c5649abb4a0f4',\n",
       " '78e1dc4bfef9eae0bf251302e38d511e',\n",
       " '81359f8ea755fdc665286850d85f30f5',\n",
       " 'e2b4d6b6590fa2941e74238248093eb3',\n",
       " 'e91ffd67dd303f59029d041ff4fb65b8',\n",
       " '3283f57cf07f2f1f531e3018065d89b7',\n",
       " '645d9cf4b8c341cd96063c2ba73932c5',\n",
       " 'c8a02332902fb932af7edb0675ccbf75',\n",
       " '2228a74ceb7f95dcc6d6e27bf1810299',\n",
       " '759b62293aec1e5c5c308653e273bee9',\n",
       " '65661a7510092d8eac4b1bbc01c88204',\n",
       " 'c38de0c900cad4c84feabf6a753843f2',\n",
       " 'eb2e408930e0873deb85484ef46f07fd',\n",
       " 'f85ccd6fb240cd4771e80c1e3aeea571',\n",
       " 'db221443cef7851e8c23f3a921e0f381',\n",
       " 'f3df185234b2be78825de1ba63d6c554',\n",
       " '6ef6367cb598c8ed5a51bd90c94e353b',\n",
       " '9e5d2efa4652b8c7466cde1f470a2ea8',\n",
       " '79b6fcf07010c96281bd3b44448385ae',\n",
       " '2c93a523f3c975aaf10aa85bea49336e',\n",
       " '3861de980fd4e17b43fd70dcbdb89a50',\n",
       " 'e39be68f3200f0ecde589e571ae6df06',\n",
       " '75eb74a82c3dfd4d8b20c8165f273707',\n",
       " 'd850220fd30e7e47e8a1d9e14c543325',\n",
       " 'aebe384a26c75dc6bf33d64bb008539a',\n",
       " '19f85012f6cb636e921c947dc7c5b48d',\n",
       " '8e4a0289c98b5dc2f2740121b30911c6',\n",
       " '67dc12e769a11c880f5d23c26f942ce6',\n",
       " '4b15093699eaedb468688caebc3145e2',\n",
       " 'e24877545b682257ca77ae600df1fe37',\n",
       " '9f4396298da38cd0b275a292021f8153',\n",
       " '7f46a1814d40ec7af5438532726580d5',\n",
       " '93af520fcf77bcf0b432896c7cedfe6c',\n",
       " 'a8b4b6acc17dfe796c43e73bd9175a09',\n",
       " '24ddae4d4b53d75f6ff50ba37e5babbc',\n",
       " '7079ab4cef02d734535faa44f1846359',\n",
       " '5ffd97e5cba1d4f7150e21ad01324015',\n",
       " '4dae826e796b278b34544347f280ea7d',\n",
       " '2c485d139a3c374c2af80dbccd337f11',\n",
       " '9ab7200ef7989a89f77debd8a8bc676e',\n",
       " '8d75f78d7fb71a04aa911980328b8066',\n",
       " '603e084e0a198c465e8d69f0aed8459f',\n",
       " '1dde5b25d631702223f5f3e47d01c98e',\n",
       " '2c4aa9f45e9574a55abc987533afba0b',\n",
       " '1f251d341286cb5376b6f2c37c74d627',\n",
       " '9a698b35679ff4911f4c2a816ca1c1b0',\n",
       " 'abf859385eda96155ab8cc68c66170f0',\n",
       " 'c481264ad14cf032fd8974cee91c225e',\n",
       " '9d95afa759f8d795dcc7082e6ebf9290',\n",
       " '119f675da55ad20f8033218d33d3ec7b',\n",
       " '26ca845b343fd116bb5e6ff68f6c29a3',\n",
       " 'dbc298c3834590263050e68d1e92057a',\n",
       " '2040d24ed09224e8127ab42db1a881af',\n",
       " '3c52947ad6db1601beb339ef2da139c1',\n",
       " 'bf9748d30ccd5d60923bb5865038ef77',\n",
       " 'd4c6d9c40b58fc16c0b42532a21406b3',\n",
       " '223d756d28558360245944689cc2a988',\n",
       " '85624000301b28c675b431de0b67a98a',\n",
       " 'bafa0a59a0895469d29af27856f8901c',\n",
       " '87ad1f3a3f053c5134027821af3fce66',\n",
       " '66b729a6e351d4fd217bfe0c0fa8469a',\n",
       " '8646d62c1e40c6a1806b472508200b89',\n",
       " '8b33a560e7fb076fc991b3eaedf68ca0',\n",
       " '5415db8f55096e6687a1d3a11dc5ada4',\n",
       " 'fc7c34b64c3dc982db60e50b656983fc',\n",
       " 'dda9df5ec2de82082127c99052fd077b',\n",
       " '3f2c7563e694db6b5addaf51a826b8a0',\n",
       " '5b39f8a024aeced5e29da4f45af8813b',\n",
       " '221420675ba5da811ee6f89ad7065556',\n",
       " '55df884100dc84946a99925a3c03df2f',\n",
       " '5bf00f0d35a1f999f4a0ba5a5e24eaa7',\n",
       " '729cd52d9bfe20f94353f809f24680b3',\n",
       " '6eb02e880979a02e155b62cf68d4345d',\n",
       " 'c1aa9ed261bd003502bee2dd5e267d13',\n",
       " 'f05795a39e9c06d0aa6ad345302a393d',\n",
       " '572031649ae84a1efa882169fc6e1e86',\n",
       " 'a249e1b6752e56145f24f8cc4c8ccae8',\n",
       " '0655d32154c2ea4f2c4715ad0ff00652',\n",
       " 'abebde94c9f5e121a51ef329f3d47cae',\n",
       " '57bb7cd827e0afec4d761aefaeb08996',\n",
       " 'ea369808f5d3c8fef21c674b80564e35',\n",
       " '638d0f979c181b00c07a588299d8f5ff',\n",
       " '8bcd9b2e171111039c45518139d0417d',\n",
       " '7328278cb2528f065f1c33b69a53ff99',\n",
       " '18f330c68ce2bdf7291b10baa3561e63',\n",
       " '97ff87a80a1d4f1dfce697dd1938caf0',\n",
       " 'eef2fd5db98424ae214e176a910e9e3b',\n",
       " 'd2f9fbdaa33d1bc99a4366b350022994',\n",
       " '8e40a193b893c813a32d9d2f6c2e0dee',\n",
       " '9459d3e37e929a0c0130abe1786778be',\n",
       " '83aa8e95141a9f40672475a02f3b47a6',\n",
       " '326dae32cdc68ad402b216ea2a5d47e2',\n",
       " '83a8010c4b5ab0747059400f473ac668',\n",
       " '3f9c221d07748dd36c06e196c751be51',\n",
       " '06123f6d7878605bbe7b17ae80bac9b0',\n",
       " '3cc9adc023849da1316cfeb2bb53867f',\n",
       " '64747fb71fc843492ec8dce0be872b60',\n",
       " '79b5eae9c0e5c4acec686d49a380d5c8',\n",
       " 'ad7e8545dad896b273b8ba34c32df21c',\n",
       " 'f687b2ec96d346e2c88934855f3c3b12',\n",
       " '3e56d2ee169e78770bdc6881e1ebcb4f',\n",
       " 'f2081ded3fa95eb118ff88b7eaad992e',\n",
       " 'e00e5f7f822fd670bba314f87cce8428',\n",
       " '8a2645e4a739d5076793f3e05de2ec70',\n",
       " '944ea3391bb6a61ffb5ddd611d17e06d',\n",
       " 'f4eb5c8121abd476cfc36684e74e83a5',\n",
       " 'ea6d2d4271393459e70d77e1026737b5',\n",
       " '95ff3f7cbb97fd0f5911da22d49e18d8',\n",
       " 'a7afea88213f22bc1501612f33f30f45',\n",
       " 'f73c6b6891b3e40a6bc9dd26f4e65767',\n",
       " '46e1c0d9def5de8af392037dc4f84461',\n",
       " 'bcfcbf92568d91027d751596421b47a5',\n",
       " 'f968527661824f3b3b7e640b646a4c3d',\n",
       " 'a55b2f44345bc40907975e3e0cb0ca22',\n",
       " 'ebf7096a543da53b1e4759753aedad26',\n",
       " '1e2ae145265abe3df5056043f5f73c68',\n",
       " 'b19f7853f6b2b84a99fc3b7c8a8eaa64',\n",
       " '8bbb4408f2dbcd27b4b750f3749173d3',\n",
       " '31f345cb82327dbcede32f0171a21996',\n",
       " 'bbb501facf5f18996702587b1d69e186',\n",
       " '575a7fff5f056a3b32e9e14ad46d6f56',\n",
       " 'ec5dffe4232cc203b4332d18952d415d',\n",
       " 'dc24cbb988ae248df2c37cb9b475f44d',\n",
       " 'f1c1f35ca91cd9d007f957da29aa087e',\n",
       " 'fe5b0ff9c37898f10c534a8218d054a6',\n",
       " 'b9246b71e7cd67f936b838ec3323e39f',\n",
       " 'a52987023c657190aa20a31dbc399df2',\n",
       " '7ebdd13f29a86637dffab6a2bf6945a4',\n",
       " 'c71a4969aee06783edcdb204a6245372',\n",
       " 'd37849fa76cb8461fe805c8462993337',\n",
       " 'a87389ccf3e82e66fcbab9426d4f50ab',\n",
       " '0da09e8ff1c1fe09c4ff0b18f01f3c70',\n",
       " '9216c4467e82f86c0c356b08cd46bdb2',\n",
       " 'a408e776f8b93ce22a3542a89218820f',\n",
       " 'd4bbad71c201ac8fb9a138bc5fff79d1',\n",
       " 'ffd87c3e44faa0e3ee5fbbdc4c63b59b',\n",
       " '85c9d2802ea11ac1baa5f941f60f046b',\n",
       " '06603bac954d5a150ac83836f2bd6c9b',\n",
       " '79fff784c76c74ff4ba181e6717f3f07',\n",
       " 'ff9b317696e29ca8cd27da30a896edcd',\n",
       " 'f14fea2fe647a06dce75eb19dbf1273f',\n",
       " '007ed71136966728f5c0936e23c8286b',\n",
       " '1834e4243c1b87f50239cb519d7b69d1',\n",
       " 'fa9cacf553c34c99d08e93dce7dbf3f7',\n",
       " '13d7f2f5ce86397e813dcf24d6cc449d',\n",
       " '71df16c0d40fc027a2427dae656d660f',\n",
       " '6d32ef9ae09035abec814438ea09b320',\n",
       " '77037f4cc5978efa8ed4109b78672790',\n",
       " 'da316b3810125758e911850b9c389ce9',\n",
       " '33dbae629a6dbea862671b1b47dbd10e',\n",
       " 'c3d7aa611435178b46f343dc9ecbf140',\n",
       " '8e3c42260a19524d2656ffedf34a008a',\n",
       " 'd0273d9cda7e33ae5a22c14b305d8216',\n",
       " 'd692a6478adad859ec20a3e039f51541',\n",
       " 'f18141846c17b423f3f1df37ef294138',\n",
       " 'd9ad7f21c3efa2f7a9bf39835214b5a5',\n",
       " 'b613c9f4c2cfe2aebbd232007449a73c',\n",
       " '1ae997fa034dbf03ad61ffabbdfe4d9a',\n",
       " '91509dedbc2414e9a97cd9d831ddcc9c',\n",
       " '69fecc0bd746007e901cd996fbba7376',\n",
       " '6fb4a20253ff3a2fdc0c1e78878b092c',\n",
       " 'e1e79b3edfb3579e46ad914bf755dbbc',\n",
       " '30381b342972d44e7f9fdebd169c9802',\n",
       " '0f13a35521e28485de8cc802e429b324',\n",
       " 'cfc0a54d5dfa31615c0262dacb4fb4e2',\n",
       " '380dd7b2b1c76c3c91a65b4b35d1f0ea',\n",
       " 'beee2454d9f9ad6d3e754d5092bfa7be',\n",
       " '7a23ff98d2a0f7a78c0e23d0d2a7ee88',\n",
       " '473552792cd0ab8808522efe0b46767b',\n",
       " '44a596ab62489bdf368f58e2d246333e',\n",
       " '4beff00d6b5285d5dff491a494da0220',\n",
       " '71f115fe5693ef5d46741d556953c9fe',\n",
       " 'f6e209dbbd97aadf518f16d18a807ffb',\n",
       " 'f361999cc41b3d83214d8104c91c672d',\n",
       " '8c55bc2ffeba5ca56a0557998b5521d8',\n",
       " '5e28538c9fedbbda51221a250ff07e8f',\n",
       " '14495a39476bf7fb3ef0971c1edd76cb',\n",
       " 'f47e4614a5d7d190cf95b4b9c1e78576',\n",
       " 'df92d68c07ec91b2f67cec77980e00cf',\n",
       " '7f54b3316272d8295f39d32ff5e29bd8',\n",
       " '800025d672e2116b5d80f6712d82754f',\n",
       " 'bb3a244f446ae4a787aef5e5e2983eb1',\n",
       " '4126427a279eb11ab8477d1119b9c303',\n",
       " 'f609908d57eecf338ad04385125da400',\n",
       " '7a69fea783722c14771a74c166459c19',\n",
       " '0917cea14ed14bb43c7ca5ead4f38266',\n",
       " '8d8b5a5a78a08b7e034b4c68bafeb966',\n",
       " 'a4e8a2b98ab80f5341070eb173dff5f9',\n",
       " '996612533635b96b1f1722c8e2ee2b60',\n",
       " 'fab226ee8670c55f8278fba8394da957',\n",
       " 'fb1493c964bd07227bee28b3afc0477d',\n",
       " '1a12a1ebb9a7575f340509c6df35b322',\n",
       " 'fb4e83088052dc7cf09a2bc7f06d9846',\n",
       " '8e2c33227fe576c8079aa41a5d177fb8',\n",
       " 'b9e8990b15b719aba1e1621cfa63f636',\n",
       " 'b599f00174abdda7a13ed33b5525c18d',\n",
       " '5285d76c43989ce81eace2d4936213ef',\n",
       " 'c9b5ef4e8ad158bf804452ed2e663374',\n",
       " '92d8243cb9921e3fdad6d49977b1ae9e',\n",
       " '67a97d6b72d2fadfb3fbbf29cfdd9eb1',\n",
       " '22b388b0a3db051c4adf4e9d6f0af6ee',\n",
       " '63488f725c21353259202d92b74475a8',\n",
       " 'ea3e496d0dd2b7c24ae8c9a0fea57060',\n",
       " '35dacad1732794561c26e1fbf41aae8a',\n",
       " 'cb12e88030031c226cea73dc75c3e7aa',\n",
       " '68a431210de4e162359184b1699017e5',\n",
       " '015a6039ba5ca1a76b7f856c654ee9a1',\n",
       " '2ea6a530d3ad5299f898fc44297cf6d7',\n",
       " 'bdf8a4591c9c2e92ca397276008c1600',\n",
       " '0a50246e67da6ea8baa16d59a90810e8',\n",
       " '8f50a3bfee66f8416c35e0e471e29387',\n",
       " 'c94cb08d0725ef8fe7647266def87b35',\n",
       " '602229ea705451bcf681c22713b78245',\n",
       " '6b567e4ee22d14614b8c4841f755b32b',\n",
       " '8fe6f24061b93340682ebbe85224d4f2',\n",
       " '5455496508af49e178e5caef97749034',\n",
       " 'a43785b198ee58d7bba667e9c5db124d',\n",
       " '8242672e1f875709f0959d6fa7d936bc',\n",
       " '999c1c3fa1dd0e0c05f9b94abae37903',\n",
       " '93e40f4032dddf8130ae96bbf5f9180b',\n",
       " '157202e0e3111c28ca1e9fe44a5e5cad',\n",
       " '7840efe33c08834a28e2d5ebc1386353',\n",
       " 'd73332e902de7569ca81511c89ea029a',\n",
       " '1c5da5955523a5d134307f98dc8b8fc8',\n",
       " '58c9184e27d29fc3414627f36c6e2d25',\n",
       " '599023893bc3656005623501aac7f3d5',\n",
       " 'f3d0cbdba1dab4f22ab5510723dd969a',\n",
       " '94cd0c3d8776791a957b9c8e53bbdf6b',\n",
       " 'dff4932a639f0bf9b1e693fff89fc898',\n",
       " 'a652df547c64622636801ed83e8611b7',\n",
       " '5480a57ffcb4fe9e2dae345ecfb400db',\n",
       " 'd513759be0d83cdcaa666a30ad5fd910',\n",
       " 'f6aa8cb9239c3b17af100952d7301d58',\n",
       " 'c93ebdfbbc32cfa8bd9baa5015d0c00b',\n",
       " '4ae92c29dd23f08ee3ba8fa41e3539f5',\n",
       " '11fd8887c88af2cad11b1f0824bbb3b2',\n",
       " '622e9fe5354b256219688de0646e7cc0',\n",
       " '0518d41fa95b141f8267a3d2e2cef756',\n",
       " '148e793bb3b9d3c45de681e744752fcf',\n",
       " 'd9f9c5a8675985b5ac75984948a2f7c2',\n",
       " '905267bd815441ff829cce3be24c6d71',\n",
       " '52acfa995434f4623164fa27dcdb98c8',\n",
       " 'c1487e8b751bd17f4ffafacc256c3c8a',\n",
       " '113e3722370b3cd0d1cfbb44e5b3b840',\n",
       " 'bbd6ebf6cea000cf5df2c649b138959d',\n",
       " '54583b43388c5d5b76f6e8177203be59',\n",
       " 'e83f4c0ff6dec86d89d0f8b70ecd3cea',\n",
       " '56ccf9b4e3566b5e87dd0a262b294917',\n",
       " '3a4c5ff38cc789af065aaee7b0ac8363',\n",
       " '66d14166c9c17b9915c8b8bd515c04a3',\n",
       " 'eb93d2e66035f0e6d51cca097c4a770e',\n",
       " 'b0e403fe42c1c2cd65c143572e86ee7f',\n",
       " '5df6418667553eb07d5ac51c247508c6',\n",
       " '580f38c5f64221a2b0fcc4a823db2fb9',\n",
       " 'ecba66c5313a2a5fd4017a039a9501b6',\n",
       " 'e402619cf0a1766811068db0dd42fbae',\n",
       " 'db452183419c47a946df1366161f5b19',\n",
       " '877cb64ef00dfaab72274b477588a816',\n",
       " '82d61a26d714398bea3d82e5ace7538a',\n",
       " 'e061b8d24e7b1324a6ac92ae81fdda19',\n",
       " '878436669bd26a94e682f7aad8efce9c',\n",
       " 'b67414380e9218f96f605f4eceef9fab',\n",
       " 'a078bfbb16bdde672dbbbad13ff9e04a',\n",
       " 'b46e5c6e20f384eec6570c8845b7dd01',\n",
       " 'c080c4653abc3ca0c48dbd2f1af3c846',\n",
       " '62d5e7439b20721d154bff6d51f0d2a8',\n",
       " '0db93e224b1144f48aa1c9572fa849b1',\n",
       " 'f3cbc8bcd54963296f75377d6fe931d3',\n",
       " '27b5e7fa6ca8f88a4bc5f023145c89a4',\n",
       " 'c1eb0234a9f32590cc3c829dbb2bd8db',\n",
       " ...]"
      ]
     },
     "execution_count": 94,
     "metadata": {},
     "output_type": "execute_result"
    }
   ],
   "source": [
    "fn = data.test_ds.fnames[:]\n",
    "ids =[f.split(r'/')[1].split('.')[0] for f in fn];"
   ]
  },
  {
   "cell_type": "code",
   "execution_count": 74,
   "metadata": {},
   "outputs": [],
   "source": [
    "learn.load('dogbreeds_224_2nd_good')"
   ]
  },
  {
   "cell_type": "code",
   "execution_count": 75,
   "metadata": {},
   "outputs": [],
   "source": [
    "log_preds = learn.predict(is_test=True)"
   ]
  },
  {
   "cell_type": "code",
   "execution_count": 76,
   "metadata": {},
   "outputs": [
    {
     "data": {
      "text/plain": [
       "(10357, 120)"
      ]
     },
     "execution_count": 76,
     "metadata": {},
     "output_type": "execute_result"
    }
   ],
   "source": [
    "log_preds.shape"
   ]
  },
  {
   "cell_type": "code",
   "execution_count": 79,
   "metadata": {},
   "outputs": [
    {
     "data": {
      "text/plain": [
       "(10357, 120)"
      ]
     },
     "execution_count": 79,
     "metadata": {},
     "output_type": "execute_result"
    }
   ],
   "source": [
    "probs = np.exp(log_preds)\n",
    "probs\n",
    "probs.shape"
   ]
  },
  {
   "cell_type": "code",
   "execution_count": 80,
   "metadata": {},
   "outputs": [
    {
     "data": {
      "text/html": [
       "<div>\n",
       "<style scoped>\n",
       "    .dataframe tbody tr th:only-of-type {\n",
       "        vertical-align: middle;\n",
       "    }\n",
       "\n",
       "    .dataframe tbody tr th {\n",
       "        vertical-align: top;\n",
       "    }\n",
       "\n",
       "    .dataframe thead th {\n",
       "        text-align: right;\n",
       "    }\n",
       "</style>\n",
       "<table border=\"1\" class=\"dataframe\">\n",
       "  <thead>\n",
       "    <tr style=\"text-align: right;\">\n",
       "      <th></th>\n",
       "      <th>id</th>\n",
       "      <th>affenpinscher</th>\n",
       "      <th>afghan_hound</th>\n",
       "      <th>african_hunting_dog</th>\n",
       "      <th>airedale</th>\n",
       "      <th>american_staffordshire_terrier</th>\n",
       "      <th>appenzeller</th>\n",
       "      <th>australian_terrier</th>\n",
       "      <th>basenji</th>\n",
       "      <th>basset</th>\n",
       "      <th>...</th>\n",
       "      <th>toy_poodle</th>\n",
       "      <th>toy_terrier</th>\n",
       "      <th>vizsla</th>\n",
       "      <th>walker_hound</th>\n",
       "      <th>weimaraner</th>\n",
       "      <th>welsh_springer_spaniel</th>\n",
       "      <th>west_highland_white_terrier</th>\n",
       "      <th>whippet</th>\n",
       "      <th>wire-haired_fox_terrier</th>\n",
       "      <th>yorkshire_terrier</th>\n",
       "    </tr>\n",
       "  </thead>\n",
       "  <tbody>\n",
       "    <tr>\n",
       "      <th>0</th>\n",
       "      <td>000621fb3cbb32d8935728e48679680e</td>\n",
       "      <td>0.008333</td>\n",
       "      <td>0.008333</td>\n",
       "      <td>0.008333</td>\n",
       "      <td>0.008333</td>\n",
       "      <td>0.008333</td>\n",
       "      <td>0.008333</td>\n",
       "      <td>0.008333</td>\n",
       "      <td>0.008333</td>\n",
       "      <td>0.008333</td>\n",
       "      <td>...</td>\n",
       "      <td>0.008333</td>\n",
       "      <td>0.008333</td>\n",
       "      <td>0.008333</td>\n",
       "      <td>0.008333</td>\n",
       "      <td>0.008333</td>\n",
       "      <td>0.008333</td>\n",
       "      <td>0.008333</td>\n",
       "      <td>0.008333</td>\n",
       "      <td>0.008333</td>\n",
       "      <td>0.008333</td>\n",
       "    </tr>\n",
       "    <tr>\n",
       "      <th>1</th>\n",
       "      <td>00102ee9d8eb90812350685311fe5890</td>\n",
       "      <td>0.008333</td>\n",
       "      <td>0.008333</td>\n",
       "      <td>0.008333</td>\n",
       "      <td>0.008333</td>\n",
       "      <td>0.008333</td>\n",
       "      <td>0.008333</td>\n",
       "      <td>0.008333</td>\n",
       "      <td>0.008333</td>\n",
       "      <td>0.008333</td>\n",
       "      <td>...</td>\n",
       "      <td>0.008333</td>\n",
       "      <td>0.008333</td>\n",
       "      <td>0.008333</td>\n",
       "      <td>0.008333</td>\n",
       "      <td>0.008333</td>\n",
       "      <td>0.008333</td>\n",
       "      <td>0.008333</td>\n",
       "      <td>0.008333</td>\n",
       "      <td>0.008333</td>\n",
       "      <td>0.008333</td>\n",
       "    </tr>\n",
       "    <tr>\n",
       "      <th>2</th>\n",
       "      <td>0012a730dfa437f5f3613fb75efcd4ce</td>\n",
       "      <td>0.008333</td>\n",
       "      <td>0.008333</td>\n",
       "      <td>0.008333</td>\n",
       "      <td>0.008333</td>\n",
       "      <td>0.008333</td>\n",
       "      <td>0.008333</td>\n",
       "      <td>0.008333</td>\n",
       "      <td>0.008333</td>\n",
       "      <td>0.008333</td>\n",
       "      <td>...</td>\n",
       "      <td>0.008333</td>\n",
       "      <td>0.008333</td>\n",
       "      <td>0.008333</td>\n",
       "      <td>0.008333</td>\n",
       "      <td>0.008333</td>\n",
       "      <td>0.008333</td>\n",
       "      <td>0.008333</td>\n",
       "      <td>0.008333</td>\n",
       "      <td>0.008333</td>\n",
       "      <td>0.008333</td>\n",
       "    </tr>\n",
       "    <tr>\n",
       "      <th>3</th>\n",
       "      <td>001510bc8570bbeee98c8d80c8a95ec1</td>\n",
       "      <td>0.008333</td>\n",
       "      <td>0.008333</td>\n",
       "      <td>0.008333</td>\n",
       "      <td>0.008333</td>\n",
       "      <td>0.008333</td>\n",
       "      <td>0.008333</td>\n",
       "      <td>0.008333</td>\n",
       "      <td>0.008333</td>\n",
       "      <td>0.008333</td>\n",
       "      <td>...</td>\n",
       "      <td>0.008333</td>\n",
       "      <td>0.008333</td>\n",
       "      <td>0.008333</td>\n",
       "      <td>0.008333</td>\n",
       "      <td>0.008333</td>\n",
       "      <td>0.008333</td>\n",
       "      <td>0.008333</td>\n",
       "      <td>0.008333</td>\n",
       "      <td>0.008333</td>\n",
       "      <td>0.008333</td>\n",
       "    </tr>\n",
       "    <tr>\n",
       "      <th>4</th>\n",
       "      <td>001a5f3114548acdefa3d4da05474c2e</td>\n",
       "      <td>0.008333</td>\n",
       "      <td>0.008333</td>\n",
       "      <td>0.008333</td>\n",
       "      <td>0.008333</td>\n",
       "      <td>0.008333</td>\n",
       "      <td>0.008333</td>\n",
       "      <td>0.008333</td>\n",
       "      <td>0.008333</td>\n",
       "      <td>0.008333</td>\n",
       "      <td>...</td>\n",
       "      <td>0.008333</td>\n",
       "      <td>0.008333</td>\n",
       "      <td>0.008333</td>\n",
       "      <td>0.008333</td>\n",
       "      <td>0.008333</td>\n",
       "      <td>0.008333</td>\n",
       "      <td>0.008333</td>\n",
       "      <td>0.008333</td>\n",
       "      <td>0.008333</td>\n",
       "      <td>0.008333</td>\n",
       "    </tr>\n",
       "  </tbody>\n",
       "</table>\n",
       "<p>5 rows × 121 columns</p>\n",
       "</div>"
      ],
      "text/plain": [
       "                                 id  affenpinscher  afghan_hound  \\\n",
       "0  000621fb3cbb32d8935728e48679680e       0.008333      0.008333   \n",
       "1  00102ee9d8eb90812350685311fe5890       0.008333      0.008333   \n",
       "2  0012a730dfa437f5f3613fb75efcd4ce       0.008333      0.008333   \n",
       "3  001510bc8570bbeee98c8d80c8a95ec1       0.008333      0.008333   \n",
       "4  001a5f3114548acdefa3d4da05474c2e       0.008333      0.008333   \n",
       "\n",
       "   african_hunting_dog  airedale  american_staffordshire_terrier  appenzeller  \\\n",
       "0             0.008333  0.008333                        0.008333     0.008333   \n",
       "1             0.008333  0.008333                        0.008333     0.008333   \n",
       "2             0.008333  0.008333                        0.008333     0.008333   \n",
       "3             0.008333  0.008333                        0.008333     0.008333   \n",
       "4             0.008333  0.008333                        0.008333     0.008333   \n",
       "\n",
       "   australian_terrier   basenji    basset        ...          toy_poodle  \\\n",
       "0            0.008333  0.008333  0.008333        ...            0.008333   \n",
       "1            0.008333  0.008333  0.008333        ...            0.008333   \n",
       "2            0.008333  0.008333  0.008333        ...            0.008333   \n",
       "3            0.008333  0.008333  0.008333        ...            0.008333   \n",
       "4            0.008333  0.008333  0.008333        ...            0.008333   \n",
       "\n",
       "   toy_terrier    vizsla  walker_hound  weimaraner  welsh_springer_spaniel  \\\n",
       "0     0.008333  0.008333      0.008333    0.008333                0.008333   \n",
       "1     0.008333  0.008333      0.008333    0.008333                0.008333   \n",
       "2     0.008333  0.008333      0.008333    0.008333                0.008333   \n",
       "3     0.008333  0.008333      0.008333    0.008333                0.008333   \n",
       "4     0.008333  0.008333      0.008333    0.008333                0.008333   \n",
       "\n",
       "   west_highland_white_terrier   whippet  wire-haired_fox_terrier  \\\n",
       "0                     0.008333  0.008333                 0.008333   \n",
       "1                     0.008333  0.008333                 0.008333   \n",
       "2                     0.008333  0.008333                 0.008333   \n",
       "3                     0.008333  0.008333                 0.008333   \n",
       "4                     0.008333  0.008333                 0.008333   \n",
       "\n",
       "   yorkshire_terrier  \n",
       "0           0.008333  \n",
       "1           0.008333  \n",
       "2           0.008333  \n",
       "3           0.008333  \n",
       "4           0.008333  \n",
       "\n",
       "[5 rows x 121 columns]"
      ]
     },
     "execution_count": 80,
     "metadata": {},
     "output_type": "execute_result"
    }
   ],
   "source": [
    "#### gen submission file\n",
    "sub_df = pd.read_csv(f'{PATH}sample_submission.csv')\n",
    "sub_df.head()"
   ]
  },
  {
   "cell_type": "code",
   "execution_count": 81,
   "metadata": {},
   "outputs": [
    {
     "data": {
      "text/plain": [
       "(10357, 121)"
      ]
     },
     "execution_count": 81,
     "metadata": {},
     "output_type": "execute_result"
    }
   ],
   "source": [
    "sub_df.shape"
   ]
  },
  {
   "cell_type": "code",
   "execution_count": 85,
   "metadata": {},
   "outputs": [
    {
     "data": {
      "text/plain": [
       "(10357, 120)"
      ]
     },
     "execution_count": 85,
     "metadata": {},
     "output_type": "execute_result"
    }
   ],
   "source": [
    "probs_1 = np.zeros(probs.shape);\n",
    "\n",
    "for i in range(len(ids)):\n",
    "    idx = np.where(np.array(ids) == sub_df.loc[i,'id'])\n",
    "    idx = idx[0][0]\n",
    "    probs_1[i] = probs[i]\n",
    "    i = i+1\n",
    "\n",
    "probs_1.shape\n",
    "\n"
   ]
  },
  {
   "cell_type": "code",
   "execution_count": 86,
   "metadata": {},
   "outputs": [
    {
     "data": {
      "text/plain": [
       "121"
      ]
     },
     "execution_count": 86,
     "metadata": {},
     "output_type": "execute_result"
    }
   ],
   "source": [
    "column_lists = sub_df.columns.tolist()\n",
    "len(column_lists)"
   ]
  },
  {
   "cell_type": "code",
   "execution_count": 87,
   "metadata": {},
   "outputs": [
    {
     "data": {
      "text/plain": [
       "(10357, 120)"
      ]
     },
     "execution_count": 87,
     "metadata": {},
     "output_type": "execute_result"
    }
   ],
   "source": [
    "result_df = pd.DataFrame(data=probs_1)\n",
    "result_df.shape"
   ]
  },
  {
   "cell_type": "markdown",
   "metadata": {},
   "source": [
    "#### must re order to submit correctly"
   ]
  },
  {
   "cell_type": "code",
   "execution_count": 89,
   "metadata": {},
   "outputs": [
    {
     "data": {
      "text/html": [
       "<div>\n",
       "<style scoped>\n",
       "    .dataframe tbody tr th:only-of-type {\n",
       "        vertical-align: middle;\n",
       "    }\n",
       "\n",
       "    .dataframe tbody tr th {\n",
       "        vertical-align: top;\n",
       "    }\n",
       "\n",
       "    .dataframe thead th {\n",
       "        text-align: right;\n",
       "    }\n",
       "</style>\n",
       "<table border=\"1\" class=\"dataframe\">\n",
       "  <thead>\n",
       "    <tr style=\"text-align: right;\">\n",
       "      <th></th>\n",
       "      <th>id</th>\n",
       "      <th>affenpinscher</th>\n",
       "      <th>afghan_hound</th>\n",
       "      <th>african_hunting_dog</th>\n",
       "      <th>airedale</th>\n",
       "      <th>american_staffordshire_terrier</th>\n",
       "      <th>appenzeller</th>\n",
       "      <th>australian_terrier</th>\n",
       "      <th>basenji</th>\n",
       "      <th>basset</th>\n",
       "      <th>...</th>\n",
       "      <th>toy_poodle</th>\n",
       "      <th>toy_terrier</th>\n",
       "      <th>vizsla</th>\n",
       "      <th>walker_hound</th>\n",
       "      <th>weimaraner</th>\n",
       "      <th>welsh_springer_spaniel</th>\n",
       "      <th>west_highland_white_terrier</th>\n",
       "      <th>whippet</th>\n",
       "      <th>wire-haired_fox_terrier</th>\n",
       "      <th>yorkshire_terrier</th>\n",
       "    </tr>\n",
       "  </thead>\n",
       "  <tbody>\n",
       "    <tr>\n",
       "      <th>0</th>\n",
       "      <td>000621fb3cbb32d8935728e48679680e</td>\n",
       "      <td>1.466378e-07</td>\n",
       "      <td>4.218020e-05</td>\n",
       "      <td>5.612704e-08</td>\n",
       "      <td>2.037965e-06</td>\n",
       "      <td>4.681564e-08</td>\n",
       "      <td>6.860812e-10</td>\n",
       "      <td>3.100104e-07</td>\n",
       "      <td>1.061332e-08</td>\n",
       "      <td>2.437208e-07</td>\n",
       "      <td>...</td>\n",
       "      <td>7.098815e-05</td>\n",
       "      <td>2.320869e-08</td>\n",
       "      <td>6.359781e-07</td>\n",
       "      <td>8.591200e-10</td>\n",
       "      <td>7.011459e-08</td>\n",
       "      <td>1.100864e-08</td>\n",
       "      <td>4.693883e-09</td>\n",
       "      <td>2.104961e-08</td>\n",
       "      <td>4.380369e-07</td>\n",
       "      <td>1.183549e-08</td>\n",
       "    </tr>\n",
       "    <tr>\n",
       "      <th>1</th>\n",
       "      <td>00102ee9d8eb90812350685311fe5890</td>\n",
       "      <td>3.051790e-06</td>\n",
       "      <td>1.970722e-06</td>\n",
       "      <td>5.676856e-06</td>\n",
       "      <td>4.218840e-05</td>\n",
       "      <td>4.346770e-07</td>\n",
       "      <td>1.737860e-07</td>\n",
       "      <td>7.060091e-08</td>\n",
       "      <td>1.271455e-07</td>\n",
       "      <td>3.393017e-06</td>\n",
       "      <td>...</td>\n",
       "      <td>5.340399e-08</td>\n",
       "      <td>1.668954e-08</td>\n",
       "      <td>2.606714e-06</td>\n",
       "      <td>2.175117e-06</td>\n",
       "      <td>5.970415e-06</td>\n",
       "      <td>4.243705e-07</td>\n",
       "      <td>4.714965e-07</td>\n",
       "      <td>1.627142e-05</td>\n",
       "      <td>1.677192e-05</td>\n",
       "      <td>3.383854e-07</td>\n",
       "    </tr>\n",
       "    <tr>\n",
       "      <th>2</th>\n",
       "      <td>0012a730dfa437f5f3613fb75efcd4ce</td>\n",
       "      <td>5.983956e-07</td>\n",
       "      <td>1.518265e-05</td>\n",
       "      <td>2.347699e-07</td>\n",
       "      <td>1.415529e-06</td>\n",
       "      <td>1.728936e-06</td>\n",
       "      <td>1.482218e-05</td>\n",
       "      <td>3.091321e-07</td>\n",
       "      <td>7.670000e-07</td>\n",
       "      <td>9.619170e-05</td>\n",
       "      <td>...</td>\n",
       "      <td>3.317003e-07</td>\n",
       "      <td>3.521933e-06</td>\n",
       "      <td>6.427006e-06</td>\n",
       "      <td>1.630764e-03</td>\n",
       "      <td>1.436473e-05</td>\n",
       "      <td>8.072730e-07</td>\n",
       "      <td>5.077055e-07</td>\n",
       "      <td>6.394374e-07</td>\n",
       "      <td>2.035226e-07</td>\n",
       "      <td>1.386533e-07</td>\n",
       "    </tr>\n",
       "    <tr>\n",
       "      <th>3</th>\n",
       "      <td>001510bc8570bbeee98c8d80c8a95ec1</td>\n",
       "      <td>2.331645e-03</td>\n",
       "      <td>7.932706e-06</td>\n",
       "      <td>7.108343e-06</td>\n",
       "      <td>1.865121e-06</td>\n",
       "      <td>1.610537e-05</td>\n",
       "      <td>3.785919e-07</td>\n",
       "      <td>1.087746e-04</td>\n",
       "      <td>2.807767e-06</td>\n",
       "      <td>2.711915e-05</td>\n",
       "      <td>...</td>\n",
       "      <td>4.296474e-03</td>\n",
       "      <td>3.403944e-05</td>\n",
       "      <td>4.107603e-06</td>\n",
       "      <td>4.432040e-06</td>\n",
       "      <td>5.633060e-06</td>\n",
       "      <td>2.490404e-06</td>\n",
       "      <td>7.066171e-05</td>\n",
       "      <td>1.097232e-05</td>\n",
       "      <td>5.081657e-07</td>\n",
       "      <td>5.334602e-03</td>\n",
       "    </tr>\n",
       "    <tr>\n",
       "      <th>4</th>\n",
       "      <td>001a5f3114548acdefa3d4da05474c2e</td>\n",
       "      <td>4.076669e-09</td>\n",
       "      <td>2.508298e-09</td>\n",
       "      <td>8.170144e-08</td>\n",
       "      <td>4.072108e-09</td>\n",
       "      <td>4.917470e-08</td>\n",
       "      <td>1.276937e-09</td>\n",
       "      <td>2.709480e-07</td>\n",
       "      <td>1.856335e-09</td>\n",
       "      <td>1.634453e-08</td>\n",
       "      <td>...</td>\n",
       "      <td>2.635692e-06</td>\n",
       "      <td>4.900579e-08</td>\n",
       "      <td>4.617304e-09</td>\n",
       "      <td>9.199391e-11</td>\n",
       "      <td>1.327329e-08</td>\n",
       "      <td>9.024278e-08</td>\n",
       "      <td>3.693846e-06</td>\n",
       "      <td>2.413759e-08</td>\n",
       "      <td>9.954711e-08</td>\n",
       "      <td>1.436436e-07</td>\n",
       "    </tr>\n",
       "  </tbody>\n",
       "</table>\n",
       "<p>5 rows × 121 columns</p>\n",
       "</div>"
      ],
      "text/plain": [
       "                                 id  affenpinscher  afghan_hound  \\\n",
       "0  000621fb3cbb32d8935728e48679680e   1.466378e-07  4.218020e-05   \n",
       "1  00102ee9d8eb90812350685311fe5890   3.051790e-06  1.970722e-06   \n",
       "2  0012a730dfa437f5f3613fb75efcd4ce   5.983956e-07  1.518265e-05   \n",
       "3  001510bc8570bbeee98c8d80c8a95ec1   2.331645e-03  7.932706e-06   \n",
       "4  001a5f3114548acdefa3d4da05474c2e   4.076669e-09  2.508298e-09   \n",
       "\n",
       "   african_hunting_dog      airedale  american_staffordshire_terrier  \\\n",
       "0         5.612704e-08  2.037965e-06                    4.681564e-08   \n",
       "1         5.676856e-06  4.218840e-05                    4.346770e-07   \n",
       "2         2.347699e-07  1.415529e-06                    1.728936e-06   \n",
       "3         7.108343e-06  1.865121e-06                    1.610537e-05   \n",
       "4         8.170144e-08  4.072108e-09                    4.917470e-08   \n",
       "\n",
       "    appenzeller  australian_terrier       basenji        basset  \\\n",
       "0  6.860812e-10        3.100104e-07  1.061332e-08  2.437208e-07   \n",
       "1  1.737860e-07        7.060091e-08  1.271455e-07  3.393017e-06   \n",
       "2  1.482218e-05        3.091321e-07  7.670000e-07  9.619170e-05   \n",
       "3  3.785919e-07        1.087746e-04  2.807767e-06  2.711915e-05   \n",
       "4  1.276937e-09        2.709480e-07  1.856335e-09  1.634453e-08   \n",
       "\n",
       "         ...            toy_poodle   toy_terrier        vizsla  walker_hound  \\\n",
       "0        ...          7.098815e-05  2.320869e-08  6.359781e-07  8.591200e-10   \n",
       "1        ...          5.340399e-08  1.668954e-08  2.606714e-06  2.175117e-06   \n",
       "2        ...          3.317003e-07  3.521933e-06  6.427006e-06  1.630764e-03   \n",
       "3        ...          4.296474e-03  3.403944e-05  4.107603e-06  4.432040e-06   \n",
       "4        ...          2.635692e-06  4.900579e-08  4.617304e-09  9.199391e-11   \n",
       "\n",
       "     weimaraner  welsh_springer_spaniel  west_highland_white_terrier  \\\n",
       "0  7.011459e-08            1.100864e-08                 4.693883e-09   \n",
       "1  5.970415e-06            4.243705e-07                 4.714965e-07   \n",
       "2  1.436473e-05            8.072730e-07                 5.077055e-07   \n",
       "3  5.633060e-06            2.490404e-06                 7.066171e-05   \n",
       "4  1.327329e-08            9.024278e-08                 3.693846e-06   \n",
       "\n",
       "        whippet  wire-haired_fox_terrier  yorkshire_terrier  \n",
       "0  2.104961e-08             4.380369e-07       1.183549e-08  \n",
       "1  1.627142e-05             1.677192e-05       3.383854e-07  \n",
       "2  6.394374e-07             2.035226e-07       1.386533e-07  \n",
       "3  1.097232e-05             5.081657e-07       5.334602e-03  \n",
       "4  2.413759e-08             9.954711e-08       1.436436e-07  \n",
       "\n",
       "[5 rows x 121 columns]"
      ]
     },
     "execution_count": 89,
     "metadata": {},
     "output_type": "execute_result"
    }
   ],
   "source": [
    "results = pd.concat([sub_df['id'],result_df],axis=1);\n",
    "results.columns = column_lists\n",
    "results.shape\n",
    "results.head()"
   ]
  },
  {
   "cell_type": "markdown",
   "metadata": {},
   "source": [
    "#### another way more simpler"
   ]
  },
  {
   "cell_type": "code",
   "execution_count": 101,
   "metadata": {},
   "outputs": [
    {
     "data": {
      "text/plain": [
       "(10357, 121)"
      ]
     },
     "execution_count": 101,
     "metadata": {},
     "output_type": "execute_result"
    }
   ],
   "source": [
    "\n",
    "results =pd.DataFrame(probs_1);\n",
    "results.columns = column_lists[1:]\n",
    "results.index = ids;\n",
    "results.index.name = 'id';\n",
    "results['id'] = results.index\n",
    "idi = results.pop('id');\n",
    "\n",
    "results.insert(0,'id',idi)\n",
    "\n",
    "results.head()\n",
    "results.shape\n"
   ]
  },
  {
   "cell_type": "markdown",
   "metadata": {},
   "source": [
    "#### submit"
   ]
  },
  {
   "cell_type": "code",
   "execution_count": 102,
   "metadata": {},
   "outputs": [],
   "source": [
    "results.to_csv(\"fastai_resnet101.csv\",index = False);"
   ]
  },
  {
   "cell_type": "code",
   "execution_count": 103,
   "metadata": {},
   "outputs": [
    {
     "name": "stdout",
     "output_type": "stream",
     "text": [
      "Warning: Looks like you're using an outdated API Version, please consider updating (server 1.3.8 / client 1.3.6)\n",
      "Successfully submitted to Dog Breed Identification"
     ]
    }
   ],
   "source": [
    "#### submit\n",
    "!kaggle competitions submit -c dog-breed-identification -f  \"fastai_resnet101.csv\" -m \"1st resnet34-based result\""
   ]
  },
  {
   "cell_type": "code",
   "execution_count": null,
   "metadata": {},
   "outputs": [],
   "source": []
  },
  {
   "cell_type": "markdown",
   "metadata": {
    "collapsed": true,
    "heading_collapsed": true
   },
   "source": [
    "### Imporve model\n",
    "\n",
    "1. 鉴于0.44的得分有点低..可能是模型resnet34的原因?\n",
    "\n",
    "在第2次学习lr时，看到loss并没有随着学习率发生大的变化.\n",
    "\n",
    "unfreeze效果也并不好，我也skip掉了.\n",
    "\n",
    "但是cv的准确率有87%，不应该得分这么低...\n",
    "\n",
    "(http://files.fast.ai/models/weights.tgz) 下载到fastai 的weight 下，可以添加更多的模型如resnet101_64\n",
    "\n",
    "\n",
    "`https://download.pytorch.org/models/resnet101-5d3b4d8f.pth\" to /home/ubuntu/.torch/models/resnet101-5d3b4d8f.pth`\n",
    "\n",
    "\n",
    "    \n",
    "2. 为了提交，按submision的id顺序调整了prob矩阵,可能调整方式不对? \n",
    "\n",
    "#### updated 5.21 \n",
    "\n",
    "使用resnet101 0.31 貌似没有提高多少"
   ]
  },
  {
   "cell_type": "code",
   "execution_count": null,
   "metadata": {
    "hidden": true
   },
   "outputs": [],
   "source": []
  }
 ],
 "metadata": {
  "kernelspec": {
   "display_name": "Python 3",
   "language": "python",
   "name": "python3"
  },
  "language_info": {
   "codemirror_mode": {
    "name": "ipython",
    "version": 3
   },
   "file_extension": ".py",
   "mimetype": "text/x-python",
   "name": "python",
   "nbconvert_exporter": "python",
   "pygments_lexer": "ipython3",
   "version": "3.6.5"
  },
  "latex_envs": {
   "LaTeX_envs_menu_present": true,
   "autoclose": false,
   "autocomplete": true,
   "bibliofile": "biblio.bib",
   "cite_by": "apalike",
   "current_citInitial": 1,
   "eqLabelWithNumbers": true,
   "eqNumInitial": 1,
   "hotkeys": {
    "equation": "Ctrl-E",
    "itemize": "Ctrl-I"
   },
   "labels_anchors": false,
   "latex_user_defs": false,
   "report_style_numbering": false,
   "user_envs_cfg": false
  },
  "toc": {
   "base_numbering": 1,
   "nav_menu": {},
   "number_sections": true,
   "sideBar": true,
   "skip_h1_title": false,
   "title_cell": "Table of Contents",
   "title_sidebar": "Contents",
   "toc_cell": false,
   "toc_position": {},
   "toc_section_display": true,
   "toc_window_display": false
  }
 },
 "nbformat": 4,
 "nbformat_minor": 2
}
