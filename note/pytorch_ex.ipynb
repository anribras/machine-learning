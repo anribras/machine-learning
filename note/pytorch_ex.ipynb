{
 "cells": [
  {
   "cell_type": "markdown",
   "metadata": {
    "heading_collapsed": true
   },
   "source": [
    "### Prepare(pytorch 0.3.1)"
   ]
  },
  {
   "cell_type": "code",
   "execution_count": 31,
   "metadata": {
    "hidden": true
   },
   "outputs": [
    {
     "data": {
      "text/plain": [
       "<torch._C.Generator at 0x7f33bc096850>"
      ]
     },
     "execution_count": 31,
     "metadata": {},
     "output_type": "execute_result"
    }
   ],
   "source": [
    "from __future__ import print_function\n",
    "import torch\n",
    "\n",
    "import torch\n",
    "import torch.autograd as autograd\n",
    "import torch.nn as nn\n",
    "import torch.nn.functional as F\n",
    "import torch.optim as optim\n",
    "\n",
    "torch.manual_seed(1)"
   ]
  },
  {
   "cell_type": "code",
   "execution_count": 32,
   "metadata": {
    "hidden": true
   },
   "outputs": [
    {
     "data": {
      "text/plain": [
       "False"
      ]
     },
     "execution_count": 32,
     "metadata": {},
     "output_type": "execute_result"
    }
   ],
   "source": [
    "torch.cuda.is_available()"
   ]
  },
  {
   "cell_type": "code",
   "execution_count": 33,
   "metadata": {
    "hidden": true
   },
   "outputs": [
    {
     "data": {
      "text/plain": [
       "'0.3.1.post3'"
      ]
     },
     "execution_count": 33,
     "metadata": {},
     "output_type": "execute_result"
    }
   ],
   "source": [
    "torch.__version__"
   ]
  },
  {
   "cell_type": "markdown",
   "metadata": {
    "heading_collapsed": true
   },
   "source": [
    "### Tensor as numpy"
   ]
  },
  {
   "cell_type": "code",
   "execution_count": 34,
   "metadata": {
    "hidden": true
   },
   "outputs": [
    {
     "data": {
      "text/plain": [
       "\n",
       " 1  0  0  0  0\n",
       " 0  1  0  0  0\n",
       " 0  0  1  0  0\n",
       " 0  0  0  1  0\n",
       " 0  0  0  0  1\n",
       "[torch.FloatTensor of size 5x5]"
      ]
     },
     "execution_count": 34,
     "metadata": {},
     "output_type": "execute_result"
    }
   ],
   "source": [
    "x=torch.eye(5,5)\n",
    "x"
   ]
  },
  {
   "cell_type": "code",
   "execution_count": 35,
   "metadata": {
    "hidden": true
   },
   "outputs": [],
   "source": [
    "x=torch.randn(10,10)\n",
    "y=torch.randn(10,10)"
   ]
  },
  {
   "cell_type": "code",
   "execution_count": 36,
   "metadata": {
    "hidden": true
   },
   "outputs": [
    {
     "data": {
      "text/plain": [
       "\n",
       "    1     1     1     1     1     1     1     1     1     1\n",
       "    1     1     1     1     1     1     1     1     1     1\n",
       "    1     1     1     1     1     1     1     1     1     1\n",
       "    1     1     1     1     1     1     1     1     1     1\n",
       "    1     1     1     1     1     1     1     1     1     1\n",
       "    1     1     1     1     1     1     1     1     1     1\n",
       "    1     1     1     1     1     1     1     1     1     1\n",
       "    1     1     1     1     1     1     1     1     1     1\n",
       "    1     1     1     1     1     1     1     1     1     1\n",
       "    1     1     1     1     1     1     1     1     1     1\n",
       "[torch.ByteTensor of size 10x10]"
      ]
     },
     "execution_count": 36,
     "metadata": {},
     "output_type": "execute_result"
    }
   ],
   "source": [
    "x+y == torch.add(x,y);\n",
    "res = torch.zeros(x.size())\n",
    "torch.add(x,y,out=res);\n",
    "res==x+y\n",
    "res==x.add(y)"
   ]
  },
  {
   "cell_type": "code",
   "execution_count": 37,
   "metadata": {
    "hidden": true
   },
   "outputs": [
    {
     "data": {
      "text/plain": [
       "\n",
       "\n",
       "Columns 0 to 9 \n",
       " 0.6614  0.2669  0.0617  0.6213 -0.4519 -0.1661 -1.5228  0.3817 -1.0276 -0.5631\n",
       "-0.3968 -0.6571 -1.6428  0.9803 -0.0421 -0.8206  0.3133 -1.1352  0.3773 -0.2824\n",
       "\n",
       "Columns 10 to 19 \n",
       "-0.8923 -0.0583 -0.1955 -0.9656  0.4224  0.2673 -0.4212 -0.5107 -1.5727 -0.1232\n",
       "-2.5667 -1.4303  0.5009  0.5438 -0.4057  1.1341 -1.1115  0.3501 -0.7703 -0.1473\n",
       "\n",
       "Columns 20 to 29 \n",
       " 3.5870 -1.8313  1.5987 -1.2770  0.3255 -0.4791  1.3790  2.5286  0.4107 -0.9880\n",
       " 0.6272  1.0935  0.0939  1.2381 -1.3459  0.5119 -0.6933 -0.1668 -0.9999 -1.6476\n",
       "\n",
       "Columns 30 to 39 \n",
       "-0.9081  0.5423  0.1103 -2.2590  0.6067 -0.1383  0.8310 -0.2477 -0.8029  0.2366\n",
       " 0.8098  0.0554  1.1340 -0.5326  0.6592 -1.5964 -0.3769 -3.1020 -0.0995 -0.7213\n",
       "\n",
       "Columns 40 to 49 \n",
       " 0.2857  0.6898 -0.6331  0.8795 -0.6842  0.4533  0.2912 -0.8317 -0.5525  0.6355\n",
       " 1.2708 -0.0020 -1.0952  0.6016  0.6984 -0.8005  1.5381  1.4673  1.5951 -1.5279\n",
       "[torch.FloatTensor of size 2x50]"
      ]
     },
     "execution_count": 37,
     "metadata": {},
     "output_type": "execute_result"
    }
   ],
   "source": [
    "#reshape\n",
    "x.view(2,-1)"
   ]
  },
  {
   "cell_type": "markdown",
   "metadata": {
    "heading_collapsed": true
   },
   "source": [
    "### Variable wrap Tensor"
   ]
  },
  {
   "cell_type": "code",
   "execution_count": 45,
   "metadata": {
    "hidden": true
   },
   "outputs": [
    {
     "data": {
      "text/plain": [
       "\n",
       " 1.6770  0.0650 -1.2248  1.4444 -1.0620 -1.4621 -2.4662  1.0500  0.1352 -0.8859\n",
       " 0.9859 -0.6249  0.2061 -1.0809  0.7395  0.8302  0.4450 -0.8635 -1.2244  1.0138\n",
       " 3.2531 -3.3037  2.3283 -1.4082 -0.3113  0.5638  1.8693  3.5604 -0.1882  0.6135\n",
       "-1.9815 -0.6750  0.7575 -2.3002  0.4292 -0.6383  1.6983 -0.5209 -1.2637  0.1375\n",
       " 0.7585  1.6948 -0.9202 -0.2824 -0.6566  1.0185  0.2797 -0.1611 -1.0454  2.1405\n",
       "-2.7232  0.9598 -2.5454  1.1540  0.0351 -1.7545  0.4047  0.2588 -0.3103 -0.7883\n",
       "-2.3743 -0.7142 -0.3110 -0.9179 -0.1730  1.3236 -1.3319  0.4991 -0.7603 -0.2716\n",
       " 2.0969  0.6984 -0.4162  2.3544 -1.9385  1.4208 -1.7725 -0.8419  0.4084 -3.4932\n",
       " 0.2443 -0.8539  0.6449 -1.1501  1.0428 -1.2112  0.4121 -1.9657 -0.2142 -0.7393\n",
       " 1.3199  0.4252 -1.9948  1.1329  1.1018  0.6516 -0.8800  0.2767  2.2915 -0.3983\n",
       "[torch.FloatTensor of size 10x10]"
      ]
     },
     "execution_count": 45,
     "metadata": {},
     "output_type": "execute_result"
    }
   ],
   "source": [
    "### Variable\n",
    "\n",
    "v_x = autograd.Variable(x,requires_grad=True);\n",
    "v_y = autograd.Variable(y,requires_grad=True);\n",
    "v_z = v_x + v_y\n",
    "\n",
    "v_z.data"
   ]
  },
  {
   "cell_type": "code",
   "execution_count": 48,
   "metadata": {
    "hidden": true
   },
   "outputs": [
    {
     "data": {
      "text/plain": [
       "<AddBackward1 at 0x7f336f553f60>"
      ]
     },
     "execution_count": 48,
     "metadata": {},
     "output_type": "execute_result"
    }
   ],
   "source": [
    "grad_f =v_z.grad_fn\n",
    "grad_f"
   ]
  },
  {
   "cell_type": "markdown",
   "metadata": {
    "heading_collapsed": true,
    "hidden": true
   },
   "source": [
    "#### backwards gradient"
   ]
  },
  {
   "cell_type": "code",
   "execution_count": 49,
   "metadata": {
    "hidden": true
   },
   "outputs": [],
   "source": [
    "s = v_z.sum()\n",
    "# start calculate using bp\n",
    "s .backward()"
   ]
  },
  {
   "cell_type": "code",
   "execution_count": 53,
   "metadata": {
    "hidden": true
   },
   "outputs": [
    {
     "data": {
      "text/plain": [
       "Variable containing:\n",
       "    1     1     1     1     1     1     1     1     1     1\n",
       "    1     1     1     1     1     1     1     1     1     1\n",
       "    1     1     1     1     1     1     1     1     1     1\n",
       "    1     1     1     1     1     1     1     1     1     1\n",
       "    1     1     1     1     1     1     1     1     1     1\n",
       "    1     1     1     1     1     1     1     1     1     1\n",
       "    1     1     1     1     1     1     1     1     1     1\n",
       "    1     1     1     1     1     1     1     1     1     1\n",
       "    1     1     1     1     1     1     1     1     1     1\n",
       "    1     1     1     1     1     1     1     1     1     1\n",
       "[torch.FloatTensor of size 10x10]"
      ]
     },
     "execution_count": 53,
     "metadata": {},
     "output_type": "execute_result"
    }
   ],
   "source": [
    "# dx \n",
    "v_x.grad"
   ]
  },
  {
   "cell_type": "code",
   "execution_count": 54,
   "metadata": {
    "hidden": true
   },
   "outputs": [
    {
     "data": {
      "text/plain": [
       "Variable containing:\n",
       "    1     1     1     1     1     1     1     1     1     1\n",
       "    1     1     1     1     1     1     1     1     1     1\n",
       "    1     1     1     1     1     1     1     1     1     1\n",
       "    1     1     1     1     1     1     1     1     1     1\n",
       "    1     1     1     1     1     1     1     1     1     1\n",
       "    1     1     1     1     1     1     1     1     1     1\n",
       "    1     1     1     1     1     1     1     1     1     1\n",
       "    1     1     1     1     1     1     1     1     1     1\n",
       "    1     1     1     1     1     1     1     1     1     1\n",
       "    1     1     1     1     1     1     1     1     1     1\n",
       "[torch.FloatTensor of size 10x10]"
      ]
     },
     "execution_count": 54,
     "metadata": {},
     "output_type": "execute_result"
    }
   ],
   "source": [
    "# dy\n",
    "v_y.grad"
   ]
  },
  {
   "cell_type": "code",
   "execution_count": 75,
   "metadata": {
    "hidden": true
   },
   "outputs": [
    {
     "data": {
      "text/plain": [
       "NoneType"
      ]
     },
     "execution_count": 75,
     "metadata": {},
     "output_type": "execute_result"
    }
   ],
   "source": [
    "#dz? None\n",
    "type(v_z.grad)"
   ]
  },
  {
   "cell_type": "markdown",
   "metadata": {
    "hidden": true
   },
   "source": [
    "#### Linear map"
   ]
  },
  {
   "cell_type": "code",
   "execution_count": 71,
   "metadata": {
    "hidden": true
   },
   "outputs": [
    {
     "name": "stdout",
     "output_type": "stream",
     "text": [
      "Parameter containing:\n",
      "-0.4077  0.2774  0.4344 -0.1596  0.0661\n",
      "-0.2304 -0.2861 -0.2265 -0.2131  0.0849\n",
      "-0.0513  0.0314 -0.3427 -0.2810 -0.3872\n",
      "[torch.FloatTensor of size 3x5]\n",
      "\n",
      "Parameter containing:\n",
      "-0.3214\n",
      " 0.3745\n",
      " 0.1662\n",
      "[torch.FloatTensor of size 3]\n",
      "\n",
      "Variable containing:\n",
      "-0.0527  0.6786  0.2385\n",
      " 0.0305  0.8032  0.4389\n",
      "[torch.FloatTensor of size 2x3]\n",
      "\n"
     ]
    }
   ],
   "source": [
    "lin = nn.Linear(5, 3)  # maps from R^5 to R^3, parameters A, b\n",
    "# init by random\n",
    "print(lin.weight)\n",
    "print(lin.bias)\n",
    "#data is 2x5.  A maps from 5 to 3... can we map \"data\" under A?\n",
    "data = autograd.Variable(torch.randn(2, 5))\n",
    "print(lin(data))  # yes"
   ]
  },
  {
   "cell_type": "markdown",
   "metadata": {
    "heading_collapsed": true
   },
   "source": [
    "### Bag of Words using logSoftmax ex\n",
    "\n",
    "用pytorch解决一个多分类的经典问题\n",
    "\n",
    "model ---> forward计算\n",
    "\n",
    "lossfunciton 反向bp ,更新参数 ,\n",
    "loss.backword()\n",
    "optim.step()\n",
    "\n",
    "再用 model预测新样本 "
   ]
  },
  {
   "cell_type": "code",
   "execution_count": 78,
   "metadata": {
    "hidden": true
   },
   "outputs": [
    {
     "name": "stdout",
     "output_type": "stream",
     "text": [
      "{'me': 0, 'gusta': 1, 'comer': 2, 'en': 3, 'la': 4, 'cafeteria': 5, 'Give': 6, 'it': 7, 'to': 8, 'No': 9, 'creo': 10, 'que': 11, 'sea': 12, 'una': 13, 'buena': 14, 'idea': 15, 'is': 16, 'not': 17, 'a': 18, 'good': 19, 'get': 20, 'lost': 21, 'at': 22, 'Yo': 23, 'si': 24, 'on': 25}\n",
      "Parameter containing:\n",
      "\n",
      "Columns 0 to 9 \n",
      "-0.0824  0.1702  0.0907 -0.1331  0.0117  0.1273  0.0936 -0.1253  0.1040  0.0421\n",
      "-0.1856 -0.1363  0.0314  0.0033 -0.0931  0.1358 -0.1468  0.0609 -0.1194  0.1528\n",
      "\n",
      "Columns 10 to 19 \n",
      " 0.1947 -0.0907  0.0538  0.1647  0.1341  0.0176  0.1154  0.1297 -0.0116 -0.0773\n",
      "-0.1928  0.0616  0.0953  0.1728 -0.1946 -0.1080  0.0449 -0.0586 -0.1770 -0.1454\n",
      "\n",
      "Columns 20 to 25 \n",
      " 0.1739 -0.0025  0.0485 -0.0256 -0.1427  0.1659\n",
      "-0.1518  0.1355 -0.0098 -0.1911 -0.1769 -0.0614\n",
      "[torch.FloatTensor of size 2x26]\n",
      "\n",
      "Parameter containing:\n",
      "1.00000e-02 *\n",
      "  3.3613\n",
      " -5.6078\n",
      "[torch.FloatTensor of size 2]\n",
      "\n",
      "Variable containing:\n",
      "-0.4671 -0.9857\n",
      "[torch.FloatTensor of size 1x2]\n",
      "\n"
     ]
    }
   ],
   "source": [
    "data = [(\"me gusta comer en la cafeteria\".split(), \"SPANISH\"),\n",
    "        (\"Give it to me\".split(), \"ENGLISH\"),\n",
    "        (\"No creo que sea una buena idea\".split(), \"SPANISH\"),\n",
    "        (\"No it is not a good idea to get lost at sea\".split(), \"ENGLISH\")]\n",
    "\n",
    "test_data = [(\"Yo creo que si\".split(), \"SPANISH\"),\n",
    "             (\"it is lost on me\".split(), \"ENGLISH\")]\n",
    "\n",
    "# word_to_ix maps each word in the vocab to a unique integer, which will be its\n",
    "# index into the Bag of words vector\n",
    "word_to_ix = {}\n",
    "for sent, _ in data + test_data:\n",
    "    for word in sent:\n",
    "        if word not in word_to_ix:\n",
    "            word_to_ix[word] = len(word_to_ix)\n",
    "print(word_to_ix)\n",
    "\n",
    "VOCAB_SIZE = len(word_to_ix)\n",
    "NUM_LABELS = 2\n",
    "class BoWClassifier(nn.Module):  # inheriting from nn.Module!\n",
    "\n",
    "    def __init__(self, num_labels, vocab_size):\n",
    "        # calls the init function of nn.Module.  Dont get confused by syntax,\n",
    "        # just always do it in an nn.Module\n",
    "        super(BoWClassifier, self).__init__()\n",
    "\n",
    "        # Define the parameters that you will need.  In this case, we need A and b,\n",
    "        # the parameters of the affine mapping.\n",
    "        # Torch defines nn.Linear(), which provides the affine map.\n",
    "        # Make sure you understand why the input dimension is vocab_size\n",
    "        # and the output is num_labels!\n",
    "        self.linear = nn.Linear(vocab_size, num_labels)\n",
    "\n",
    "        # NOTE! The non-linearity log softmax does not have parameters! So we don't need\n",
    "        # to worry about that here\n",
    "\n",
    "    def forward(self, bow_vec):\n",
    "        # Pass the input through the linear layer,\n",
    "        # then pass that through log_softmax.\n",
    "        # Many non-linearities and other functions are in torch.nn.functional\n",
    "        return F.log_softmax(self.linear(bow_vec), dim=1)\n",
    "\n",
    "\n",
    "def make_bow_vector(sentence, word_to_ix):\n",
    "    vec = torch.zeros(len(word_to_ix))\n",
    "    for word in sentence:\n",
    "        vec[word_to_ix[word]] += 1\n",
    "    return vec.view(1, -1)\n",
    "\n",
    "\n",
    "# 'SPAINIS' 'ENGLISH''SPAINIS' 'ENGLISH''SPAINIS' 'ENGLISH'--->'0,1,0,1'\n",
    "def make_target(label, label_to_ix):\n",
    "    return torch.LongTensor([label_to_ix[label]])\n",
    "\n",
    "\n",
    "model = BoWClassifier(NUM_LABELS, VOCAB_SIZE)\n",
    "\n",
    "# the model knows its parameters.  The first output below is A, the second is b.\n",
    "# Whenever you assign a component to a class variable in the __init__ function\n",
    "# of a module, which was done with the line\n",
    "# self.linear = nn.Linear(...)\n",
    "# Then through some Python magic from the Pytorch devs, your module\n",
    "# (in this case, BoWClassifier) will store knowledge of the nn.Linear's parameters\n",
    "for param in model.parameters():\n",
    "    print(param)\n",
    "\n",
    "# To run the model, pass in a BoW vector, but wrapped in an autograd.Variable\n",
    "sample = data[0]\n",
    "bow_vector = make_bow_vector(sample[0], word_to_ix)\n",
    "log_probs = model(autograd.Variable(bow_vector))\n",
    "print(log_probs)"
   ]
  },
  {
   "cell_type": "code",
   "execution_count": 79,
   "metadata": {
    "hidden": true
   },
   "outputs": [],
   "source": [
    "label_to_ix = {\"SPANISH\": 0, \"ENGLISH\": 1}"
   ]
  },
  {
   "cell_type": "code",
   "execution_count": 87,
   "metadata": {
    "hidden": true
   },
   "outputs": [
    {
     "name": "stdout",
     "output_type": "stream",
     "text": [
      "Variable containing:\n",
      "-0.0731 -2.6527\n",
      "[torch.FloatTensor of size 1x2]\n",
      "\n",
      "Variable containing:\n",
      "-3.5073 -0.0304\n",
      "[torch.FloatTensor of size 1x2]\n",
      "\n",
      "Variable containing:\n",
      " 0.6999\n",
      "-0.6981\n",
      "[torch.FloatTensor of size 2]\n",
      "\n",
      "for instance ['Yo', 'creo', 'que', 'si']\n",
      "instance log_prob:\n",
      " Variable containing:\n",
      "-0.0657 -2.7551\n",
      "[torch.FloatTensor of size 1x2]\n",
      "\n",
      "instance prob:\n",
      " Variable containing:\n",
      " 0.9364  0.0636\n",
      "[torch.FloatTensor of size 1x2]\n",
      "\n",
      "for instance ['it', 'is', 'lost', 'on', 'me']\n",
      "instance log_prob:\n",
      " Variable containing:\n",
      "-3.6621 -0.0260\n",
      "[torch.FloatTensor of size 1x2]\n",
      "\n",
      "instance prob:\n",
      " Variable containing:\n",
      " 0.0257  0.9743\n",
      "[torch.FloatTensor of size 1x2]\n",
      "\n",
      "Variable containing:\n",
      " 0.7252\n",
      "-0.7234\n",
      "[torch.FloatTensor of size 2]\n",
      "\n"
     ]
    }
   ],
   "source": [
    "# Run on test data before we train, just to see a before-and-after\n",
    "for instance, label in test_data:\n",
    "    # 相当于特征化一个样本 \n",
    "    bow_vec = autograd.Variable(make_bow_vector(instance, word_to_ix))\n",
    "    #模型跑一次，like predict\n",
    "    log_probs = model(bow_vec)\n",
    "    print(log_probs)\n",
    "\n",
    "# Print the matrix column corresponding to \"creo\"\n",
    "print(next(model.parameters())[:, word_to_ix[\"creo\"]])\n",
    "\n",
    "loss_function = nn.NLLLoss()\n",
    "optimizer = optim.SGD(model.parameters(), lr=0.1)\n",
    "\n",
    "# Usually you want to pass over the training data several times.\n",
    "# 100 is much bigger than on a real data set, but real datasets have more than\n",
    "# two instances.  Usually, somewhere between 5 and 30 epochs is reasonable.\n",
    "for epoch in range(100):\n",
    "    for instance, label in data:\n",
    "        # Step 1. Remember that Pytorch accumulates gradients.\n",
    "        # We need to clear them out before each instance\n",
    "        model.zero_grad()\n",
    "\n",
    "        # Step 2. Make our BOW vector and also we must wrap the target in a\n",
    "        # Variable as an integer. For example, if the target is SPANISH, then\n",
    "        # we wrap the integer 0. The loss function then knows that the 0th\n",
    "        # element of the log probabilities is the log probability\n",
    "        # corresponding to SPANISH\n",
    "        bow_vec = autograd.Variable(make_bow_vector(instance, word_to_ix))\n",
    "        target = autograd.Variable(make_target(label, label_to_ix))\n",
    "\n",
    "        # Step 3. Run our forward pass.\n",
    "        log_probs = model(bow_vec)\n",
    "\n",
    "        # Step 4. Compute the loss, gradients, and update the parameters by\n",
    "        # calling optimizer.step()\n",
    "        loss = loss_function(log_probs, target)\n",
    "        loss.backward()\n",
    "        optimizer.step()\n",
    "\n",
    "for instance, label in test_data:\n",
    "    bow_vec = autograd.Variable(make_bow_vector(instance, word_to_ix))\n",
    "    log_probs = model(bow_vec)\n",
    "    print('for instance', instance)\n",
    "    probs = torch.exp(log_probs)\n",
    "    print('instance log_prob:\\n',log_probs)\n",
    "    print('instance prob:\\n',probs)\n",
    "\n",
    "# Index corresponding to Spanish goes up, English goes down!\n",
    "print(next(model.parameters())[:, word_to_ix[\"creo\"]])\n"
   ]
  },
  {
   "cell_type": "markdown",
   "metadata": {
    "hidden": true
   },
   "source": [
    "#### 得到的参数后的解释\n",
    "\n",
    "对于`creo`这个词:\n",
    "\n",
    "Variable containing:\n",
    " 0.7252\n",
    "-0.7234\n",
    "[torch.FloatTensor of size 2]\n",
    "\n",
    "0.72的权重偏向Spanish -0.72权重偏向English 这就是物理意义"
   ]
  },
  {
   "cell_type": "markdown",
   "metadata": {},
   "source": [
    "### LeNet For Image Classification ex"
   ]
  },
  {
   "cell_type": "code",
   "execution_count": null,
   "metadata": {},
   "outputs": [],
   "source": []
  }
 ],
 "metadata": {
  "kernelspec": {
   "display_name": "Python 3",
   "language": "python",
   "name": "python3"
  },
  "language_info": {
   "codemirror_mode": {
    "name": "ipython",
    "version": 3
   },
   "file_extension": ".py",
   "mimetype": "text/x-python",
   "name": "python",
   "nbconvert_exporter": "python",
   "pygments_lexer": "ipython3",
   "version": "3.6.5"
  },
  "latex_envs": {
   "LaTeX_envs_menu_present": true,
   "autoclose": false,
   "autocomplete": true,
   "bibliofile": "biblio.bib",
   "cite_by": "apalike",
   "current_citInitial": 1,
   "eqLabelWithNumbers": true,
   "eqNumInitial": 1,
   "hotkeys": {
    "equation": "Ctrl-E",
    "itemize": "Ctrl-I"
   },
   "labels_anchors": false,
   "latex_user_defs": false,
   "report_style_numbering": false,
   "user_envs_cfg": false
  },
  "toc": {
   "base_numbering": 1,
   "nav_menu": {},
   "number_sections": true,
   "sideBar": true,
   "skip_h1_title": false,
   "title_cell": "Table of Contents",
   "title_sidebar": "Contents",
   "toc_cell": false,
   "toc_position": {},
   "toc_section_display": true,
   "toc_window_display": false
  }
 },
 "nbformat": 4,
 "nbformat_minor": 2
}
