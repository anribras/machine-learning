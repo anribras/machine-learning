{
 "cells": [
  {
   "cell_type": "markdown",
   "metadata": {},
   "source": [
    "### shape(R,)和shape(R,1)的区别\n",
    "可以参考[这个文章](https://stackoverflow.com/questions/22053050/difference-between-numpy-array-shape-r-1-and-r)\n",
    "将1维向量二维化,首先要清楚它column还是row,添加一个None的维度即可完成转化.\n",
    "```python\n",
    "    column = column[:,None];\n",
    "    row = row[None,:]\n",
    "```"
   ]
  },
  {
   "cell_type": "markdown",
   "metadata": {
    "heading_collapsed": true
   },
   "source": [
    "### 切片"
   ]
  },
  {
   "cell_type": "code",
   "execution_count": 1,
   "metadata": {
    "hidden": true
   },
   "outputs": [
    {
     "name": "stdout",
     "output_type": "stream",
     "text": [
      "[1, 2, 3, 4]\n",
      "[4, 3, 2, 1]\n",
      "[1, 2, 3, 4]\n",
      "[1, 2, 3]\n",
      "[1, 2]\n"
     ]
    }
   ],
   "source": [
    "#切片是满足 左闭，右开\n",
    "a=[1,2,3,4]\n",
    "print(a[::1]);\n",
    "print(a[::-1]);\n",
    "print(a[:]);\n",
    "print(a[:-1]);\n",
    "print(a[:-2]);"
   ]
  },
  {
   "cell_type": "markdown",
   "metadata": {
    "heading_collapsed": true
   },
   "source": [
    "### numpy行向量列向量之间转换"
   ]
  },
  {
   "cell_type": "code",
   "execution_count": 2,
   "metadata": {
    "hidden": true,
    "slideshow": {
     "slide_type": "-"
    }
   },
   "outputs": [
    {
     "name": "stdout",
     "output_type": "stream",
     "text": [
      "a: [1 2 3 4] a.shape (4,)\n",
      "aa: [[1 2 3 4]] aa.shape (1, 4)\n",
      "aa:\n",
      " [[1]\n",
      " [2]\n",
      " [3]\n",
      " [4]] \n",
      "aa.shape (4, 1)\n",
      "row into column vec:\n",
      " [[1]\n",
      " [2]\n",
      " [3]\n",
      " [4]] \n",
      "b.shape (4, 1)\n",
      "column into row vec: [[1 2 3 4]] c.shape (1, 4)\n"
     ]
    }
   ],
   "source": [
    "import numpy as np;\n",
    "# np没有一维向量,只有(4)\n",
    "a=np.array([1,2,3,4]);\n",
    "print('a:',a,'a.shape',a.shape)\n",
    "\n",
    "#转变成 (1,4)\n",
    "aa=np.array([a])\n",
    "print('aa:',aa,'aa.shape',aa.shape)\n",
    "\n",
    "#转变成(4,1)\n",
    "aa=np.array([a]).T\n",
    "print('aa:\\n',aa,'\\naa.shape',aa.shape)\n",
    "\n",
    "# 用reshape\n",
    "b=a.reshape(-1,1);\n",
    "print('row into column vec:\\n',b,'\\nb.shape',b.shape)\n",
    "#列向量变行向量 reshape\n",
    "c=b.reshape(1,-1);\n",
    "print('column into row vec:',c,'c.shape',c.shape)"
   ]
  },
  {
   "cell_type": "markdown",
   "metadata": {
    "heading_collapsed": true
   },
   "source": [
    "### 倒序循环"
   ]
  },
  {
   "cell_type": "code",
   "execution_count": 3,
   "metadata": {
    "hidden": true
   },
   "outputs": [
    {
     "name": "stdout",
     "output_type": "stream",
     "text": [
      "9\n",
      "8\n",
      "7\n",
      "6\n",
      "5\n",
      "4\n",
      "3\n",
      "2\n",
      "1\n",
      "0\n"
     ]
    }
   ],
   "source": [
    "for i in range(10-1,-1,-1):\n",
    "    print(i);"
   ]
  },
  {
   "cell_type": "markdown",
   "metadata": {
    "heading_collapsed": true
   },
   "source": [
    "###  行，列，全体求和"
   ]
  },
  {
   "cell_type": "code",
   "execution_count": 4,
   "metadata": {
    "hidden": true
   },
   "outputs": [
    {
     "data": {
      "text/plain": [
       "9.0"
      ]
     },
     "execution_count": 4,
     "metadata": {},
     "output_type": "execute_result"
    }
   ],
   "source": [
    "A=np.ones([3,3]);\n",
    "np.sum(A)"
   ]
  },
  {
   "cell_type": "code",
   "execution_count": 5,
   "metadata": {
    "hidden": true
   },
   "outputs": [
    {
     "data": {
      "text/plain": [
       "3.0"
      ]
     },
     "execution_count": 5,
     "metadata": {},
     "output_type": "execute_result"
    }
   ],
   "source": [
    "np.sum(A[:,1])"
   ]
  },
  {
   "cell_type": "code",
   "execution_count": 6,
   "metadata": {
    "hidden": true
   },
   "outputs": [
    {
     "data": {
      "text/plain": [
       "3.0"
      ]
     },
     "execution_count": 6,
     "metadata": {},
     "output_type": "execute_result"
    }
   ],
   "source": [
    "np.sum(A[1,:])"
   ]
  },
  {
   "cell_type": "code",
   "execution_count": 7,
   "metadata": {
    "hidden": true
   },
   "outputs": [
    {
     "name": "stdout",
     "output_type": "stream",
     "text": [
      "A=\n",
      " [[1 2 3 4]\n",
      " [5 6 7 8]]\n",
      "Sum row together\n",
      " [ 6  8 10 12]\n",
      "Sum[None,:]\n",
      " [[ 6  8 10 12]]\n",
      "Sum[None,:] shape\n",
      " (1, 4)\n",
      "Matrix divide row-vector:\n",
      " [[0.16666667 0.25       0.3        0.33333333]\n",
      " [0.83333333 0.75       0.7        0.66666667]]\n",
      "Sum column together\n",
      " [10 26]\n",
      "Matrix divide column-vector:\n",
      " [[0.1        0.2        0.3        0.4       ]\n",
      " [0.19230769 0.23076923 0.26923077 0.30769231]]\n"
     ]
    }
   ],
   "source": [
    "A=np.array([[1,2,3,4],[5,6,7,8]]);\n",
    "print('A=\\n',A);\n",
    "\n",
    "#然后对A的每一列除以sum的值 ，相当于列的概率分布\n",
    "# none的作用还是初始化1维向量\n",
    "Sum = np.sum(A,axis=0)\n",
    "print('Sum row together\\n',Sum);\n",
    "print('Sum[None,:]\\n',Sum[None,:])\n",
    "print('Sum[None,:] shape\\n',Sum[None,:].shape)\n",
    "print('Matrix divide row-vector:\\n', A / Sum[None,:]);\n",
    "\n",
    "\n",
    "Sum=np.sum(A,axis=1);\n",
    "print('Sum column together\\n',Sum);\n",
    "print('Matrix divide column-vector:\\n',A / Sum[:,None]);"
   ]
  },
  {
   "cell_type": "markdown",
   "metadata": {
    "heading_collapsed": true
   },
   "source": [
    "### 最后一个元素用a[-1]来寻找 ,类似matlab a(end)"
   ]
  },
  {
   "cell_type": "code",
   "execution_count": 8,
   "metadata": {
    "hidden": true
   },
   "outputs": [
    {
     "data": {
      "text/plain": [
       "3"
      ]
     },
     "execution_count": 8,
     "metadata": {},
     "output_type": "execute_result"
    }
   ],
   "source": [
    "a1=np.array([1,2,3])\n",
    "a1[-1]"
   ]
  },
  {
   "cell_type": "code",
   "execution_count": 9,
   "metadata": {
    "hidden": true
   },
   "outputs": [
    {
     "data": {
      "text/plain": [
       "2"
      ]
     },
     "execution_count": 9,
     "metadata": {},
     "output_type": "execute_result"
    }
   ],
   "source": [
    "a1[-2]"
   ]
  },
  {
   "cell_type": "code",
   "execution_count": 10,
   "metadata": {
    "hidden": true
   },
   "outputs": [
    {
     "data": {
      "text/plain": [
       "1"
      ]
     },
     "execution_count": 10,
     "metadata": {},
     "output_type": "execute_result"
    }
   ],
   "source": [
    "a1[-3]"
   ]
  },
  {
   "cell_type": "code",
   "execution_count": 11,
   "metadata": {
    "hidden": true
   },
   "outputs": [
    {
     "data": {
      "text/plain": [
       "array([3, 2, 1])"
      ]
     },
     "execution_count": 11,
     "metadata": {},
     "output_type": "execute_result"
    }
   ],
   "source": [
    "a1[::-1]"
   ]
  },
  {
   "cell_type": "markdown",
   "metadata": {
    "heading_collapsed": true
   },
   "source": [
    "### 矩阵连续点乘"
   ]
  },
  {
   "cell_type": "code",
   "execution_count": 12,
   "metadata": {
    "hidden": true
   },
   "outputs": [
    {
     "name": "stdout",
     "output_type": "stream",
     "text": [
      "[[-20.70706468 -20.03823875 -20.71078327]\n",
      " [-22.92167992 -22.11471662 -22.87573685]\n",
      " [-45.66675896 -44.07686786 -45.58749156]]\n",
      "------\n",
      "[[-20.70706468 -20.03823875 -20.71078327]\n",
      " [-22.92167992 -22.11471662 -22.87573685]\n",
      " [-45.66675896 -44.07686786 -45.58749156]]\n"
     ]
    }
   ],
   "source": [
    "size = [3,3]\n",
    "A=np.random.rand(3,3);\n",
    "B= A+1;\n",
    "C =A /2 ;\n",
    "D = A -10;\n",
    "\n",
    "ans=A.dot(B).dot(C).dot(D)\n",
    "print(ans)\n",
    "print('------')\n",
    "from functools import reduce ;\n",
    "ans = reduce(np.dot,[A,B,C,D]);\n",
    "print(ans)\n"
   ]
  },
  {
   "cell_type": "markdown",
   "metadata": {
    "heading_collapsed": true
   },
   "source": [
    "### 矩阵的多维性质"
   ]
  },
  {
   "cell_type": "code",
   "execution_count": 13,
   "metadata": {
    "hidden": true
   },
   "outputs": [
    {
     "data": {
      "text/plain": [
       "array([[[8, 8, 2],\n",
       "        [1, 5, 9],\n",
       "        [1, 4, 3]],\n",
       "\n",
       "       [[1, 7, 7],\n",
       "        [5, 5, 2],\n",
       "        [6, 9, 6]],\n",
       "\n",
       "       [[8, 4, 4],\n",
       "        [2, 5, 3],\n",
       "        [8, 5, 7]]])"
      ]
     },
     "execution_count": 13,
     "metadata": {},
     "output_type": "execute_result"
    }
   ],
   "source": [
    "A=np.random.randint(1,10,[3,3,3],dtype=np.int64)\n",
    "A"
   ]
  },
  {
   "cell_type": "code",
   "execution_count": 14,
   "metadata": {
    "hidden": true
   },
   "outputs": [
    {
     "data": {
      "text/plain": [
       "array([[17, 19, 13],\n",
       "       [ 8, 15, 14],\n",
       "       [15, 18, 16]])"
      ]
     },
     "execution_count": 14,
     "metadata": {},
     "output_type": "execute_result"
    }
   ],
   "source": [
    "np.sum(A,axis=0)"
   ]
  },
  {
   "cell_type": "code",
   "execution_count": 15,
   "metadata": {
    "hidden": true
   },
   "outputs": [
    {
     "data": {
      "text/plain": [
       "array([[10, 17, 14],\n",
       "       [12, 21, 15],\n",
       "       [18, 14, 14]])"
      ]
     },
     "execution_count": 15,
     "metadata": {},
     "output_type": "execute_result"
    }
   ],
   "source": [
    "#沿axis同于1的方向做加法 等价于3x3中的行的方向\n",
    "np.sum(A,axis=1)"
   ]
  },
  {
   "cell_type": "code",
   "execution_count": 16,
   "metadata": {
    "hidden": true
   },
   "outputs": [
    {
     "data": {
      "text/plain": [
       "array([[18, 15,  8],\n",
       "       [15, 12, 21],\n",
       "       [16, 10, 20]])"
      ]
     },
     "execution_count": 16,
     "metadata": {},
     "output_type": "execute_result"
    }
   ],
   "source": [
    "np.sum(A,axis=2)"
   ]
  },
  {
   "cell_type": "code",
   "execution_count": 17,
   "metadata": {
    "hidden": true
   },
   "outputs": [
    {
     "data": {
      "text/plain": [
       "array([8, 1, 8])"
      ]
     },
     "execution_count": 17,
     "metadata": {},
     "output_type": "execute_result"
    }
   ],
   "source": [
    "# 所有3x3的[0,0]位置组成新的向量\n",
    "A[:,0,0]"
   ]
  },
  {
   "cell_type": "code",
   "execution_count": 18,
   "metadata": {
    "hidden": true
   },
   "outputs": [
    {
     "data": {
      "text/plain": [
       "array([[1, 7, 7],\n",
       "       [5, 5, 2],\n",
       "       [6, 9, 6]])"
      ]
     },
     "execution_count": 18,
     "metadata": {},
     "output_type": "execute_result"
    }
   ],
   "source": [
    "# 第1个的 3x3（从第0个开始）\n",
    "A[1,]\n",
    "#等价A[1,:,:], 后面如果有冒号，可以省略"
   ]
  },
  {
   "cell_type": "code",
   "execution_count": 19,
   "metadata": {
    "hidden": true
   },
   "outputs": [
    {
     "data": {
      "text/plain": [
       "array([[1, 5, 9],\n",
       "       [5, 5, 2],\n",
       "       [2, 5, 3]])"
      ]
     },
     "execution_count": 19,
     "metadata": {},
     "output_type": "execute_result"
    }
   ],
   "source": [
    "A[:,1,:]\n",
    "# 从后面开始，后面两个维度[1,:]代表3x3矩阵的第1行，再往前看:,代表所有3x3矩阵的第1行"
   ]
  },
  {
   "cell_type": "markdown",
   "metadata": {
    "heading_collapsed": true
   },
   "source": [
    "### empty初始化"
   ]
  },
  {
   "cell_type": "code",
   "execution_count": 20,
   "metadata": {
    "hidden": true
   },
   "outputs": [
    {
     "name": "stdout",
     "output_type": "stream",
     "text": [
      "[[[ 6.89825974e-310  6.89825974e-310 -5.53762849e+047]\n",
      "  [ 6.89825622e-310  6.89825025e-310 -2.01932978e-197]\n",
      "  [ 6.89825685e-310  6.89825025e-310 -1.89909690e+039]]\n",
      "\n",
      " [[ 6.89825918e-310  6.89825025e-310  3.90827786e-120]\n",
      "  [ 6.89825028e-310  6.89825025e-310  4.87911512e-057]\n",
      "  [ 6.89825027e-310  6.89825025e-310 -3.69093313e-023]]\n",
      "\n",
      " [[ 6.89825025e-310  6.89825025e-310  3.54328388e-112]\n",
      "  [ 6.89825905e-310  6.89825025e-310 -7.71995083e-296]\n",
      "  [ 6.89826067e-310  6.89825025e-310  1.34385856e-321]]]\n"
     ]
    }
   ],
   "source": [
    "A=np.empty(A.shape);\n",
    "print(A)"
   ]
  },
  {
   "cell_type": "code",
   "execution_count": 21,
   "metadata": {
    "hidden": true
   },
   "outputs": [
    {
     "data": {
      "text/plain": [
       "array([[ 0.58726406,  1.68250273],\n",
       "       [ 0.15645254, -0.17207964]])"
      ]
     },
     "execution_count": 21,
     "metadata": {},
     "output_type": "execute_result"
    }
   ],
   "source": [
    "np.random.randn(2,2)"
   ]
  },
  {
   "cell_type": "markdown",
   "metadata": {
    "heading_collapsed": true
   },
   "source": [
    "### 判断矩阵的每一行，与另外一个向量是否相等，得到真值矩阵"
   ]
  },
  {
   "cell_type": "code",
   "execution_count": 22,
   "metadata": {
    "hidden": true
   },
   "outputs": [
    {
     "data": {
      "text/plain": [
       "array([[1, 0, 0, 0],\n",
       "       [0, 0, 1, 0],\n",
       "       [0, 1, 0, 1]])"
      ]
     },
     "execution_count": 22,
     "metadata": {},
     "output_type": "execute_result"
    }
   ],
   "source": [
    "A=np.array([[0,0,0,0],[1,1,1,1],[2,2,2,2]]);\n",
    "vec = np.array([0,2,1,2]);\n",
    "np.where(A ==vec,1,0)"
   ]
  },
  {
   "cell_type": "markdown",
   "metadata": {
    "heading_collapsed": true
   },
   "source": [
    "### tile用法"
   ]
  },
  {
   "cell_type": "markdown",
   "metadata": {},
   "source": [
    "### stack"
   ]
  },
  {
   "cell_type": "code",
   "execution_count": 2,
   "metadata": {},
   "outputs": [],
   "source": [
    "import numpy as np"
   ]
  },
  {
   "cell_type": "code",
   "execution_count": 3,
   "metadata": {},
   "outputs": [],
   "source": [
    "a=np.array([1,2,3])"
   ]
  },
  {
   "cell_type": "code",
   "execution_count": 4,
   "metadata": {},
   "outputs": [],
   "source": [
    "b=np.array([4,5,6])"
   ]
  },
  {
   "cell_type": "code",
   "execution_count": 5,
   "metadata": {},
   "outputs": [
    {
     "data": {
      "text/plain": [
       "array([[1, 4],\n",
       "       [2, 5],\n",
       "       [3, 6]])"
      ]
     },
     "execution_count": 5,
     "metadata": {},
     "output_type": "execute_result"
    }
   ],
   "source": [
    "np.stack([a,b],axis=1)"
   ]
  },
  {
   "cell_type": "code",
   "execution_count": 6,
   "metadata": {},
   "outputs": [
    {
     "data": {
      "text/plain": [
       "array([[1, 4],\n",
       "       [2, 5],\n",
       "       [3, 6]])"
      ]
     },
     "execution_count": 6,
     "metadata": {},
     "output_type": "execute_result"
    }
   ],
   "source": [
    "np.stack((a,b),axis=1)"
   ]
  },
  {
   "cell_type": "code",
   "execution_count": 8,
   "metadata": {},
   "outputs": [
    {
     "data": {
      "text/plain": [
       "array([[1, 4],\n",
       "       [2, 5],\n",
       "       [3, 6]])"
      ]
     },
     "execution_count": 8,
     "metadata": {},
     "output_type": "execute_result"
    }
   ],
   "source": [
    "np.stack(([1,2,3],[4,5,6]),axis=1)"
   ]
  },
  {
   "cell_type": "code",
   "execution_count": 10,
   "metadata": {},
   "outputs": [
    {
     "data": {
      "text/plain": [
       "array([[1, 2, 3],\n",
       "       [4, 5, 6]])"
      ]
     },
     "execution_count": 10,
     "metadata": {},
     "output_type": "execute_result"
    }
   ],
   "source": [
    "c = [ [1,2,3],[4,5,6]]\n",
    "np.stack(c,axis=0)"
   ]
  },
  {
   "cell_type": "code",
   "execution_count": null,
   "metadata": {},
   "outputs": [],
   "source": []
  }
 ],
 "metadata": {
  "kernelspec": {
   "display_name": "Python 3",
   "language": "python",
   "name": "python3"
  },
  "language_info": {
   "codemirror_mode": {
    "name": "ipython",
    "version": 3
   },
   "file_extension": ".py",
   "mimetype": "text/x-python",
   "name": "python",
   "nbconvert_exporter": "python",
   "pygments_lexer": "ipython3",
   "version": "3.6.5"
  },
  "latex_envs": {
   "LaTeX_envs_menu_present": true,
   "autoclose": false,
   "autocomplete": true,
   "bibliofile": "biblio.bib",
   "cite_by": "apalike",
   "current_citInitial": 1,
   "eqLabelWithNumbers": true,
   "eqNumInitial": 1,
   "hotkeys": {
    "equation": "Ctrl-E",
    "itemize": "Ctrl-I"
   },
   "labels_anchors": false,
   "latex_user_defs": false,
   "report_style_numbering": false,
   "user_envs_cfg": false
  },
  "toc": {
   "base_numbering": 1,
   "nav_menu": {},
   "number_sections": true,
   "sideBar": true,
   "skip_h1_title": false,
   "title_cell": "Table of Contents",
   "title_sidebar": "Contents",
   "toc_cell": false,
   "toc_position": {},
   "toc_section_display": true,
   "toc_window_display": false
  }
 },
 "nbformat": 4,
 "nbformat_minor": 2
}
