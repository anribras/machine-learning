{
 "cells": [
  {
   "cell_type": "markdown",
   "metadata": {},
   "source": [
    "### shape(R,)和shape(R,1)的区别\n",
    "可以参考[这个文章](https://stackoverflow.com/questions/22053050/difference-between-numpy-array-shape-r-1-and-r)\n",
    "将1维向量二维化,首先要清楚它column还是row,添加一个None的维度即可完成转化.\n",
    "```python\n",
    "    column = column[:,None];\n",
    "    row = row[None,:]\n",
    "```"
   ]
  },
  {
   "cell_type": "markdown",
   "metadata": {},
   "source": [
    "### 切片"
   ]
  },
  {
   "cell_type": "code",
   "execution_count": 128,
   "metadata": {},
   "outputs": [
    {
     "name": "stdout",
     "output_type": "stream",
     "text": [
      "[1, 2, 3, 4]\n",
      "[4, 3, 2, 1]\n",
      "[1, 2, 3, 4]\n",
      "[1, 2, 3]\n",
      "[1, 2]\n"
     ]
    }
   ],
   "source": [
    "#切片是满足 左闭，右开\n",
    "a=[1,2,3,4]\n",
    "print(a[::1]);\n",
    "print(a[::-1]);\n",
    "print(a[:]);\n",
    "print(a[:-1]);\n",
    "print(a[:-2]);"
   ]
  },
  {
   "cell_type": "markdown",
   "metadata": {},
   "source": [
    "### numpy行向量列向量之间转换"
   ]
  },
  {
   "cell_type": "code",
   "execution_count": 20,
   "metadata": {
    "slideshow": {
     "slide_type": "-"
    }
   },
   "outputs": [
    {
     "name": "stdout",
     "output_type": "stream",
     "text": [
      "a: [1 2 3 4] a.shape (4,)\n",
      "aa: [[1 2 3 4]] aa.shape (1, 4)\n",
      "aa:\n",
      " [[1]\n",
      " [2]\n",
      " [3]\n",
      " [4]] \n",
      "aa.shape (4, 1)\n",
      "row into column vec:\n",
      " [[1]\n",
      " [2]\n",
      " [3]\n",
      " [4]] \n",
      "b.shape (4, 1)\n",
      "column into row vec: [[1 2 3 4]] c.shape (1, 4)\n"
     ]
    }
   ],
   "source": [
    "import numpy as np;\n",
    "# np没有一维向量,只有(4)\n",
    "a=np.array([1,2,3,4]);\n",
    "print('a:',a,'a.shape',a.shape)\n",
    "\n",
    "#转变成 (1,4)\n",
    "aa=np.array([a])\n",
    "print('aa:',aa,'aa.shape',aa.shape)\n",
    "\n",
    "#转变成(4,1)\n",
    "aa=np.array([a]).T\n",
    "print('aa:\\n',aa,'\\naa.shape',aa.shape)\n",
    "\n",
    "# 用reshape\n",
    "b=a.reshape(-1,1);\n",
    "print('row into column vec:\\n',b,'\\nb.shape',b.shape)\n",
    "#列向量变行向量 reshape\n",
    "c=b.reshape(1,-1);\n",
    "print('column into row vec:',c,'c.shape',c.shape)"
   ]
  },
  {
   "cell_type": "markdown",
   "metadata": {},
   "source": [
    "### 倒序循环"
   ]
  },
  {
   "cell_type": "code",
   "execution_count": 26,
   "metadata": {},
   "outputs": [
    {
     "name": "stdout",
     "output_type": "stream",
     "text": [
      "9\n",
      "8\n",
      "7\n",
      "6\n",
      "5\n",
      "4\n",
      "3\n",
      "2\n",
      "1\n",
      "0\n"
     ]
    }
   ],
   "source": [
    "for i in range(10-1,-1,-1):\n",
    "    print(i);"
   ]
  },
  {
   "cell_type": "markdown",
   "metadata": {},
   "source": [
    "###  行，列，全体求和"
   ]
  },
  {
   "cell_type": "code",
   "execution_count": 28,
   "metadata": {},
   "outputs": [
    {
     "data": {
      "text/plain": [
       "9.0"
      ]
     },
     "execution_count": 28,
     "metadata": {},
     "output_type": "execute_result"
    }
   ],
   "source": [
    "A=np.ones([3,3]);\n",
    "np.sum(A)"
   ]
  },
  {
   "cell_type": "code",
   "execution_count": 30,
   "metadata": {},
   "outputs": [
    {
     "data": {
      "text/plain": [
       "3.0"
      ]
     },
     "execution_count": 30,
     "metadata": {},
     "output_type": "execute_result"
    }
   ],
   "source": [
    "np.sum(A[:,1])"
   ]
  },
  {
   "cell_type": "code",
   "execution_count": 134,
   "metadata": {},
   "outputs": [
    {
     "data": {
      "text/plain": [
       "26"
      ]
     },
     "execution_count": 134,
     "metadata": {},
     "output_type": "execute_result"
    }
   ],
   "source": [
    "np.sum(A[1,:])"
   ]
  },
  {
   "cell_type": "code",
   "execution_count": 138,
   "metadata": {},
   "outputs": [
    {
     "name": "stdout",
     "output_type": "stream",
     "text": [
      "A=\n",
      " [[1 2 3 4]\n",
      " [5 6 7 8]]\n",
      "Sum row together\n",
      " [ 6  8 10 12]\n",
      "Sum[None,:]\n",
      " [[ 6  8 10 12]]\n",
      "Sum[None,:] shape\n",
      " (1, 4)\n",
      "Matrix divide row-vector:\n",
      " [[ 0.16666667  0.25        0.3         0.33333333]\n",
      " [ 0.83333333  0.75        0.7         0.66666667]]\n",
      "Sum column together\n",
      " [10 26]\n",
      "Matrix divide column-vector:\n",
      " [[ 0.1         0.2         0.3         0.4       ]\n",
      " [ 0.19230769  0.23076923  0.26923077  0.30769231]]\n"
     ]
    }
   ],
   "source": [
    "A=np.array([[1,2,3,4],[5,6,7,8]]);\n",
    "print('A=\\n',A);\n",
    "\n",
    "#然后对A的每一列除以sum的值 ，相当于列的概率分布\n",
    "# none的作用还是初始化1维向量\n",
    "Sum = np.sum(A,axis=0)\n",
    "print('Sum row together\\n',Sum);\n",
    "print('Sum[None,:]\\n',Sum[None,:])\n",
    "print('Sum[None,:] shape\\n',Sum[None,:].shape)\n",
    "print('Matrix divide row-vector:\\n', A / Sum[None,:]);\n",
    "\n",
    "\n",
    "Sum=np.sum(A,axis=1);\n",
    "print('Sum column together\\n',Sum);\n",
    "print('Matrix divide column-vector:\\n',A / Sum[:,None]);"
   ]
  },
  {
   "cell_type": "markdown",
   "metadata": {},
   "source": [
    "### 最后一个元素用a[-1]来寻找 ,类似matlab a(end)"
   ]
  },
  {
   "cell_type": "code",
   "execution_count": 33,
   "metadata": {},
   "outputs": [
    {
     "data": {
      "text/plain": [
       "3"
      ]
     },
     "execution_count": 33,
     "metadata": {},
     "output_type": "execute_result"
    }
   ],
   "source": [
    "a1=np.array([1,2,3])\n",
    "a1[-1]"
   ]
  },
  {
   "cell_type": "code",
   "execution_count": 35,
   "metadata": {},
   "outputs": [
    {
     "data": {
      "text/plain": [
       "2"
      ]
     },
     "execution_count": 35,
     "metadata": {},
     "output_type": "execute_result"
    }
   ],
   "source": [
    "a1[-2]"
   ]
  },
  {
   "cell_type": "code",
   "execution_count": 62,
   "metadata": {},
   "outputs": [
    {
     "data": {
      "text/plain": [
       "1"
      ]
     },
     "execution_count": 62,
     "metadata": {},
     "output_type": "execute_result"
    }
   ],
   "source": [
    "a1[-3]"
   ]
  },
  {
   "cell_type": "code",
   "execution_count": 63,
   "metadata": {},
   "outputs": [
    {
     "data": {
      "text/plain": [
       "array([3, 2, 1])"
      ]
     },
     "execution_count": 63,
     "metadata": {},
     "output_type": "execute_result"
    }
   ],
   "source": [
    "a1[::-1]"
   ]
  },
  {
   "cell_type": "markdown",
   "metadata": {},
   "source": [
    "### 矩阵连续点乘"
   ]
  },
  {
   "cell_type": "code",
   "execution_count": 58,
   "metadata": {},
   "outputs": [
    {
     "name": "stdout",
     "output_type": "stream",
     "text": [
      "[[-65.33427095 -67.19555078 -68.65499209]\n",
      " [-36.19156642 -37.189905   -38.01345919]\n",
      " [-64.37481746 -66.18932156 -67.63437653]]\n",
      "------\n"
     ]
    },
    {
     "data": {
      "text/plain": [
       "array([[-65.33427095, -67.19555078, -68.65499209],\n",
       "       [-36.19156642, -37.189905  , -38.01345919],\n",
       "       [-64.37481746, -66.18932156, -67.63437653]])"
      ]
     },
     "execution_count": 58,
     "metadata": {},
     "output_type": "execute_result"
    }
   ],
   "source": [
    "size = [3,3]\n",
    "A=np.random.rand(3,3);\n",
    "B= A+1;\n",
    "C =A /2 ;\n",
    "D = A -10;\n",
    "\n",
    "ans=A.dot(B).dot(C).dot(D)\n",
    "print(ans)\n",
    "print('------')\n",
    "from functools import reduce ;\n",
    "ans = reduce(np.dot,[A,B,C,D]);\n",
    "print(ans)\n"
   ]
  },
  {
   "cell_type": "markdown",
   "metadata": {},
   "source": [
    "### 矩阵的多维性质"
   ]
  },
  {
   "cell_type": "code",
   "execution_count": 116,
   "metadata": {},
   "outputs": [
    {
     "data": {
      "text/plain": [
       "array([[[6, 4, 9],\n",
       "        [4, 9, 5],\n",
       "        [8, 6, 4]],\n",
       "\n",
       "       [[3, 8, 7],\n",
       "        [6, 6, 4],\n",
       "        [1, 2, 3]],\n",
       "\n",
       "       [[6, 5, 5],\n",
       "        [4, 6, 6],\n",
       "        [9, 4, 2]]])"
      ]
     },
     "execution_count": 116,
     "metadata": {},
     "output_type": "execute_result"
    }
   ],
   "source": [
    "A=np.random.randint(1,10,[3,3,3],dtype=np.int64)\n",
    "A"
   ]
  },
  {
   "cell_type": "code",
   "execution_count": 117,
   "metadata": {},
   "outputs": [
    {
     "data": {
      "text/plain": [
       "array([[15, 17, 21],\n",
       "       [14, 21, 15],\n",
       "       [18, 12,  9]])"
      ]
     },
     "execution_count": 117,
     "metadata": {},
     "output_type": "execute_result"
    }
   ],
   "source": [
    "np.sum(A,axis=0)"
   ]
  },
  {
   "cell_type": "code",
   "execution_count": 118,
   "metadata": {},
   "outputs": [
    {
     "data": {
      "text/plain": [
       "array([[18, 19, 18],\n",
       "       [10, 16, 14],\n",
       "       [19, 15, 13]])"
      ]
     },
     "execution_count": 118,
     "metadata": {},
     "output_type": "execute_result"
    }
   ],
   "source": [
    "#沿axis同于1的方向做加法 等价于3x3中的行的方向\n",
    "np.sum(A,axis=1)"
   ]
  },
  {
   "cell_type": "code",
   "execution_count": 109,
   "metadata": {},
   "outputs": [
    {
     "data": {
      "text/plain": [
       "array([[27, 12, 16],\n",
       "       [17, 15,  9],\n",
       "       [14, 10, 10]])"
      ]
     },
     "execution_count": 109,
     "metadata": {},
     "output_type": "execute_result"
    }
   ],
   "source": [
    "np.sum(A,axis=2)"
   ]
  },
  {
   "cell_type": "code",
   "execution_count": 110,
   "metadata": {},
   "outputs": [
    {
     "data": {
      "text/plain": [
       "array([9, 8, 9])"
      ]
     },
     "execution_count": 110,
     "metadata": {},
     "output_type": "execute_result"
    }
   ],
   "source": [
    "# 所有3x3的[0,0]位置组成新的向量\n",
    "A[:,0,0]"
   ]
  },
  {
   "cell_type": "code",
   "execution_count": 111,
   "metadata": {},
   "outputs": [
    {
     "data": {
      "text/plain": [
       "array([[8, 3, 6],\n",
       "       [2, 4, 9],\n",
       "       [2, 2, 5]])"
      ]
     },
     "execution_count": 111,
     "metadata": {},
     "output_type": "execute_result"
    }
   ],
   "source": [
    "# 第1个的 3x3（从第0个开始）\n",
    "A[1,]\n",
    "#等价A[1,:,:], 后面如果有冒号，可以省略"
   ]
  },
  {
   "cell_type": "code",
   "execution_count": 112,
   "metadata": {},
   "outputs": [
    {
     "data": {
      "text/plain": [
       "array([[4, 6, 2],\n",
       "       [2, 4, 9],\n",
       "       [4, 1, 5]])"
      ]
     },
     "execution_count": 112,
     "metadata": {},
     "output_type": "execute_result"
    }
   ],
   "source": [
    "A[:,1,:]\n",
    "# 从后面开始，后面两个维度[1,:]代表3x3矩阵的第1行，再往前看:,代表所有3x3矩阵的第1行"
   ]
  },
  {
   "cell_type": "markdown",
   "metadata": {},
   "source": [
    "### empty初始化"
   ]
  },
  {
   "cell_type": "code",
   "execution_count": 114,
   "metadata": {},
   "outputs": [
    {
     "name": "stdout",
     "output_type": "stream",
     "text": [
      "[[[ 0.16933267  0.79862806  0.25106778]\n",
      "  [ 0.76589056  0.91035973  0.16881393]\n",
      "  [ 0.84442154  0.62991591  0.45926804]]\n",
      "\n",
      " [[ 0.19458677  0.08658751  0.60264572]\n",
      "  [ 0.55967403  0.07950939  0.62167819]\n",
      "  [ 0.32808307  0.26253843  0.99294713]]\n",
      "\n",
      " [[ 0.19907042  0.38073091  0.63410862]\n",
      "  [ 0.20123251  0.73627526  0.5749341 ]\n",
      "  [ 0.42085077  0.39527889  0.90448883]]]\n"
     ]
    }
   ],
   "source": [
    "A=np.empty(A.shape);\n",
    "print(A)"
   ]
  },
  {
   "cell_type": "code",
   "execution_count": 140,
   "metadata": {},
   "outputs": [
    {
     "data": {
      "text/plain": [
       "array([[ 1.72514035,  0.32715656],\n",
       "       [ 2.16896929, -0.99099336]])"
      ]
     },
     "execution_count": 140,
     "metadata": {},
     "output_type": "execute_result"
    }
   ],
   "source": [
    "np.random.randn(2,2)"
   ]
  },
  {
   "cell_type": "markdown",
   "metadata": {},
   "source": [
    "### 判断矩阵的每一行，与另外一个向量是否相等，得到真值矩阵"
   ]
  },
  {
   "cell_type": "code",
   "execution_count": 148,
   "metadata": {},
   "outputs": [
    {
     "data": {
      "text/plain": [
       "array([[1, 0, 0, 0],\n",
       "       [0, 0, 1, 0],\n",
       "       [0, 1, 0, 1]])"
      ]
     },
     "execution_count": 148,
     "metadata": {},
     "output_type": "execute_result"
    }
   ],
   "source": [
    "A=np.array([[0,0,0,0],[1,1,1,1],[2,2,2,2]]);\n",
    "vec = np.array([0,2,1,2]);\n",
    "np.where(A ==vec,1,0)"
   ]
  },
  {
   "cell_type": "markdown",
   "metadata": {},
   "source": [
    "### tile用法"
   ]
  },
  {
   "cell_type": "code",
   "execution_count": 155,
   "metadata": {},
   "outputs": [
    {
     "data": {
      "text/plain": [
       "array([1, 2, 3])"
      ]
     },
     "execution_count": 155,
     "metadata": {},
     "output_type": "execute_result"
    }
   ],
   "source": [
    "b = np.tile(np.array([1,2,3]),);\n",
    "b"
   ]
  },
  {
   "cell_type": "code",
   "execution_count": null,
   "metadata": {},
   "outputs": [],
   "source": []
  }
 ],
 "metadata": {
  "kernelspec": {
   "display_name": "Python 3",
   "language": "python",
   "name": "python3"
  },
  "language_info": {
   "codemirror_mode": {
    "name": "ipython",
    "version": 3
   },
   "file_extension": ".py",
   "mimetype": "text/x-python",
   "name": "python",
   "nbconvert_exporter": "python",
   "pygments_lexer": "ipython3",
   "version": "3.6.4"
  }
 },
 "nbformat": 4,
 "nbformat_minor": 2
}
