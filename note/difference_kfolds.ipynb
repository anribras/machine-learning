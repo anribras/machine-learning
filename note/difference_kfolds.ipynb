{
 "cells": [
  {
   "cell_type": "markdown",
   "metadata": {},
   "source": [
    "### 比较下各种cv集产生的方式"
   ]
  },
  {
   "cell_type": "markdown",
   "metadata": {},
   "source": [
    "#### KFold,stratifiedKFold,StratifiedShuffleSplit\n",
    "\n",
    "`KFold`是分成n坨，shuffle指的是拿做cv set 的那坨的顺序是随机的,若false,则按顺序抽一坨为cv set.  但不分层(即按分类的比例来构造每一坨), \n",
    "`StratifiedKFold`和KFold的区别是为分层，比如y中0和1为1:1,则分坨时，每坨0和1的比例也是1:1\n",
    "\n",
    "以上两种属于`不放回抽样`，即每坨的元素都是不重复的，所以的坨加起来就是原来的集合\n",
    "\n",
    "\n",
    "`ShuffleSplit` 和`StratifiedShuffleSplit` 则是`放回抽样`，同样分10次，每次都放回. 意味着可能10次的cv set里，元素可能重复\n",
    "\n",
    "`train_and_test_split`\n",
    "前面都是给出index，这个函数直接根据dataset给出分好的train set and cv set.不是\n",
    "Fold算法，只给出一个train和1个test, 调用多次的效果类似于`ShuffleSplit`\n"
   ]
  },
  {
   "cell_type": "code",
   "execution_count": 19,
   "metadata": {},
   "outputs": [
    {
     "name": "stdout",
     "output_type": "stream",
     "text": [
      "KFold shuffle=false\n",
      "TRAIN: [2 3 4 5 6 7 8 9] TEST: [0 1]\n",
      "TRAIN: [0 1 4 5 6 7 8 9] TEST: [2 3]\n",
      "TRAIN: [0 1 2 3 6 7 8 9] TEST: [4 5]\n",
      "TRAIN: [0 1 2 3 4 5 8 9] TEST: [6 7]\n",
      "TRAIN: [0 1 2 3 4 5 6 7] TEST: [8 9]\n",
      "KFold shuffle=true\n",
      "TRAIN: [0 1 2 4 5 6 7 8] TEST: [3 9]\n",
      "TRAIN: [0 1 2 3 4 5 7 9] TEST: [6 8]\n",
      "TRAIN: [0 1 3 4 6 7 8 9] TEST: [2 5]\n",
      "TRAIN: [0 2 3 4 5 6 8 9] TEST: [1 7]\n",
      "TRAIN: [1 2 3 5 6 7 8 9] TEST: [0 4]\n",
      "StratifiedKFold shuffle =false\n",
      "TRAIN: [1 2 3 4 6 7 8 9] TEST: [0 5]\n",
      "TRAIN: [0 2 3 4 5 7 8 9] TEST: [1 6]\n",
      "TRAIN: [0 1 3 4 5 6 8 9] TEST: [2 7]\n",
      "TRAIN: [0 1 2 4 5 6 7 9] TEST: [3 8]\n",
      "TRAIN: [0 1 2 3 5 6 7 8] TEST: [4 9]\n",
      "StratifiedKFold shuffle =true\n",
      "TRAIN: [0 2 3 4 5 7 8 9] TEST: [1 6]\n",
      "TRAIN: [0 1 2 3 5 6 7 8] TEST: [4 9]\n",
      "TRAIN: [0 1 3 4 5 6 8 9] TEST: [2 7]\n",
      "TRAIN: [1 2 3 4 6 7 8 9] TEST: [0 5]\n",
      "TRAIN: [0 1 2 4 5 6 7 9] TEST: [3 8]\n",
      "Shuffle Split\n",
      "TRAIN: [5 0 7 2 9 4 3 6] TEST: [8 1]\n",
      "TRAIN: [8 5 3 4 7 9 6 2] TEST: [0 1]\n",
      "TRAIN: [0 6 8 5 3 7 1 4] TEST: [9 2]\n",
      "TRAIN: [6 2 8 0 3 4 5 9] TEST: [1 7]\n",
      "TRAIN: [4 8 0 7 6 3 2 9] TEST: [1 5]\n",
      "Stratified Shuffle Split\n",
      "TRAIN: [8 4 1 0 6 5 7 2] TEST: [3 9]\n",
      "TRAIN: [7 0 3 9 4 5 1 6] TEST: [8 2]\n",
      "TRAIN: [1 2 5 6 4 8 9 0] TEST: [3 7]\n",
      "TRAIN: [4 6 7 8 3 5 1 2] TEST: [9 0]\n",
      "TRAIN: [7 2 6 5 4 3 0 9] TEST: [1 8]\n",
      "train_test_split:\n",
      "[5, 6, 7, 0, 2, 4, 1, 8] [1, 1, 1, 0, 0, 0, 0, 1] [9, 3] [1, 0]\n"
     ]
    },
    {
     "name": "stderr",
     "output_type": "stream",
     "text": [
      "/opt/anaconda3/lib/python3.6/site-packages/sklearn/model_selection/_split.py:2026: FutureWarning: From version 0.21, test_size will always complement train_size unless both are specified.\n",
      "  FutureWarning)\n"
     ]
    }
   ],
   "source": [
    "splits = 5\n",
    "\n",
    "tx = range(10)\n",
    "ty = [0] * 5 + [1] * 5\n",
    "\n",
    "from sklearn.model_selection import StratifiedShuffleSplit, StratifiedKFold,KFold,ShuffleSplit\n",
    "\n",
    "from sklearn.model_selection import train_test_split\n",
    "from sklearn import datasets\n",
    "\n",
    "\n",
    "\n",
    "\n",
    "print(\"KFold shuffle=false\")\n",
    "kFold = KFold(n_splits=splits, shuffle=False, random_state=42)\n",
    "for train_index, test_index in kFold.split(tx, ty):\n",
    "    print(\"TRAIN:\", train_index, \"TEST:\", test_index)\n",
    "    \n",
    "print(\"KFold shuffle=true\")\n",
    "kFold = KFold(n_splits=splits, shuffle=True, random_state=43)\n",
    "for train_index, test_index in kFold.split(tx, ty):\n",
    "    print(\"TRAIN:\", train_index, \"TEST:\", test_index)\n",
    "\n",
    "print(\"StratifiedKFold shuffle =false\")\n",
    "stratifiedKFold = StratifiedKFold(n_splits=splits, shuffle=False, random_state=42)\n",
    "for train_index, test_index in stratifiedKFold.split(tx, ty):\n",
    "    print(\"TRAIN:\", train_index, \"TEST:\", test_index)\n",
    "    \n",
    "print(\"StratifiedKFold shuffle =true\")\n",
    "stratifiedKFold = StratifiedKFold(n_splits=splits, shuffle=True, random_state=42)\n",
    "for train_index, test_index in stratifiedKFold.split(tx, ty):\n",
    "    print(\"TRAIN:\", train_index, \"TEST:\", test_index)\n",
    "\n",
    "print(\"Shuffle Split\")\n",
    "shuffleSplit = ShuffleSplit(n_splits=splits, random_state=42, test_size=2)\n",
    "for train_index, test_index in shuffleSplit.split(tx, ty):\n",
    "    print(\"TRAIN:\", train_index, \"TEST:\", test_index)\n",
    "    \n",
    "print(\"Stratified Shuffle Split\")\n",
    "stratifiedShuffleSplit = StratifiedShuffleSplit(n_splits=splits, random_state=42, test_size=2)\n",
    "for train_index, test_index in stratifiedShuffleSplit.split(tx, ty):\n",
    "    print(\"TRAIN:\", train_index, \"TEST:\", test_index)\n",
    "    \n",
    "    \n",
    "print('train_test_split:')\n",
    "\n",
    "X_train, X_vld, y_train,y_vld = train_test_split(tx,ty,train_size=0.8,shuffle=True)\n",
    "print(X_train,y_train,X_vld,y_vld)\n",
    "\n",
    "\n"
   ]
  },
  {
   "cell_type": "code",
   "execution_count": null,
   "metadata": {},
   "outputs": [],
   "source": []
  }
 ],
 "metadata": {
  "kernelspec": {
   "display_name": "Python 3",
   "language": "python",
   "name": "python3"
  },
  "language_info": {
   "codemirror_mode": {
    "name": "ipython",
    "version": 3
   },
   "file_extension": ".py",
   "mimetype": "text/x-python",
   "name": "python",
   "nbconvert_exporter": "python",
   "pygments_lexer": "ipython3",
   "version": "3.6.4"
  },
  "latex_envs": {
   "LaTeX_envs_menu_present": true,
   "autoclose": false,
   "autocomplete": true,
   "bibliofile": "biblio.bib",
   "cite_by": "apalike",
   "current_citInitial": 1,
   "eqLabelWithNumbers": true,
   "eqNumInitial": 1,
   "hotkeys": {
    "equation": "Ctrl-E",
    "itemize": "Ctrl-I"
   },
   "labels_anchors": false,
   "latex_user_defs": false,
   "report_style_numbering": false,
   "user_envs_cfg": false
  },
  "toc": {
   "base_numbering": 1,
   "nav_menu": {},
   "number_sections": true,
   "sideBar": true,
   "skip_h1_title": false,
   "title_cell": "Table of Contents",
   "title_sidebar": "Contents",
   "toc_cell": false,
   "toc_position": {},
   "toc_section_display": true,
   "toc_window_display": false
  }
 },
 "nbformat": 4,
 "nbformat_minor": 2
}
