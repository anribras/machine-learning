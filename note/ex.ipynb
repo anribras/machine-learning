{
 "cells": [
  {
   "cell_type": "code",
   "execution_count": 114,
   "metadata": {},
   "outputs": [],
   "source": [
    "import re;\n",
    "strs=r\"\"\"------WebKitFormBoundaryIBHqCr3wQmVMuf18\n",
    "Content-Disposition: form-data; name=\"file.name\"\n",
    "\n",
    "test.mp3\n",
    "------WebKitFormBoundaryIBHqCr3wQmVMuf18\n",
    "Content-Disposition: form-data; name=\"file.type\"\n",
    "\n",
    "audio/mp3\n",
    "------WebKitFormBoundaryIBHqCr3wQmVMuf18\n",
    "Content-Disposition: form-data; name=\"file.path\"\n",
    "\n",
    "/opt/study/python3/FFWechat/tmp/nginx-upload/0028907681\n",
    "------WebKitFormBoundaryIBHqCr3wQmVMuf18\n",
    "Content-Disposition: form-data; name=\"file.md5\"\n",
    "\n",
    "680213305f0b5e6d4d9964f93777a914\n",
    "------WebKitFormBoundaryIBHqCr3wQmVMuf18\n",
    "Content-Disposition: form-data; name=\"file.size\"\n",
    "\n",
    "9153\n",
    "------WebKitFormBoundaryIBHqCr3wQmVMuf18--\"\"\""
   ]
  },
  {
   "cell_type": "code",
   "execution_count": 117,
   "metadata": {},
   "outputs": [
    {
     "data": {
      "text/plain": [
       "'------WebKitFormBoundaryIBHqCr3wQmVMuf18\\nContent-Disposition: form-data; name=\"file.name\"\\n\\ntest.mp3\\n------WebKitFormBoundaryIBHqCr3wQmVMuf18\\nContent-Disposition: form-data; name=\"file.type\"\\n\\naudio/mp3\\n------WebKitFormBoundaryIBHqCr3wQmVMuf18\\nContent-Disposition: form-data; name=\"file.path\"\\n\\n/opt/study/python3/FFWechat/tmp/nginx-upload/0028907681\\n------WebKitFormBoundaryIBHqCr3wQmVMuf18\\nContent-Disposition: form-data; name=\"file.md5\"\\n\\n680213305f0b5e6d4d9964f93777a914\\n------WebKitFormBoundaryIBHqCr3wQmVMuf18\\nContent-Disposition: form-data; name=\"file.size\"\\n\\n9153\\n------WebKitFormBoundaryIBHqCr3wQmVMuf18--'"
      ]
     },
     "execution_count": 117,
     "metadata": {},
     "output_type": "execute_result"
    }
   ],
   "source": [
    "strs"
   ]
  },
  {
   "cell_type": "code",
   "execution_count": 128,
   "metadata": {},
   "outputs": [
    {
     "ename": "AttributeError",
     "evalue": "'NoneType' object has no attribute 'groups'",
     "output_type": "error",
     "traceback": [
      "\u001b[0;31m---------------------------------------------------------------------------\u001b[0m",
      "\u001b[0;31mAttributeError\u001b[0m                            Traceback (most recent call last)",
      "\u001b[0;32m<ipython-input-128-553b494af1c7>\u001b[0m in \u001b[0;36m<module>\u001b[0;34m()\u001b[0m\n\u001b[1;32m      2\u001b[0m \u001b[0ma\u001b[0m\u001b[0;34m=\u001b[0m\u001b[0mre\u001b[0m\u001b[0;34m.\u001b[0m\u001b[0mmatch\u001b[0m\u001b[0;34m(\u001b[0m\u001b[0;34mr'^(Web)'\u001b[0m\u001b[0;34m,\u001b[0m\u001b[0mstring\u001b[0m\u001b[0;34m=\u001b[0m\u001b[0;34mr'-----WebKitFormBoundaryIBHqCr3wQmVMuf18\\nContent-Disposition'\u001b[0m\u001b[0;34m)\u001b[0m\u001b[0;34m\u001b[0m\u001b[0m\n\u001b[1;32m      3\u001b[0m \u001b[0mtype\u001b[0m\u001b[0;34m(\u001b[0m\u001b[0ma\u001b[0m\u001b[0;34m)\u001b[0m\u001b[0;34m\u001b[0m\u001b[0m\n\u001b[0;32m----> 4\u001b[0;31m \u001b[0ma\u001b[0m\u001b[0;34m.\u001b[0m\u001b[0mgroups\u001b[0m\u001b[0;34m(\u001b[0m\u001b[0;34m)\u001b[0m\u001b[0;34m\u001b[0m\u001b[0m\n\u001b[0m",
      "\u001b[0;31mAttributeError\u001b[0m: 'NoneType' object has no attribute 'groups'"
     ]
    }
   ],
   "source": [
    "# rekey = re.compile(r'(mp3)');\n",
    "a=re.match(r'^(Web)',string=r'-----WebKitFormBoundaryIBHqCr3wQmVMuf18\\nContent-Disposition')\n",
    "type(a)\n",
    "a.groups()"
   ]
  },
  {
   "cell_type": "code",
   "execution_count": null,
   "metadata": {},
   "outputs": [],
   "source": []
  }
 ],
 "metadata": {
  "kernelspec": {
   "display_name": "Python 3",
   "language": "python",
   "name": "python3"
  },
  "language_info": {
   "codemirror_mode": {
    "name": "ipython",
    "version": 3
   },
   "file_extension": ".py",
   "mimetype": "text/x-python",
   "name": "python",
   "nbconvert_exporter": "python",
   "pygments_lexer": "ipython3",
   "version": "3.6.5"
  },
  "latex_envs": {
   "LaTeX_envs_menu_present": true,
   "autoclose": false,
   "autocomplete": true,
   "bibliofile": "biblio.bib",
   "cite_by": "apalike",
   "current_citInitial": 1,
   "eqLabelWithNumbers": true,
   "eqNumInitial": 1,
   "hotkeys": {
    "equation": "Ctrl-E",
    "itemize": "Ctrl-I"
   },
   "labels_anchors": false,
   "latex_user_defs": false,
   "report_style_numbering": false,
   "user_envs_cfg": false
  },
  "toc": {
   "base_numbering": 1,
   "nav_menu": {},
   "number_sections": true,
   "sideBar": true,
   "skip_h1_title": false,
   "title_cell": "Table of Contents",
   "title_sidebar": "Contents",
   "toc_cell": false,
   "toc_position": {},
   "toc_section_display": true,
   "toc_window_display": false
  }
 },
 "nbformat": 4,
 "nbformat_minor": 2
}
