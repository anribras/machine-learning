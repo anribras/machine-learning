{
 "cells": [
  {
   "cell_type": "code",
   "execution_count": 1882,
   "metadata": {},
   "outputs": [],
   "source": [
    "#import libs\n",
    "import pandas as pd;\n",
    "import numpy as np;\n",
    "import seaborn as sns;\n",
    "import matplotlib.pyplot as plt;"
   ]
  },
  {
   "cell_type": "markdown",
   "metadata": {},
   "source": [
    "### Overall"
   ]
  },
  {
   "cell_type": "code",
   "execution_count": 1883,
   "metadata": {},
   "outputs": [],
   "source": [
    "# see the data\n",
    "train = pd.read_csv('../../data/house-prices/train.csv')\n",
    "test = pd.read_csv('../../data/house-prices/test.csv');"
   ]
  },
  {
   "cell_type": "markdown",
   "metadata": {},
   "source": [
    "#### outlier"
   ]
  },
  {
   "cell_type": "code",
   "execution_count": 1884,
   "metadata": {},
   "outputs": [
    {
     "data": {
      "text/plain": [
       "<matplotlib.axes._subplots.AxesSubplot at 0x7ff8d08b9208>"
      ]
     },
     "execution_count": 1884,
     "metadata": {},
     "output_type": "execute_result"
    },
    {
     "data": {
      "image/png": "[encoded data removed]",
      "text/plain": [
       "<matplotlib.figure.Figure at 0x7ff8d0925588>"
      ]
     },
     "metadata": {},
     "output_type": "display_data"
    }
   ],
   "source": [
    "sns.distplot(train['SalePrice'])"
   ]
  },
  {
   "cell_type": "code",
   "execution_count": 1885,
   "metadata": {},
   "outputs": [
    {
     "name": "stdout",
     "output_type": "stream",
     "text": [
      "1460\n",
      "1459\n"
     ]
    }
   ],
   "source": [
    "# outlier first\n",
    "# pos = np.where(train['SalePrice'] < 40000)\n",
    "# train.drop(labels=pos[0],axis=0,inplace=True)\n",
    "# train.drop(labels=[825,88],axis=0,inplace=True)\n",
    "train_len = len(train)\n",
    "test_len = len(test)\n",
    "print(train_len)\n",
    "print(test_len)"
   ]
  },
  {
   "cell_type": "code",
   "execution_count": 1886,
   "metadata": {},
   "outputs": [],
   "source": [
    "ids = test['Id']"
   ]
  },
  {
   "cell_type": "code",
   "execution_count": 1887,
   "metadata": {},
   "outputs": [],
   "source": [
    "if 'SalePrice' in train:\n",
    "    y = train['SalePrice']\n",
    "\n",
    "if 'Id' in test:\n",
    "    ids = test.pop('Id')\n",
    "    train.pop('Id')"
   ]
  },
  {
   "cell_type": "code",
   "execution_count": 1888,
   "metadata": {},
   "outputs": [
    {
     "name": "stdout",
     "output_type": "stream",
     "text": [
      "(2919, 80)\n"
     ]
    },
    {
     "data": {
      "text/plain": [
       "1stFlrSF            0\n",
       "2ndFlrSF            0\n",
       "3SsnPorch           0\n",
       "Alley            2721\n",
       "BedroomAbvGr        0\n",
       "BldgType            0\n",
       "BsmtCond           82\n",
       "BsmtExposure       82\n",
       "BsmtFinSF1          1\n",
       "BsmtFinSF2          1\n",
       "BsmtFinType1       79\n",
       "BsmtFinType2       80\n",
       "BsmtFullBath        2\n",
       "BsmtHalfBath        2\n",
       "BsmtQual           81\n",
       "BsmtUnfSF           1\n",
       "CentralAir          0\n",
       "Condition1          0\n",
       "Condition2          0\n",
       "Electrical          1\n",
       "EnclosedPorch       0\n",
       "ExterCond           0\n",
       "ExterQual           0\n",
       "Exterior1st         1\n",
       "Exterior2nd         1\n",
       "Fence            2348\n",
       "FireplaceQu      1420\n",
       "Fireplaces          0\n",
       "Foundation          0\n",
       "FullBath            0\n",
       "                 ... \n",
       "LotShape            0\n",
       "LowQualFinSF        0\n",
       "MSSubClass          0\n",
       "MSZoning            4\n",
       "MasVnrArea         23\n",
       "MasVnrType         24\n",
       "MiscFeature      2814\n",
       "MiscVal             0\n",
       "MoSold              0\n",
       "Neighborhood        0\n",
       "OpenPorchSF         0\n",
       "OverallCond         0\n",
       "OverallQual         0\n",
       "PavedDrive          0\n",
       "PoolArea            0\n",
       "PoolQC           2909\n",
       "RoofMatl            0\n",
       "RoofStyle           0\n",
       "SaleCondition       0\n",
       "SalePrice        1459\n",
       "SaleType            1\n",
       "ScreenPorch         0\n",
       "Street              0\n",
       "TotRmsAbvGrd        0\n",
       "TotalBsmtSF         1\n",
       "Utilities           2\n",
       "WoodDeckSF          0\n",
       "YearBuilt           0\n",
       "YearRemodAdd        0\n",
       "YrSold              0\n",
       "Length: 80, dtype: int64"
      ]
     },
     "execution_count": 1888,
     "metadata": {},
     "output_type": "execute_result"
    }
   ],
   "source": [
    "dataset = pd.concat([train, test],axis=0,ignore_index=True)\n",
    "dataset.reset_index(drop=True)\n",
    "print(dataset.shape)\n",
    "dataset.isnull().sum()"
   ]
  },
  {
   "cell_type": "code",
   "execution_count": 1889,
   "metadata": {},
   "outputs": [],
   "source": [
    "dataset = dataset.reindex(index=range(dataset.shape[0]))"
   ]
  },
  {
   "cell_type": "markdown",
   "metadata": {},
   "source": [
    "### Data preprocessing"
   ]
  },
  {
   "cell_type": "markdown",
   "metadata": {},
   "source": [
    "#### Alley\n",
    "fill nan with random Grvl and Pave"
   ]
  },
  {
   "cell_type": "code",
   "execution_count": 1890,
   "metadata": {},
   "outputs": [
    {
     "data": {
      "text/plain": [
       "array([nan, 'Grvl', 'Pave'], dtype=object)"
      ]
     },
     "execution_count": 1890,
     "metadata": {},
     "output_type": "execute_result"
    }
   ],
   "source": [
    "dataset['Alley'].unique()"
   ]
  },
  {
   "cell_type": "code",
   "execution_count": 1891,
   "metadata": {},
   "outputs": [
    {
     "name": "stderr",
     "output_type": "stream",
     "text": [
      "/opt/anaconda3/lib/python3.6/site-packages/ipykernel_launcher.py:4: DeprecationWarning: This function is deprecated. Please call randint(1, 2721 + 1) instead\n",
      "  after removing the cwd from sys.path.\n"
     ]
    }
   ],
   "source": [
    "null_alley = dataset.loc[dataset['Alley'].isnull(),'Alley']\n",
    "null_num = len(null_alley)\n",
    "L = [ 'Grvl', 'Pave']\n",
    "random_list = np.random.random_integers(1,null_num,null_num)\n",
    "random_val = [ L[ x % len(L)] for x in random_list]\n",
    "dataset.loc[dataset['Alley'].isnull(),'Alley'] = random_val"
   ]
  },
  {
   "cell_type": "code",
   "execution_count": 1892,
   "metadata": {},
   "outputs": [
    {
     "data": {
      "text/plain": [
       "array(['Pave', 'Grvl'], dtype=object)"
      ]
     },
     "execution_count": 1892,
     "metadata": {},
     "output_type": "execute_result"
    }
   ],
   "source": [
    "dataset['Alley'].unique()"
   ]
  },
  {
   "cell_type": "code",
   "execution_count": 1893,
   "metadata": {},
   "outputs": [
    {
     "data": {
      "text/plain": [
       "<seaborn.axisgrid.FacetGrid at 0x7ff8d06c3b70>"
      ]
     },
     "execution_count": 1893,
     "metadata": {},
     "output_type": "execute_result"
    },
    {
     "data": {
      "image/png": "[encoded data removed]",
      "text/plain": [
       "<matplotlib.figure.Figure at 0x7ff8d06c3cf8>"
      ]
     },
     "metadata": {},
     "output_type": "display_data"
    }
   ],
   "source": [
    "sns.factorplot(x='Alley',y='SalePrice',data=dataset,kind='strip',jitter=True)"
   ]
  },
  {
   "cell_type": "markdown",
   "metadata": {},
   "source": [
    "#### Bsmt features"
   ]
  },
  {
   "cell_type": "markdown",
   "metadata": {},
   "source": [
    "I found Cannot treat null basement feature one bay one , let's try to consider them all together:\n",
    "```\n",
    "BsmtCond           82\n",
    "BsmtExposure       82\n",
    "BsmtFinSF1          1\n",
    "BsmtFinSF2          1\n",
    "BsmtFinType1       79\n",
    "BsmtFinType2       80\n",
    "BsmtFullBath        2\n",
    "BsmtHalfBath        2\n",
    "BsmtQual           81\n",
    "BsmtUnfSF           1\n",
    "```"
   ]
  },
  {
   "cell_type": "code",
   "execution_count": 1894,
   "metadata": {},
   "outputs": [],
   "source": [
    "Bsmt_fl = ['BsmtCond','BsmtExposure','BsmtFinSF1','BsmtFinSF2','BsmtFinType1','BsmtFinType2','BsmtFullBath','BsmtHalfBath','BsmtQual','BsmtUnfSF']"
   ]
  },
  {
   "cell_type": "markdown",
   "metadata": {},
   "source": [
    "Very large proboblity theat `Bsmt` null features at same time. let's see\n",
    "\n",
    "Note that :\n",
    "`&`  compares Series different "
   ]
  },
  {
   "cell_type": "code",
   "execution_count": 1895,
   "metadata": {},
   "outputs": [
    {
     "data": {
      "text/plain": [
       "0    False\n",
       "1    False\n",
       "dtype: bool"
      ]
     },
     "execution_count": 1895,
     "metadata": {},
     "output_type": "execute_result"
    }
   ],
   "source": [
    "pd.Series([ True, False]) & pd.Series ([False , True] )"
   ]
  },
  {
   "cell_type": "code",
   "execution_count": 1896,
   "metadata": {},
   "outputs": [
    {
     "name": "stdout",
     "output_type": "stream",
     "text": [
      "all null and o sum is 77\n"
     ]
    }
   ],
   "source": [
    "all_null_basement = dataset['BsmtCond'].isnull() &\\\n",
    "dataset['BsmtExposure'].isnull()  &\\\n",
    "dataset['BsmtFinType1'].isnull()  &\\\n",
    "dataset['BsmtFinType2'].isnull()  &\\\n",
    "dataset['BsmtQual'].isnull() &\\\n",
    "(dataset['BsmtFinSF1'] ==0.0)  &\\\n",
    "(dataset['BsmtFinSF2'] ==0.0) &\\\n",
    "(dataset['BsmtUnfSF'] == 0) &\\\n",
    "(dataset['BsmtFullBath'] == 0) &\\\n",
    "(dataset['BsmtHalfBath'] == 0)\n",
    "\n",
    "print('all null and o sum is' ,sum (all_null_basement.where(all_null_basement==True,0) ) )"
   ]
  },
  {
   "cell_type": "markdown",
   "metadata": {},
   "source": [
    "Let's compare the price of full-null basement and norm ones, and create a new feature called `FullnullBsmt`,see it in train set"
   ]
  },
  {
   "cell_type": "code",
   "execution_count": 1897,
   "metadata": {},
   "outputs": [],
   "source": [
    "all_notnull_basement = (all_null_basement == False)"
   ]
  },
  {
   "cell_type": "code",
   "execution_count": 1898,
   "metadata": {},
   "outputs": [
    {
     "data": {
      "text/plain": [
       "<seaborn.axisgrid.FacetGrid at 0x7ff8d14e62b0>"
      ]
     },
     "execution_count": 1898,
     "metadata": {},
     "output_type": "execute_result"
    },
    {
     "data": {
      "image/png": "[encoded data removed]",
      "text/plain": [
       "<matplotlib.figure.Figure at 0x7ff8d0925160>"
      ]
     },
     "metadata": {},
     "output_type": "display_data"
    }
   ],
   "source": [
    "dataset['FullnullBsmt']=all_null_basement\n",
    "sns.factorplot(x='FullnullBsmt',y='SalePrice',data=dataset,kind='strip')"
   ]
  },
  {
   "cell_type": "markdown",
   "metadata": {},
   "source": [
    "Obviously an important feature for price. How to feel those NaN? \n",
    "\n",
    "Analyse price lower than 20000, find the mostly possiable Catirgorial Bsmt features"
   ]
  },
  {
   "cell_type": "code",
   "execution_count": 1899,
   "metadata": {},
   "outputs": [],
   "source": [
    "Bsmt_catigorail_fl = ['BsmtCond','BsmtExposure','BsmtFinType1','BsmtFinType2','BsmtQual']"
   ]
  },
  {
   "cell_type": "code",
   "execution_count": 1900,
   "metadata": {},
   "outputs": [
    {
     "name": "stdout",
     "output_type": "stream",
     "text": [
      "describe dtype:  <class 'pandas.core.frame.DataFrame'>\n"
     ]
    },
    {
     "data": {
      "text/html": [
       "<div>\n",
       "<style>\n",
       "    .dataframe thead tr:only-child th {\n",
       "        text-align: right;\n",
       "    }\n",
       "\n",
       "    .dataframe thead th {\n",
       "        text-align: left;\n",
       "    }\n",
       "\n",
       "    .dataframe tbody tr th {\n",
       "        vertical-align: top;\n",
       "    }\n",
       "</style>\n",
       "<table border=\"1\" class=\"dataframe\">\n",
       "  <thead>\n",
       "    <tr style=\"text-align: right;\">\n",
       "      <th></th>\n",
       "      <th>BsmtCond</th>\n",
       "      <th>BsmtExposure</th>\n",
       "      <th>BsmtFinType1</th>\n",
       "      <th>BsmtFinType2</th>\n",
       "      <th>BsmtQual</th>\n",
       "    </tr>\n",
       "  </thead>\n",
       "  <tbody>\n",
       "    <tr>\n",
       "      <th>count</th>\n",
       "      <td>988</td>\n",
       "      <td>987</td>\n",
       "      <td>988</td>\n",
       "      <td>988</td>\n",
       "      <td>988</td>\n",
       "    </tr>\n",
       "    <tr>\n",
       "      <th>unique</th>\n",
       "      <td>4</td>\n",
       "      <td>4</td>\n",
       "      <td>6</td>\n",
       "      <td>6</td>\n",
       "      <td>4</td>\n",
       "    </tr>\n",
       "    <tr>\n",
       "      <th>top</th>\n",
       "      <td>TA</td>\n",
       "      <td>No</td>\n",
       "      <td>Unf</td>\n",
       "      <td>Unf</td>\n",
       "      <td>TA</td>\n",
       "    </tr>\n",
       "    <tr>\n",
       "      <th>freq</th>\n",
       "      <td>909</td>\n",
       "      <td>741</td>\n",
       "      <td>317</td>\n",
       "      <td>859</td>\n",
       "      <td>601</td>\n",
       "    </tr>\n",
       "  </tbody>\n",
       "</table>\n",
       "</div>"
      ],
      "text/plain": [
       "       BsmtCond BsmtExposure BsmtFinType1 BsmtFinType2 BsmtQual\n",
       "count       988          987          988          988      988\n",
       "unique        4            4            6            6        4\n",
       "top          TA           No          Unf          Unf       TA\n",
       "freq        909          741          317          859      601"
      ]
     },
     "execution_count": 1900,
     "metadata": {},
     "output_type": "execute_result"
    }
   ],
   "source": [
    "conds =  (train['SalePrice'] < 200000) & all_notnull_basement[:train_len]\n",
    "childset = train.loc[conds,Bsmt_catigorail_fl]\n",
    "print('describe dtype: ',type(childset.describe()))\n",
    "childset.describe()"
   ]
  },
  {
   "cell_type": "markdown",
   "metadata": {},
   "source": [
    "Let's use the top one to fill those NaN then fill remaining sepcial casies."
   ]
  },
  {
   "cell_type": "code",
   "execution_count": 1901,
   "metadata": {},
   "outputs": [],
   "source": [
    "for x in Bsmt_catigorail_fl :\n",
    "    dataset.loc[all_null_basement,x] =childset.describe().loc['top'][x] "
   ]
  },
  {
   "cell_type": "code",
   "execution_count": 1902,
   "metadata": {},
   "outputs": [
    {
     "data": {
      "text/html": [
       "<div>\n",
       "<style>\n",
       "    .dataframe thead tr:only-child th {\n",
       "        text-align: right;\n",
       "    }\n",
       "\n",
       "    .dataframe thead th {\n",
       "        text-align: left;\n",
       "    }\n",
       "\n",
       "    .dataframe tbody tr th {\n",
       "        vertical-align: top;\n",
       "    }\n",
       "</style>\n",
       "<table border=\"1\" class=\"dataframe\">\n",
       "  <thead>\n",
       "    <tr style=\"text-align: right;\">\n",
       "      <th></th>\n",
       "      <th>BsmtCond</th>\n",
       "      <th>BsmtExposure</th>\n",
       "      <th>BsmtFinSF1</th>\n",
       "      <th>BsmtFinSF2</th>\n",
       "      <th>BsmtFinType1</th>\n",
       "      <th>BsmtFinType2</th>\n",
       "      <th>BsmtFullBath</th>\n",
       "      <th>BsmtHalfBath</th>\n",
       "      <th>BsmtQual</th>\n",
       "      <th>BsmtUnfSF</th>\n",
       "    </tr>\n",
       "  </thead>\n",
       "  <tbody>\n",
       "    <tr>\n",
       "      <th>2040</th>\n",
       "      <td>NaN</td>\n",
       "      <td>Mn</td>\n",
       "      <td>1044.0</td>\n",
       "      <td>382.0</td>\n",
       "      <td>GLQ</td>\n",
       "      <td>Rec</td>\n",
       "      <td>1.0</td>\n",
       "      <td>0.0</td>\n",
       "      <td>Gd</td>\n",
       "      <td>0.0</td>\n",
       "    </tr>\n",
       "    <tr>\n",
       "      <th>2120</th>\n",
       "      <td>NaN</td>\n",
       "      <td>NaN</td>\n",
       "      <td>NaN</td>\n",
       "      <td>NaN</td>\n",
       "      <td>NaN</td>\n",
       "      <td>NaN</td>\n",
       "      <td>NaN</td>\n",
       "      <td>NaN</td>\n",
       "      <td>NaN</td>\n",
       "      <td>NaN</td>\n",
       "    </tr>\n",
       "    <tr>\n",
       "      <th>2185</th>\n",
       "      <td>NaN</td>\n",
       "      <td>No</td>\n",
       "      <td>1033.0</td>\n",
       "      <td>0.0</td>\n",
       "      <td>BLQ</td>\n",
       "      <td>Unf</td>\n",
       "      <td>0.0</td>\n",
       "      <td>1.0</td>\n",
       "      <td>TA</td>\n",
       "      <td>94.0</td>\n",
       "    </tr>\n",
       "    <tr>\n",
       "      <th>2188</th>\n",
       "      <td>NaN</td>\n",
       "      <td>NaN</td>\n",
       "      <td>0.0</td>\n",
       "      <td>0.0</td>\n",
       "      <td>NaN</td>\n",
       "      <td>NaN</td>\n",
       "      <td>NaN</td>\n",
       "      <td>NaN</td>\n",
       "      <td>NaN</td>\n",
       "      <td>0.0</td>\n",
       "    </tr>\n",
       "    <tr>\n",
       "      <th>2524</th>\n",
       "      <td>NaN</td>\n",
       "      <td>Av</td>\n",
       "      <td>755.0</td>\n",
       "      <td>0.0</td>\n",
       "      <td>ALQ</td>\n",
       "      <td>Unf</td>\n",
       "      <td>0.0</td>\n",
       "      <td>0.0</td>\n",
       "      <td>TA</td>\n",
       "      <td>240.0</td>\n",
       "    </tr>\n",
       "  </tbody>\n",
       "</table>\n",
       "</div>"
      ],
      "text/plain": [
       "     BsmtCond BsmtExposure  BsmtFinSF1  BsmtFinSF2 BsmtFinType1 BsmtFinType2  \\\n",
       "2040      NaN           Mn      1044.0       382.0          GLQ          Rec   \n",
       "2120      NaN          NaN         NaN         NaN          NaN          NaN   \n",
       "2185      NaN           No      1033.0         0.0          BLQ          Unf   \n",
       "2188      NaN          NaN         0.0         0.0          NaN          NaN   \n",
       "2524      NaN           Av       755.0         0.0          ALQ          Unf   \n",
       "\n",
       "      BsmtFullBath  BsmtHalfBath BsmtQual  BsmtUnfSF  \n",
       "2040           1.0           0.0       Gd        0.0  \n",
       "2120           NaN           NaN      NaN        NaN  \n",
       "2185           0.0           1.0       TA       94.0  \n",
       "2188           NaN           NaN      NaN        0.0  \n",
       "2524           0.0           0.0       TA      240.0  "
      ]
     },
     "execution_count": 1902,
     "metadata": {},
     "output_type": "execute_result"
    }
   ],
   "source": [
    "dataset.loc[dataset['BsmtCond'].isnull() , Bsmt_fl]"
   ]
  },
  {
   "cell_type": "markdown",
   "metadata": {},
   "source": [
    "Let's see it one by one \n",
    "```\n",
    "580 good ;\n",
    "660,728 just as top\n",
    "725 middle \n",
    "1064 middle \n",
    "```\n",
    "```\n",
    "BsmtCond: Evaluates the general condition of the basement\n",
    "\n",
    "       Ex\tExcellent\n",
    "       Gd\tGood\n",
    "       TA\tTypical - slight dampness allowed\n",
    "       Fa\tFair - dampness or some cracking or settling\n",
    "       Po\tPoor - Severe cracking, settling, or wetness\n",
    "       NA\tNo Basement\n",
    "\n",
    "```"
   ]
  },
  {
   "cell_type": "code",
   "execution_count": 1903,
   "metadata": {},
   "outputs": [],
   "source": [
    "dataset.loc[2040,['BsmtCond']]='Ex'\n",
    "dataset.loc[[2120,2185],['BsmtCond']]='TA'"
   ]
  },
  {
   "cell_type": "code",
   "execution_count": 1904,
   "metadata": {},
   "outputs": [],
   "source": [
    "for x in Bsmt_catigorail_fl :\n",
    "    dataset.loc[[2188,2524,2120],x] =childset.describe().loc['top'][x] "
   ]
  },
  {
   "cell_type": "code",
   "execution_count": 1905,
   "metadata": {},
   "outputs": [
    {
     "data": {
      "text/plain": [
       "BsmtCond        0\n",
       "BsmtExposure    3\n",
       "BsmtFinSF1      1\n",
       "BsmtFinSF2      1\n",
       "BsmtFinType1    0\n",
       "BsmtFinType2    1\n",
       "BsmtFullBath    2\n",
       "BsmtHalfBath    2\n",
       "BsmtQual        2\n",
       "BsmtUnfSF       1\n",
       "dtype: int64"
      ]
     },
     "execution_count": 1905,
     "metadata": {},
     "output_type": "execute_result"
    }
   ],
   "source": [
    "dataset[Bsmt_fl].isnull().sum()"
   ]
  },
  {
   "cell_type": "markdown",
   "metadata": {},
   "source": [
    "##### BsmtExposure\n",
    "```\n",
    "BsmtExposure: Refers to walkout or garden level walls\n",
    "\n",
    "       Gd\tGood Exposure\n",
    "       Av\tAverage Exposure (split levels or foyers typically score average or above)\t\n",
    "       Mn\tMimimum Exposure\n",
    "       No\tNo Exposure\n",
    "       NA\tNo Basement\n",
    "\n",
    "```"
   ]
  },
  {
   "cell_type": "code",
   "execution_count": 1906,
   "metadata": {},
   "outputs": [
    {
     "data": {
      "text/html": [
       "<div>\n",
       "<style>\n",
       "    .dataframe thead tr:only-child th {\n",
       "        text-align: right;\n",
       "    }\n",
       "\n",
       "    .dataframe thead th {\n",
       "        text-align: left;\n",
       "    }\n",
       "\n",
       "    .dataframe tbody tr th {\n",
       "        vertical-align: top;\n",
       "    }\n",
       "</style>\n",
       "<table border=\"1\" class=\"dataframe\">\n",
       "  <thead>\n",
       "    <tr style=\"text-align: right;\">\n",
       "      <th></th>\n",
       "      <th>BsmtCond</th>\n",
       "      <th>BsmtExposure</th>\n",
       "      <th>BsmtFinSF1</th>\n",
       "      <th>BsmtFinSF2</th>\n",
       "      <th>BsmtFinType1</th>\n",
       "      <th>BsmtFinType2</th>\n",
       "      <th>BsmtFullBath</th>\n",
       "      <th>BsmtHalfBath</th>\n",
       "      <th>BsmtQual</th>\n",
       "      <th>BsmtUnfSF</th>\n",
       "    </tr>\n",
       "  </thead>\n",
       "  <tbody>\n",
       "    <tr>\n",
       "      <th>948</th>\n",
       "      <td>TA</td>\n",
       "      <td>NaN</td>\n",
       "      <td>0.0</td>\n",
       "      <td>0.0</td>\n",
       "      <td>Unf</td>\n",
       "      <td>Unf</td>\n",
       "      <td>0.0</td>\n",
       "      <td>0.0</td>\n",
       "      <td>Gd</td>\n",
       "      <td>936.0</td>\n",
       "    </tr>\n",
       "    <tr>\n",
       "      <th>1487</th>\n",
       "      <td>TA</td>\n",
       "      <td>NaN</td>\n",
       "      <td>0.0</td>\n",
       "      <td>0.0</td>\n",
       "      <td>Unf</td>\n",
       "      <td>Unf</td>\n",
       "      <td>0.0</td>\n",
       "      <td>0.0</td>\n",
       "      <td>Gd</td>\n",
       "      <td>1595.0</td>\n",
       "    </tr>\n",
       "    <tr>\n",
       "      <th>2348</th>\n",
       "      <td>TA</td>\n",
       "      <td>NaN</td>\n",
       "      <td>0.0</td>\n",
       "      <td>0.0</td>\n",
       "      <td>Unf</td>\n",
       "      <td>Unf</td>\n",
       "      <td>0.0</td>\n",
       "      <td>0.0</td>\n",
       "      <td>Gd</td>\n",
       "      <td>725.0</td>\n",
       "    </tr>\n",
       "  </tbody>\n",
       "</table>\n",
       "</div>"
      ],
      "text/plain": [
       "     BsmtCond BsmtExposure  BsmtFinSF1  BsmtFinSF2 BsmtFinType1 BsmtFinType2  \\\n",
       "948        TA          NaN         0.0         0.0          Unf          Unf   \n",
       "1487       TA          NaN         0.0         0.0          Unf          Unf   \n",
       "2348       TA          NaN         0.0         0.0          Unf          Unf   \n",
       "\n",
       "      BsmtFullBath  BsmtHalfBath BsmtQual  BsmtUnfSF  \n",
       "948            0.0           0.0       Gd      936.0  \n",
       "1487           0.0           0.0       Gd     1595.0  \n",
       "2348           0.0           0.0       Gd      725.0  "
      ]
     },
     "execution_count": 1906,
     "metadata": {},
     "output_type": "execute_result"
    }
   ],
   "source": [
    "dataset.loc[dataset['BsmtExposure'].isnull() ,Bsmt_fl]"
   ]
  },
  {
   "cell_type": "code",
   "execution_count": 1907,
   "metadata": {},
   "outputs": [],
   "source": [
    "dataset.loc[[948,1487,2348],['BsmtExposure']]='Gd'"
   ]
  },
  {
   "cell_type": "code",
   "execution_count": 1908,
   "metadata": {},
   "outputs": [
    {
     "data": {
      "text/plain": [
       "BsmtCond        0\n",
       "BsmtExposure    0\n",
       "BsmtFinType1    0\n",
       "BsmtFinType2    1\n",
       "BsmtQual        2\n",
       "dtype: int64"
      ]
     },
     "execution_count": 1908,
     "metadata": {},
     "output_type": "execute_result"
    }
   ],
   "source": [
    "dataset[Bsmt_catigorail_fl].isnull().sum()"
   ]
  },
  {
   "cell_type": "markdown",
   "metadata": {},
   "source": [
    "##### BsmtType2"
   ]
  },
  {
   "cell_type": "code",
   "execution_count": 1909,
   "metadata": {},
   "outputs": [
    {
     "data": {
      "text/html": [
       "<div>\n",
       "<style>\n",
       "    .dataframe thead tr:only-child th {\n",
       "        text-align: right;\n",
       "    }\n",
       "\n",
       "    .dataframe thead th {\n",
       "        text-align: left;\n",
       "    }\n",
       "\n",
       "    .dataframe tbody tr th {\n",
       "        vertical-align: top;\n",
       "    }\n",
       "</style>\n",
       "<table border=\"1\" class=\"dataframe\">\n",
       "  <thead>\n",
       "    <tr style=\"text-align: right;\">\n",
       "      <th></th>\n",
       "      <th>BsmtCond</th>\n",
       "      <th>BsmtExposure</th>\n",
       "      <th>BsmtFinSF1</th>\n",
       "      <th>BsmtFinSF2</th>\n",
       "      <th>BsmtFinType1</th>\n",
       "      <th>BsmtFinType2</th>\n",
       "      <th>BsmtFullBath</th>\n",
       "      <th>BsmtHalfBath</th>\n",
       "      <th>BsmtQual</th>\n",
       "      <th>BsmtUnfSF</th>\n",
       "    </tr>\n",
       "  </thead>\n",
       "  <tbody>\n",
       "    <tr>\n",
       "      <th>332</th>\n",
       "      <td>TA</td>\n",
       "      <td>No</td>\n",
       "      <td>1124.0</td>\n",
       "      <td>479.0</td>\n",
       "      <td>GLQ</td>\n",
       "      <td>NaN</td>\n",
       "      <td>1.0</td>\n",
       "      <td>0.0</td>\n",
       "      <td>Gd</td>\n",
       "      <td>1603.0</td>\n",
       "    </tr>\n",
       "  </tbody>\n",
       "</table>\n",
       "</div>"
      ],
      "text/plain": [
       "    BsmtCond BsmtExposure  BsmtFinSF1  BsmtFinSF2 BsmtFinType1 BsmtFinType2  \\\n",
       "332       TA           No      1124.0       479.0          GLQ          NaN   \n",
       "\n",
       "     BsmtFullBath  BsmtHalfBath BsmtQual  BsmtUnfSF  \n",
       "332           1.0           0.0       Gd     1603.0  "
      ]
     },
     "execution_count": 1909,
     "metadata": {},
     "output_type": "execute_result"
    }
   ],
   "source": [
    "dataset.loc[dataset['BsmtFinType2'].isnull() ,Bsmt_fl]"
   ]
  },
  {
   "cell_type": "code",
   "execution_count": 1910,
   "metadata": {},
   "outputs": [],
   "source": [
    "dataset.loc[[332],['BsmtFinType2']]='GLQ'"
   ]
  },
  {
   "cell_type": "markdown",
   "metadata": {},
   "source": [
    "#####  BsmtQual"
   ]
  },
  {
   "cell_type": "code",
   "execution_count": 1911,
   "metadata": {},
   "outputs": [
    {
     "data": {
      "text/html": [
       "<div>\n",
       "<style>\n",
       "    .dataframe thead tr:only-child th {\n",
       "        text-align: right;\n",
       "    }\n",
       "\n",
       "    .dataframe thead th {\n",
       "        text-align: left;\n",
       "    }\n",
       "\n",
       "    .dataframe tbody tr th {\n",
       "        vertical-align: top;\n",
       "    }\n",
       "</style>\n",
       "<table border=\"1\" class=\"dataframe\">\n",
       "  <thead>\n",
       "    <tr style=\"text-align: right;\">\n",
       "      <th></th>\n",
       "      <th>BsmtCond</th>\n",
       "      <th>BsmtExposure</th>\n",
       "      <th>BsmtFinSF1</th>\n",
       "      <th>BsmtFinSF2</th>\n",
       "      <th>BsmtFinType1</th>\n",
       "      <th>BsmtFinType2</th>\n",
       "      <th>BsmtFullBath</th>\n",
       "      <th>BsmtHalfBath</th>\n",
       "      <th>BsmtQual</th>\n",
       "      <th>BsmtUnfSF</th>\n",
       "    </tr>\n",
       "  </thead>\n",
       "  <tbody>\n",
       "    <tr>\n",
       "      <th>2217</th>\n",
       "      <td>Fa</td>\n",
       "      <td>No</td>\n",
       "      <td>0.0</td>\n",
       "      <td>0.0</td>\n",
       "      <td>Unf</td>\n",
       "      <td>Unf</td>\n",
       "      <td>0.0</td>\n",
       "      <td>0.0</td>\n",
       "      <td>NaN</td>\n",
       "      <td>173.0</td>\n",
       "    </tr>\n",
       "    <tr>\n",
       "      <th>2218</th>\n",
       "      <td>TA</td>\n",
       "      <td>No</td>\n",
       "      <td>0.0</td>\n",
       "      <td>0.0</td>\n",
       "      <td>Unf</td>\n",
       "      <td>Unf</td>\n",
       "      <td>0.0</td>\n",
       "      <td>0.0</td>\n",
       "      <td>NaN</td>\n",
       "      <td>356.0</td>\n",
       "    </tr>\n",
       "  </tbody>\n",
       "</table>\n",
       "</div>"
      ],
      "text/plain": [
       "     BsmtCond BsmtExposure  BsmtFinSF1  BsmtFinSF2 BsmtFinType1 BsmtFinType2  \\\n",
       "2217       Fa           No         0.0         0.0          Unf          Unf   \n",
       "2218       TA           No         0.0         0.0          Unf          Unf   \n",
       "\n",
       "      BsmtFullBath  BsmtHalfBath BsmtQual  BsmtUnfSF  \n",
       "2217           0.0           0.0      NaN      173.0  \n",
       "2218           0.0           0.0      NaN      356.0  "
      ]
     },
     "execution_count": 1911,
     "metadata": {},
     "output_type": "execute_result"
    }
   ],
   "source": [
    "dataset.loc[dataset['BsmtQual'].isnull() ,Bsmt_fl]"
   ]
  },
  {
   "cell_type": "code",
   "execution_count": 1912,
   "metadata": {},
   "outputs": [],
   "source": [
    "dataset.loc[[2217],['BsmtQual']]='Fa'\n",
    "dataset.loc[[2218],['BsmtQual']]='TA'"
   ]
  },
  {
   "cell_type": "code",
   "execution_count": 1913,
   "metadata": {},
   "outputs": [
    {
     "data": {
      "text/plain": [
       "BsmtCond        0\n",
       "BsmtExposure    0\n",
       "BsmtFinType1    0\n",
       "BsmtFinType2    0\n",
       "BsmtQual        0\n",
       "dtype: int64"
      ]
     },
     "execution_count": 1913,
     "metadata": {},
     "output_type": "execute_result"
    }
   ],
   "source": [
    "dataset[Bsmt_catigorail_fl].isnull().sum()"
   ]
  },
  {
   "cell_type": "code",
   "execution_count": 1914,
   "metadata": {},
   "outputs": [
    {
     "data": {
      "text/plain": [
       "BsmtCond        0\n",
       "BsmtExposure    0\n",
       "BsmtFinSF1      1\n",
       "BsmtFinSF2      1\n",
       "BsmtFinType1    0\n",
       "BsmtFinType2    0\n",
       "BsmtFullBath    2\n",
       "BsmtHalfBath    2\n",
       "BsmtQual        0\n",
       "BsmtUnfSF       1\n",
       "dtype: int64"
      ]
     },
     "execution_count": 1914,
     "metadata": {},
     "output_type": "execute_result"
    }
   ],
   "source": [
    "dataset[Bsmt_fl].isnull().sum()"
   ]
  },
  {
   "cell_type": "markdown",
   "metadata": {},
   "source": [
    "#####  BsmtFinSF1 BsmtFinSF2  BsmtFullBath BsmtHalfBath  BsmtUnfSF\n",
    "Go on with numerial Bsmt features"
   ]
  },
  {
   "cell_type": "code",
   "execution_count": 1915,
   "metadata": {},
   "outputs": [
    {
     "data": {
      "text/html": [
       "<div>\n",
       "<style>\n",
       "    .dataframe thead tr:only-child th {\n",
       "        text-align: right;\n",
       "    }\n",
       "\n",
       "    .dataframe thead th {\n",
       "        text-align: left;\n",
       "    }\n",
       "\n",
       "    .dataframe tbody tr th {\n",
       "        vertical-align: top;\n",
       "    }\n",
       "</style>\n",
       "<table border=\"1\" class=\"dataframe\">\n",
       "  <thead>\n",
       "    <tr style=\"text-align: right;\">\n",
       "      <th></th>\n",
       "      <th>BsmtCond</th>\n",
       "      <th>BsmtExposure</th>\n",
       "      <th>BsmtFinSF1</th>\n",
       "      <th>BsmtFinSF2</th>\n",
       "      <th>BsmtFinType1</th>\n",
       "      <th>BsmtFinType2</th>\n",
       "      <th>BsmtFullBath</th>\n",
       "      <th>BsmtHalfBath</th>\n",
       "      <th>BsmtQual</th>\n",
       "      <th>BsmtUnfSF</th>\n",
       "    </tr>\n",
       "  </thead>\n",
       "  <tbody>\n",
       "    <tr>\n",
       "      <th>2120</th>\n",
       "      <td>TA</td>\n",
       "      <td>No</td>\n",
       "      <td>NaN</td>\n",
       "      <td>NaN</td>\n",
       "      <td>Unf</td>\n",
       "      <td>Unf</td>\n",
       "      <td>NaN</td>\n",
       "      <td>NaN</td>\n",
       "      <td>TA</td>\n",
       "      <td>NaN</td>\n",
       "    </tr>\n",
       "  </tbody>\n",
       "</table>\n",
       "</div>"
      ],
      "text/plain": [
       "     BsmtCond BsmtExposure  BsmtFinSF1  BsmtFinSF2 BsmtFinType1 BsmtFinType2  \\\n",
       "2120       TA           No         NaN         NaN          Unf          Unf   \n",
       "\n",
       "      BsmtFullBath  BsmtHalfBath BsmtQual  BsmtUnfSF  \n",
       "2120           NaN           NaN       TA        NaN  "
      ]
     },
     "execution_count": 1915,
     "metadata": {},
     "output_type": "execute_result"
    }
   ],
   "source": [
    "dataset.loc[dataset['BsmtFinSF1'].isnull() ,Bsmt_fl]"
   ]
  },
  {
   "cell_type": "code",
   "execution_count": 1916,
   "metadata": {},
   "outputs": [],
   "source": [
    "dataset.loc[dataset['BsmtFinSF1'].isnull() ,'BsmtFinSF1']=0\n",
    "dataset.loc[dataset['BsmtFinSF2'].isnull() ,'BsmtFinSF2']=0\n",
    "dataset.loc[dataset['BsmtFullBath'].isnull() ,'BsmtFullBath']=0\n",
    "dataset.loc[dataset['BsmtHalfBath'].isnull() ,'BsmtHalfBath']=0\n",
    "dataset.loc[dataset['BsmtUnfSF'].isnull() ,'BsmtUnfSF']=0"
   ]
  },
  {
   "cell_type": "code",
   "execution_count": 1917,
   "metadata": {},
   "outputs": [
    {
     "data": {
      "text/plain": [
       "BsmtCond        0\n",
       "BsmtExposure    0\n",
       "BsmtFinSF1      0\n",
       "BsmtFinSF2      0\n",
       "BsmtFinType1    0\n",
       "BsmtFinType2    0\n",
       "BsmtFullBath    0\n",
       "BsmtHalfBath    0\n",
       "BsmtQual        0\n",
       "BsmtUnfSF       0\n",
       "dtype: int64"
      ]
     },
     "execution_count": 1917,
     "metadata": {},
     "output_type": "execute_result"
    }
   ],
   "source": [
    "dataset[Bsmt_fl].isnull().sum()"
   ]
  },
  {
   "cell_type": "markdown",
   "metadata": {},
   "source": [
    "#### Electrical"
   ]
  },
  {
   "cell_type": "code",
   "execution_count": 1918,
   "metadata": {},
   "outputs": [],
   "source": [
    "dataset.loc[dataset['Electrical'].isnull(),'Electrical']='FuseA'"
   ]
  },
  {
   "cell_type": "markdown",
   "metadata": {},
   "source": [
    "#### Exterior1st Exterior2nd\n",
    "`VinylSd` mostly used."
   ]
  },
  {
   "cell_type": "code",
   "execution_count": 1919,
   "metadata": {},
   "outputs": [],
   "source": [
    "ex=dataset.loc[dataset['Exterior1st'].isnull()]"
   ]
  },
  {
   "cell_type": "code",
   "execution_count": 1920,
   "metadata": {},
   "outputs": [
    {
     "data": {
      "text/plain": [
       "<seaborn.axisgrid.FacetGrid at 0x7ff8d0648780>"
      ]
     },
     "execution_count": 1920,
     "metadata": {},
     "output_type": "execute_result"
    },
    {
     "data": {
      "image/png": "[encoded data removed]",
      "text/plain": [
       "<matplotlib.figure.Figure at 0x7ff8d06482b0>"
      ]
     },
     "metadata": {},
     "output_type": "display_data"
    }
   ],
   "source": [
    "sns.factorplot(y='Exterior1st',x='SalePrice',data=train,kind='strip',size=5,orient='h')"
   ]
  },
  {
   "cell_type": "code",
   "execution_count": 1921,
   "metadata": {},
   "outputs": [
    {
     "data": {
      "text/plain": [
       "<matplotlib.axes._subplots.AxesSubplot at 0x7ff8d0674278>"
      ]
     },
     "execution_count": 1921,
     "metadata": {},
     "output_type": "execute_result"
    },
    {
     "data": {
      "image/png": "[encoded data removed]",
      "text/plain": [
       "<matplotlib.figure.Figure at 0x7ff8d07ba7f0>"
      ]
     },
     "metadata": {},
     "output_type": "display_data"
    }
   ],
   "source": [
    "\n",
    "sns.countplot(y='Exterior2nd',data=dataset,orient='h')"
   ]
  },
  {
   "cell_type": "code",
   "execution_count": 1922,
   "metadata": {},
   "outputs": [],
   "source": [
    "dataset.loc[dataset['Exterior1st'].isnull(),'Exterior1st']='VinylSd'"
   ]
  },
  {
   "cell_type": "code",
   "execution_count": 1923,
   "metadata": {},
   "outputs": [],
   "source": [
    "dataset.loc[dataset['Exterior2nd'].isnull(),'Exterior2nd']='VinylSd'"
   ]
  },
  {
   "cell_type": "markdown",
   "metadata": {},
   "source": [
    "#### Fence\n",
    "\n",
    "The better fence, the higher price"
   ]
  },
  {
   "cell_type": "code",
   "execution_count": 1924,
   "metadata": {},
   "outputs": [
    {
     "data": {
      "text/plain": [
       "array([nan, 'MnPrv', 'GdWo', 'GdPrv', 'MnWw'], dtype=object)"
      ]
     },
     "execution_count": 1924,
     "metadata": {},
     "output_type": "execute_result"
    }
   ],
   "source": [
    "dataset['Fence'].unique()"
   ]
  },
  {
   "cell_type": "code",
   "execution_count": 1925,
   "metadata": {},
   "outputs": [],
   "source": [
    "# train.loc[train['Fence'].isnull()]"
   ]
  },
  {
   "cell_type": "code",
   "execution_count": 1926,
   "metadata": {},
   "outputs": [
    {
     "data": {
      "text/plain": [
       "<matplotlib.axes._subplots.AxesSubplot at 0x7ff8d059f9e8>"
      ]
     },
     "execution_count": 1926,
     "metadata": {},
     "output_type": "execute_result"
    },
    {
     "data": {
      "image/png": "[encoded data removed]",
      "text/plain": [
       "<matplotlib.figure.Figure at 0x7ff8d05d51d0>"
      ]
     },
     "metadata": {},
     "output_type": "display_data"
    }
   ],
   "source": [
    "sns.countplot(x='Fence',data=dataset)"
   ]
  },
  {
   "cell_type": "markdown",
   "metadata": {},
   "source": [
    "Most of fences are MnPrv."
   ]
  },
  {
   "cell_type": "code",
   "execution_count": 1927,
   "metadata": {},
   "outputs": [
    {
     "data": {
      "text/plain": [
       "<seaborn.axisgrid.FacetGrid at 0x7ff8d059c940>"
      ]
     },
     "execution_count": 1927,
     "metadata": {},
     "output_type": "execute_result"
    },
    {
     "data": {
      "image/png": "[encoded data removed]",
      "text/plain": [
       "<matplotlib.figure.Figure at 0x7ff8d05957f0>"
      ]
     },
     "metadata": {},
     "output_type": "display_data"
    }
   ],
   "source": [
    "sns.factorplot(x='Fence',y='SalePrice',data=train,kind='strip',size=5) "
   ]
  },
  {
   "cell_type": "markdown",
   "metadata": {},
   "source": [
    "if price > 16000 random initialzation strategies between MinPrv GdPrv and GdPrv\n",
    "\n",
    " if price <  16000 random between \n",
    " \n",
    "But from stip , some special point are there so we need care about them."
   ]
  },
  {
   "cell_type": "code",
   "execution_count": 1928,
   "metadata": {},
   "outputs": [
    {
     "data": {
      "text/plain": [
       "[NaN, MnPrv, GdWo, GdPrv, MnWw]\n",
       "Categories (4, object): [MnPrv, GdWo, GdPrv, MnWw]"
      ]
     },
     "execution_count": 1928,
     "metadata": {},
     "output_type": "execute_result"
    }
   ],
   "source": [
    "dataset['Fence']=dataset['Fence'].astype('category')\n",
    "dataset['Fence'].unique()"
   ]
  },
  {
   "cell_type": "markdown",
   "metadata": {},
   "source": [
    "```\n",
    "MnPrv-->2 ;\n",
    "GdWo-->1;\n",
    "GdPrv-->0;\n",
    "MnWw--3\n",
    "```\n",
    "\n"
   ]
  },
  {
   "cell_type": "code",
   "execution_count": 1929,
   "metadata": {},
   "outputs": [],
   "source": [
    "# make cat numerical to apply factorplot\n",
    "dataset['Fence_num']=dataset['Fence'].cat.codes\n",
    "dataset['Fence_num'] =  dataset['Fence_num'].astype(int)"
   ]
  },
  {
   "cell_type": "markdown",
   "metadata": {},
   "source": [
    "Let's try to find some features that releverant with `non-null Fence` to decide how in fill NaN."
   ]
  },
  {
   "cell_type": "code",
   "execution_count": 1930,
   "metadata": {},
   "outputs": [
    {
     "data": {
      "text/plain": [
       "<seaborn.axisgrid.FacetGrid at 0x7ff8d0546940>"
      ]
     },
     "execution_count": 1930,
     "metadata": {},
     "output_type": "execute_result"
    },
    {
     "data": {
      "image/png": "[encoded data removed]",
      "text/plain": [
       "<matplotlib.figure.Figure at 0x7ff8d056cc18>"
      ]
     },
     "metadata": {},
     "output_type": "display_data"
    }
   ],
   "source": [
    "sns.factorplot(y='LandContour',x='Fence_num',data=dataset.loc[dataset['Fence'].isnull()==False],kind='strip',jitter=True,size=5) "
   ]
  },
  {
   "cell_type": "markdown",
   "metadata": {},
   "source": [
    "It means LandContour='HLS' mostly has  Fence_num = 2"
   ]
  },
  {
   "cell_type": "code",
   "execution_count": 1931,
   "metadata": {},
   "outputs": [
    {
     "data": {
      "text/plain": [
       "<seaborn.axisgrid.FacetGrid at 0x7ff8d0514198>"
      ]
     },
     "execution_count": 1931,
     "metadata": {},
     "output_type": "execute_result"
    },
    {
     "data": {
      "image/png": "[encoded data removed]",
      "text/plain": [
       "<matplotlib.figure.Figure at 0x7ff8d0514208>"
      ]
     },
     "metadata": {},
     "output_type": "display_data"
    }
   ],
   "source": [
    "sns.factorplot(y='LandSlope',x='Fence_num',data=dataset.loc[dataset['Fence'].isnull()==False],kind='strip',jitter=True,size=5) "
   ]
  },
  {
   "cell_type": "markdown",
   "metadata": {},
   "source": [
    "If LandSlope =`Sev` , only possible Fence_num  = 1 , if Mod and Gtl possibly Fence_num = [ 0 1 2 3 ]"
   ]
  },
  {
   "cell_type": "markdown",
   "metadata": {},
   "source": [
    "if LotConfig == RH , fence_num only = 2"
   ]
  },
  {
   "cell_type": "code",
   "execution_count": 1932,
   "metadata": {},
   "outputs": [
    {
     "data": {
      "text/plain": [
       "<seaborn.axisgrid.FacetGrid at 0x7ff8d04b5ef0>"
      ]
     },
     "execution_count": 1932,
     "metadata": {},
     "output_type": "execute_result"
    },
    {
     "data": {
      "image/png": "[encoded data removed]",
      "text/plain": [
       "<matplotlib.figure.Figure at 0x7ff8d04936d8>"
      ]
     },
     "metadata": {},
     "output_type": "display_data"
    }
   ],
   "source": [
    "#Condition1\n",
    "sns.factorplot(y='Condition1',x='Fence_num',data=dataset.loc[dataset['Fence'].isnull()==False],kind='strip',jitter=True,size=5) "
   ]
  },
  {
   "cell_type": "markdown",
   "metadata": {},
   "source": [
    "if Condition1== RRNn RRne PosA, fence_num can not be 1 or 3"
   ]
  },
  {
   "cell_type": "code",
   "execution_count": 1933,
   "metadata": {},
   "outputs": [
    {
     "data": {
      "text/plain": [
       "<seaborn.axisgrid.FacetGrid at 0x7ff8d03c3630>"
      ]
     },
     "execution_count": 1933,
     "metadata": {},
     "output_type": "execute_result"
    },
    {
     "data": {
      "image/png": "[encoded data removed]",
      "text/plain": [
       "<matplotlib.figure.Figure at 0x7ff8d03e9160>"
      ]
     },
     "metadata": {},
     "output_type": "display_data"
    }
   ],
   "source": [
    "#Condition2\n",
    "sns.factorplot(y='Condition2',x='Fence_num',data=dataset.loc[dataset['Fence'].isnull()==False],kind='strip',jitter=True,size=5) "
   ]
  },
  {
   "cell_type": "code",
   "execution_count": 1934,
   "metadata": {},
   "outputs": [
    {
     "data": {
      "text/plain": [
       "<seaborn.axisgrid.FacetGrid at 0x7ff8d0449b38>"
      ]
     },
     "execution_count": 1934,
     "metadata": {},
     "output_type": "execute_result"
    },
    {
     "data": {
      "image/png": "[encoded data removed]",
      "text/plain": [
       "<matplotlib.figure.Figure at 0x7ff8d04445c0>"
      ]
     },
     "metadata": {},
     "output_type": "display_data"
    }
   ],
   "source": [
    "#MSZoning\n",
    "sns.factorplot(y='MSZoning',x='Fence_num',data=dataset.loc[dataset['Fence'].isnull()==False],kind='strip',jitter=True,size=5)"
   ]
  },
  {
   "cell_type": "markdown",
   "metadata": {},
   "source": [
    "if MSZoning == `RH` , possible Fence_num = 2\n",
    "\n",
    "if MSZoning == `C` , possible Fence_num = 1 and 2 \n",
    "\n",
    "if MSZoning == `FV` , possible Fence_num = 0 and 1"
   ]
  },
  {
   "cell_type": "markdown",
   "metadata": {},
   "source": [
    "##### Fill NaN by probablities\n"
   ]
  },
  {
   "cell_type": "code",
   "execution_count": 1935,
   "metadata": {},
   "outputs": [
    {
     "data": {
      "text/plain": [
       "[NaN, MnPrv, GdWo, GdPrv, MnWw]\n",
       "Categories (4, object): [MnPrv, GdWo, GdPrv, MnWw]"
      ]
     },
     "execution_count": 1935,
     "metadata": {},
     "output_type": "execute_result"
    }
   ],
   "source": [
    "dataset['Fence'].unique()"
   ]
  },
  {
   "cell_type": "code",
   "execution_count": 1936,
   "metadata": {},
   "outputs": [
    {
     "name": "stdout",
     "output_type": "stream",
     "text": [
      "571\n",
      "[0.5761821366024519, 0.20665499124343256, 0.19614711033274956, 0.021015761821366025]\n"
     ]
    }
   ],
   "source": [
    "fence_notnull_set = dataset.loc[dataset['Fence'].isnull()==False]\n",
    "lens = len(fence_notnull_set['Fence'] )\n",
    "print(lens)\n",
    "probs= (fence_notnull_set['Fence'].value_counts() / lens ).tolist()\n",
    "print(probs)"
   ]
  },
  {
   "cell_type": "code",
   "execution_count": 1937,
   "metadata": {},
   "outputs": [
    {
     "data": {
      "text/plain": [
       "[MnPrv, GdPrv, GdWo, MnWw]\n",
       "Categories (4, object): [MnPrv, GdPrv, GdWo, MnWw]"
      ]
     },
     "execution_count": 1937,
     "metadata": {},
     "output_type": "execute_result"
    }
   ],
   "source": [
    "fence_t = dataset['Fence'].cat.categories.tolist()\n",
    "fence_null_nums  = len(dataset.loc[dataset['Fence'].isnull()])\n",
    "fence_null = np.random.choice(fence_t,fence_null_nums,p=probs)\n",
    "\n",
    "dataset.loc[dataset['Fence'].isnull(),'Fence'] = fence_null\n",
    "\n",
    "dataset['Fence'].unique()\n"
   ]
  },
  {
   "cell_type": "markdown",
   "metadata": {},
   "source": [
    "##### Fine tuning Fence \n",
    "\n",
    "Summerize together:\n",
    "\n",
    "```\n",
    "MnPrv-->2 ;\n",
    "GdWo-->1;\n",
    "GdPrv-->0;\n",
    "MnWw--3\n",
    "```\n",
    "\n",
    "It means LandContour=HLS mostly has  Fence_num = 2\n",
    "\n",
    "if LotConfig == RH , fence_num only = 2\n",
    "\n",
    "If LandSlope =`Sev` , only possible Fence_num  = 1\n",
    "\n",
    "if Condition1== RRNn RRne PosA, fence_num can not be 1 or 3\n",
    "\n",
    "if MSZoning == RH, possible Fence_num = 2\n",
    "\n",
    "if MSZoning == r`C (all)` , possible Fence_num = 1 and 2\n",
    "\n",
    "if MSZoning == `FV` , possible Fence_num = 0 and 1"
   ]
  },
  {
   "cell_type": "code",
   "execution_count": 1938,
   "metadata": {},
   "outputs": [
    {
     "data": {
      "text/plain": [
       "519"
      ]
     },
     "execution_count": 1938,
     "metadata": {},
     "output_type": "execute_result"
    }
   ],
   "source": [
    "np.random.randint(10,1000,1)[0]"
   ]
  },
  {
   "cell_type": "code",
   "execution_count": 1939,
   "metadata": {},
   "outputs": [],
   "source": [
    "dataset.loc[dataset['LandContour']=='HLS','Fence' ] ='MnPrv'\n",
    "dataset.loc[dataset['LotConfig']=='RH','Fence' ] ='MnPrv'\n",
    "dataset.loc[dataset['LandSlope']=='Sev','Fence' ] ='GdWo'\n",
    "dataset.loc[ (dataset['Condition1']=='RRNn') |  (dataset['Condition1']=='PosA')  |  (dataset['Condition1']=='RRne') ,'Fence' ] ='GdPrv'\n",
    "dataset.loc[ (dataset['Condition2']=='PosN') ,'Fence' ] ='GdPrv'\n",
    "dataset.loc[ (dataset['MSZoning']=='RH') ,'Fence' ] ='GdPrv'\n",
    "\n",
    "tmp = dataset.loc[dataset['MSZoning']==r'C (all)','Fence'] \n",
    "d = ['GdWo','MnPrv']\n",
    "lens = len(tmp)\n",
    "dataset.loc[dataset['MSZoning']==r'C (all)','Fence']  = [ d[ x % len(d)] for x in np.random.randint(10,1000,lens)]\n",
    "\n",
    "tmp = dataset.loc[dataset['MSZoning']==r'FV','Fence'] \n",
    "d = ['GdWo','GdPrv']\n",
    "lens = len(tmp)\n",
    "dataset.loc[dataset['MSZoning']==r'FV','Fence']  = [ d[ x % len(d)] for x in np.random.randint(10,1000,lens)]\n",
    "\n"
   ]
  },
  {
   "cell_type": "code",
   "execution_count": 1940,
   "metadata": {},
   "outputs": [],
   "source": [
    "dataset.drop(labels=['Fence_num'],axis=1,inplace=True)"
   ]
  },
  {
   "cell_type": "markdown",
   "metadata": {},
   "source": [
    "#### FireplaceQu"
   ]
  },
  {
   "cell_type": "code",
   "execution_count": 1941,
   "metadata": {},
   "outputs": [
    {
     "data": {
      "text/plain": [
       "<matplotlib.axes._subplots.AxesSubplot at 0x7ff8d0399390>"
      ]
     },
     "execution_count": 1941,
     "metadata": {},
     "output_type": "execute_result"
    },
    {
     "data": {
      "image/png": "[encoded data removed]",
      "text/plain": [
       "<matplotlib.figure.Figure at 0x7ff8d0334c18>"
      ]
     },
     "metadata": {},
     "output_type": "display_data"
    }
   ],
   "source": [
    "sns.countplot(x='FireplaceQu',data=dataset)"
   ]
  },
  {
   "cell_type": "code",
   "execution_count": 1942,
   "metadata": {},
   "outputs": [
    {
     "data": {
      "text/plain": [
       "<seaborn.axisgrid.FacetGrid at 0x7ff8d04e85c0>"
      ]
     },
     "execution_count": 1942,
     "metadata": {},
     "output_type": "execute_result"
    },
    {
     "data": {
      "image/png": "[encoded data removed]",
      "text/plain": [
       "<matplotlib.figure.Figure at 0x7ff8d030ccc0>"
      ]
     },
     "metadata": {},
     "output_type": "display_data"
    }
   ],
   "source": [
    "sns.factorplot(x='FireplaceQu',y='Fireplaces',data=dataset,kind='strip',jitter=True)"
   ]
  },
  {
   "cell_type": "code",
   "execution_count": 1943,
   "metadata": {},
   "outputs": [
    {
     "data": {
      "text/plain": [
       "<seaborn.axisgrid.FacetGrid at 0x7ff8d0334c88>"
      ]
     },
     "execution_count": 1943,
     "metadata": {},
     "output_type": "execute_result"
    },
    {
     "data": {
      "image/png": "[encoded data removed]",
      "text/plain": [
       "<matplotlib.figure.Figure at 0x7ff8d0214d68>"
      ]
     },
     "metadata": {},
     "output_type": "display_data"
    }
   ],
   "source": [
    "sns.factorplot(x='FireplaceQu',y='SalePrice',data=dataset,kind='strip',jitter=True)"
   ]
  },
  {
   "cell_type": "markdown",
   "metadata": {},
   "source": [
    "FireplaceQu Mostly in [Ta Gd]\n",
    "\n",
    "if Fireplaces == 1  FireplaceQu != Po"
   ]
  },
  {
   "cell_type": "code",
   "execution_count": 1944,
   "metadata": {},
   "outputs": [],
   "source": [
    "tmp = dataset.loc[dataset['FireplaceQu'].isnull()] \n",
    "d = ['TA','Gd'] \n",
    "# not include Po , thus fits condition :  if Fireplaces == 1  FireplaceQu != Po\n",
    "lens = len(tmp)\n",
    "dataset.loc[dataset['FireplaceQu'].isnull(),'FireplaceQu']  = [ d[ x % len(d)] for x in np.random.randint(10,1000,lens)]\n"
   ]
  },
  {
   "cell_type": "markdown",
   "metadata": {},
   "source": [
    "#### MSZoning"
   ]
  },
  {
   "cell_type": "code",
   "execution_count": 1945,
   "metadata": {},
   "outputs": [
    {
     "data": {
      "text/plain": [
       "<matplotlib.axes._subplots.AxesSubplot at 0x7ff8d029fe80>"
      ]
     },
     "execution_count": 1945,
     "metadata": {},
     "output_type": "execute_result"
    },
    {
     "data": {
      "image/png": "[encoded data removed]",
      "text/plain": [
       "<matplotlib.figure.Figure at 0x7ff8d00b61d0>"
      ]
     },
     "metadata": {},
     "output_type": "display_data"
    }
   ],
   "source": [
    "sns.countplot(x='MSZoning',data=dataset)"
   ]
  },
  {
   "cell_type": "code",
   "execution_count": 1946,
   "metadata": {},
   "outputs": [],
   "source": [
    "dataset.loc[dataset['MSZoning'].isnull() ,'MSZoning'] = 'RL';"
   ]
  },
  {
   "cell_type": "markdown",
   "metadata": {},
   "source": [
    "#### MasVnrArea\n"
   ]
  },
  {
   "cell_type": "code",
   "execution_count": 1947,
   "metadata": {},
   "outputs": [],
   "source": [
    "dataset.loc[dataset['MasVnrArea'].isnull() ,'MasVnrArea'] = dataset['MasVnrArea'].median()"
   ]
  },
  {
   "cell_type": "markdown",
   "metadata": {},
   "source": [
    "#### MasVnrType"
   ]
  },
  {
   "cell_type": "code",
   "execution_count": 1948,
   "metadata": {},
   "outputs": [
    {
     "data": {
      "text/html": [
       "<div>\n",
       "<style>\n",
       "    .dataframe thead tr:only-child th {\n",
       "        text-align: right;\n",
       "    }\n",
       "\n",
       "    .dataframe thead th {\n",
       "        text-align: left;\n",
       "    }\n",
       "\n",
       "    .dataframe tbody tr th {\n",
       "        vertical-align: top;\n",
       "    }\n",
       "</style>\n",
       "<table border=\"1\" class=\"dataframe\">\n",
       "  <thead>\n",
       "    <tr style=\"text-align: right;\">\n",
       "      <th></th>\n",
       "      <th>1stFlrSF</th>\n",
       "      <th>2ndFlrSF</th>\n",
       "      <th>3SsnPorch</th>\n",
       "      <th>Alley</th>\n",
       "      <th>BedroomAbvGr</th>\n",
       "      <th>BldgType</th>\n",
       "      <th>BsmtCond</th>\n",
       "      <th>BsmtExposure</th>\n",
       "      <th>BsmtFinSF1</th>\n",
       "      <th>BsmtFinSF2</th>\n",
       "      <th>...</th>\n",
       "      <th>ScreenPorch</th>\n",
       "      <th>Street</th>\n",
       "      <th>TotRmsAbvGrd</th>\n",
       "      <th>TotalBsmtSF</th>\n",
       "      <th>Utilities</th>\n",
       "      <th>WoodDeckSF</th>\n",
       "      <th>YearBuilt</th>\n",
       "      <th>YearRemodAdd</th>\n",
       "      <th>YrSold</th>\n",
       "      <th>FullnullBsmt</th>\n",
       "    </tr>\n",
       "  </thead>\n",
       "  <tbody>\n",
       "    <tr>\n",
       "      <th>234</th>\n",
       "      <td>860</td>\n",
       "      <td>1100</td>\n",
       "      <td>0</td>\n",
       "      <td>Pave</td>\n",
       "      <td>4</td>\n",
       "      <td>1Fam</td>\n",
       "      <td>TA</td>\n",
       "      <td>No</td>\n",
       "      <td>625.0</td>\n",
       "      <td>0.0</td>\n",
       "      <td>...</td>\n",
       "      <td>0</td>\n",
       "      <td>Pave</td>\n",
       "      <td>8</td>\n",
       "      <td>860.0</td>\n",
       "      <td>AllPub</td>\n",
       "      <td>288</td>\n",
       "      <td>2002</td>\n",
       "      <td>2002</td>\n",
       "      <td>2010</td>\n",
       "      <td>False</td>\n",
       "    </tr>\n",
       "    <tr>\n",
       "      <th>529</th>\n",
       "      <td>2515</td>\n",
       "      <td>0</td>\n",
       "      <td>0</td>\n",
       "      <td>Pave</td>\n",
       "      <td>4</td>\n",
       "      <td>1Fam</td>\n",
       "      <td>TA</td>\n",
       "      <td>No</td>\n",
       "      <td>1219.0</td>\n",
       "      <td>0.0</td>\n",
       "      <td>...</td>\n",
       "      <td>0</td>\n",
       "      <td>Pave</td>\n",
       "      <td>9</td>\n",
       "      <td>2035.0</td>\n",
       "      <td>AllPub</td>\n",
       "      <td>0</td>\n",
       "      <td>1957</td>\n",
       "      <td>1975</td>\n",
       "      <td>2007</td>\n",
       "      <td>False</td>\n",
       "    </tr>\n",
       "    <tr>\n",
       "      <th>650</th>\n",
       "      <td>822</td>\n",
       "      <td>843</td>\n",
       "      <td>0</td>\n",
       "      <td>Pave</td>\n",
       "      <td>3</td>\n",
       "      <td>1Fam</td>\n",
       "      <td>TA</td>\n",
       "      <td>No</td>\n",
       "      <td>0.0</td>\n",
       "      <td>0.0</td>\n",
       "      <td>...</td>\n",
       "      <td>0</td>\n",
       "      <td>Pave</td>\n",
       "      <td>7</td>\n",
       "      <td>813.0</td>\n",
       "      <td>AllPub</td>\n",
       "      <td>0</td>\n",
       "      <td>2007</td>\n",
       "      <td>2007</td>\n",
       "      <td>2008</td>\n",
       "      <td>False</td>\n",
       "    </tr>\n",
       "    <tr>\n",
       "      <th>936</th>\n",
       "      <td>1200</td>\n",
       "      <td>0</td>\n",
       "      <td>0</td>\n",
       "      <td>Grvl</td>\n",
       "      <td>2</td>\n",
       "      <td>1Fam</td>\n",
       "      <td>TA</td>\n",
       "      <td>No</td>\n",
       "      <td>833.0</td>\n",
       "      <td>0.0</td>\n",
       "      <td>...</td>\n",
       "      <td>0</td>\n",
       "      <td>Pave</td>\n",
       "      <td>5</td>\n",
       "      <td>1176.0</td>\n",
       "      <td>AllPub</td>\n",
       "      <td>0</td>\n",
       "      <td>2003</td>\n",
       "      <td>2003</td>\n",
       "      <td>2009</td>\n",
       "      <td>False</td>\n",
       "    </tr>\n",
       "    <tr>\n",
       "      <th>973</th>\n",
       "      <td>1428</td>\n",
       "      <td>0</td>\n",
       "      <td>0</td>\n",
       "      <td>Grvl</td>\n",
       "      <td>3</td>\n",
       "      <td>1Fam</td>\n",
       "      <td>TA</td>\n",
       "      <td>No</td>\n",
       "      <td>0.0</td>\n",
       "      <td>0.0</td>\n",
       "      <td>...</td>\n",
       "      <td>0</td>\n",
       "      <td>Pave</td>\n",
       "      <td>6</td>\n",
       "      <td>1428.0</td>\n",
       "      <td>AllPub</td>\n",
       "      <td>0</td>\n",
       "      <td>2007</td>\n",
       "      <td>2008</td>\n",
       "      <td>2008</td>\n",
       "      <td>False</td>\n",
       "    </tr>\n",
       "    <tr>\n",
       "      <th>977</th>\n",
       "      <td>1241</td>\n",
       "      <td>0</td>\n",
       "      <td>0</td>\n",
       "      <td>Pave</td>\n",
       "      <td>1</td>\n",
       "      <td>TwnhsE</td>\n",
       "      <td>TA</td>\n",
       "      <td>No</td>\n",
       "      <td>1106.0</td>\n",
       "      <td>0.0</td>\n",
       "      <td>...</td>\n",
       "      <td>0</td>\n",
       "      <td>Pave</td>\n",
       "      <td>4</td>\n",
       "      <td>1241.0</td>\n",
       "      <td>AllPub</td>\n",
       "      <td>0</td>\n",
       "      <td>2006</td>\n",
       "      <td>2007</td>\n",
       "      <td>2007</td>\n",
       "      <td>False</td>\n",
       "    </tr>\n",
       "    <tr>\n",
       "      <th>1243</th>\n",
       "      <td>2076</td>\n",
       "      <td>0</td>\n",
       "      <td>0</td>\n",
       "      <td>Grvl</td>\n",
       "      <td>2</td>\n",
       "      <td>1Fam</td>\n",
       "      <td>Gd</td>\n",
       "      <td>Gd</td>\n",
       "      <td>1386.0</td>\n",
       "      <td>0.0</td>\n",
       "      <td>...</td>\n",
       "      <td>0</td>\n",
       "      <td>Pave</td>\n",
       "      <td>7</td>\n",
       "      <td>2076.0</td>\n",
       "      <td>AllPub</td>\n",
       "      <td>216</td>\n",
       "      <td>2006</td>\n",
       "      <td>2006</td>\n",
       "      <td>2006</td>\n",
       "      <td>False</td>\n",
       "    </tr>\n",
       "    <tr>\n",
       "      <th>1278</th>\n",
       "      <td>1128</td>\n",
       "      <td>903</td>\n",
       "      <td>0</td>\n",
       "      <td>Pave</td>\n",
       "      <td>3</td>\n",
       "      <td>1Fam</td>\n",
       "      <td>TA</td>\n",
       "      <td>No</td>\n",
       "      <td>804.0</td>\n",
       "      <td>0.0</td>\n",
       "      <td>...</td>\n",
       "      <td>0</td>\n",
       "      <td>Pave</td>\n",
       "      <td>7</td>\n",
       "      <td>1128.0</td>\n",
       "      <td>AllPub</td>\n",
       "      <td>0</td>\n",
       "      <td>2002</td>\n",
       "      <td>2002</td>\n",
       "      <td>2008</td>\n",
       "      <td>False</td>\n",
       "    </tr>\n",
       "    <tr>\n",
       "      <th>1691</th>\n",
       "      <td>878</td>\n",
       "      <td>1126</td>\n",
       "      <td>0</td>\n",
       "      <td>Grvl</td>\n",
       "      <td>4</td>\n",
       "      <td>1Fam</td>\n",
       "      <td>TA</td>\n",
       "      <td>No</td>\n",
       "      <td>651.0</td>\n",
       "      <td>0.0</td>\n",
       "      <td>...</td>\n",
       "      <td>0</td>\n",
       "      <td>Pave</td>\n",
       "      <td>8</td>\n",
       "      <td>870.0</td>\n",
       "      <td>AllPub</td>\n",
       "      <td>0</td>\n",
       "      <td>2002</td>\n",
       "      <td>2002</td>\n",
       "      <td>2009</td>\n",
       "      <td>False</td>\n",
       "    </tr>\n",
       "    <tr>\n",
       "      <th>1706</th>\n",
       "      <td>1436</td>\n",
       "      <td>0</td>\n",
       "      <td>0</td>\n",
       "      <td>Grvl</td>\n",
       "      <td>3</td>\n",
       "      <td>1Fam</td>\n",
       "      <td>TA</td>\n",
       "      <td>No</td>\n",
       "      <td>0.0</td>\n",
       "      <td>0.0</td>\n",
       "      <td>...</td>\n",
       "      <td>0</td>\n",
       "      <td>Pave</td>\n",
       "      <td>6</td>\n",
       "      <td>1436.0</td>\n",
       "      <td>AllPub</td>\n",
       "      <td>0</td>\n",
       "      <td>2008</td>\n",
       "      <td>2009</td>\n",
       "      <td>2009</td>\n",
       "      <td>False</td>\n",
       "    </tr>\n",
       "    <tr>\n",
       "      <th>1882</th>\n",
       "      <td>840</td>\n",
       "      <td>885</td>\n",
       "      <td>0</td>\n",
       "      <td>Pave</td>\n",
       "      <td>3</td>\n",
       "      <td>1Fam</td>\n",
       "      <td>TA</td>\n",
       "      <td>No</td>\n",
       "      <td>0.0</td>\n",
       "      <td>0.0</td>\n",
       "      <td>...</td>\n",
       "      <td>0</td>\n",
       "      <td>Pave</td>\n",
       "      <td>6</td>\n",
       "      <td>840.0</td>\n",
       "      <td>AllPub</td>\n",
       "      <td>0</td>\n",
       "      <td>2002</td>\n",
       "      <td>2002</td>\n",
       "      <td>2009</td>\n",
       "      <td>False</td>\n",
       "    </tr>\n",
       "    <tr>\n",
       "      <th>1992</th>\n",
       "      <td>707</td>\n",
       "      <td>707</td>\n",
       "      <td>0</td>\n",
       "      <td>Grvl</td>\n",
       "      <td>3</td>\n",
       "      <td>1Fam</td>\n",
       "      <td>TA</td>\n",
       "      <td>No</td>\n",
       "      <td>0.0</td>\n",
       "      <td>0.0</td>\n",
       "      <td>...</td>\n",
       "      <td>0</td>\n",
       "      <td>Pave</td>\n",
       "      <td>6</td>\n",
       "      <td>707.0</td>\n",
       "      <td>AllPub</td>\n",
       "      <td>100</td>\n",
       "      <td>2002</td>\n",
       "      <td>2002</td>\n",
       "      <td>2008</td>\n",
       "      <td>False</td>\n",
       "    </tr>\n",
       "    <tr>\n",
       "      <th>2004</th>\n",
       "      <td>1460</td>\n",
       "      <td>0</td>\n",
       "      <td>0</td>\n",
       "      <td>Pave</td>\n",
       "      <td>3</td>\n",
       "      <td>1Fam</td>\n",
       "      <td>TA</td>\n",
       "      <td>No</td>\n",
       "      <td>666.0</td>\n",
       "      <td>0.0</td>\n",
       "      <td>...</td>\n",
       "      <td>0</td>\n",
       "      <td>Pave</td>\n",
       "      <td>6</td>\n",
       "      <td>1460.0</td>\n",
       "      <td>AllPub</td>\n",
       "      <td>0</td>\n",
       "      <td>2006</td>\n",
       "      <td>2007</td>\n",
       "      <td>2008</td>\n",
       "      <td>False</td>\n",
       "    </tr>\n",
       "    <tr>\n",
       "      <th>2041</th>\n",
       "      <td>952</td>\n",
       "      <td>860</td>\n",
       "      <td>0</td>\n",
       "      <td>Pave</td>\n",
       "      <td>3</td>\n",
       "      <td>1Fam</td>\n",
       "      <td>TA</td>\n",
       "      <td>No</td>\n",
       "      <td>0.0</td>\n",
       "      <td>0.0</td>\n",
       "      <td>...</td>\n",
       "      <td>0</td>\n",
       "      <td>Pave</td>\n",
       "      <td>7</td>\n",
       "      <td>952.0</td>\n",
       "      <td>AllPub</td>\n",
       "      <td>144</td>\n",
       "      <td>2002</td>\n",
       "      <td>2002</td>\n",
       "      <td>2008</td>\n",
       "      <td>False</td>\n",
       "    </tr>\n",
       "    <tr>\n",
       "      <th>2311</th>\n",
       "      <td>768</td>\n",
       "      <td>728</td>\n",
       "      <td>0</td>\n",
       "      <td>Grvl</td>\n",
       "      <td>3</td>\n",
       "      <td>1Fam</td>\n",
       "      <td>TA</td>\n",
       "      <td>No</td>\n",
       "      <td>0.0</td>\n",
       "      <td>0.0</td>\n",
       "      <td>...</td>\n",
       "      <td>0</td>\n",
       "      <td>Pave</td>\n",
       "      <td>7</td>\n",
       "      <td>768.0</td>\n",
       "      <td>AllPub</td>\n",
       "      <td>100</td>\n",
       "      <td>2007</td>\n",
       "      <td>2007</td>\n",
       "      <td>2007</td>\n",
       "      <td>False</td>\n",
       "    </tr>\n",
       "    <tr>\n",
       "      <th>2325</th>\n",
       "      <td>754</td>\n",
       "      <td>640</td>\n",
       "      <td>0</td>\n",
       "      <td>Pave</td>\n",
       "      <td>3</td>\n",
       "      <td>1Fam</td>\n",
       "      <td>TA</td>\n",
       "      <td>No</td>\n",
       "      <td>0.0</td>\n",
       "      <td>0.0</td>\n",
       "      <td>...</td>\n",
       "      <td>0</td>\n",
       "      <td>Pave</td>\n",
       "      <td>7</td>\n",
       "      <td>384.0</td>\n",
       "      <td>AllPub</td>\n",
       "      <td>100</td>\n",
       "      <td>2003</td>\n",
       "      <td>2003</td>\n",
       "      <td>2007</td>\n",
       "      <td>False</td>\n",
       "    </tr>\n",
       "    <tr>\n",
       "      <th>2340</th>\n",
       "      <td>1528</td>\n",
       "      <td>0</td>\n",
       "      <td>0</td>\n",
       "      <td>Pave</td>\n",
       "      <td>3</td>\n",
       "      <td>1Fam</td>\n",
       "      <td>TA</td>\n",
       "      <td>No</td>\n",
       "      <td>0.0</td>\n",
       "      <td>0.0</td>\n",
       "      <td>...</td>\n",
       "      <td>0</td>\n",
       "      <td>Pave</td>\n",
       "      <td>6</td>\n",
       "      <td>1528.0</td>\n",
       "      <td>AllPub</td>\n",
       "      <td>0</td>\n",
       "      <td>2007</td>\n",
       "      <td>2007</td>\n",
       "      <td>2007</td>\n",
       "      <td>False</td>\n",
       "    </tr>\n",
       "    <tr>\n",
       "      <th>2349</th>\n",
       "      <td>955</td>\n",
       "      <td>925</td>\n",
       "      <td>0</td>\n",
       "      <td>Pave</td>\n",
       "      <td>3</td>\n",
       "      <td>1Fam</td>\n",
       "      <td>TA</td>\n",
       "      <td>Av</td>\n",
       "      <td>745.0</td>\n",
       "      <td>0.0</td>\n",
       "      <td>...</td>\n",
       "      <td>0</td>\n",
       "      <td>Pave</td>\n",
       "      <td>8</td>\n",
       "      <td>955.0</td>\n",
       "      <td>AllPub</td>\n",
       "      <td>168</td>\n",
       "      <td>2007</td>\n",
       "      <td>2007</td>\n",
       "      <td>2007</td>\n",
       "      <td>False</td>\n",
       "    </tr>\n",
       "    <tr>\n",
       "      <th>2368</th>\n",
       "      <td>1550</td>\n",
       "      <td>0</td>\n",
       "      <td>0</td>\n",
       "      <td>Pave</td>\n",
       "      <td>2</td>\n",
       "      <td>TwnhsE</td>\n",
       "      <td>TA</td>\n",
       "      <td>No</td>\n",
       "      <td>0.0</td>\n",
       "      <td>0.0</td>\n",
       "      <td>...</td>\n",
       "      <td>0</td>\n",
       "      <td>Pave</td>\n",
       "      <td>5</td>\n",
       "      <td>1550.0</td>\n",
       "      <td>AllPub</td>\n",
       "      <td>0</td>\n",
       "      <td>2006</td>\n",
       "      <td>2007</td>\n",
       "      <td>2007</td>\n",
       "      <td>False</td>\n",
       "    </tr>\n",
       "    <tr>\n",
       "      <th>2592</th>\n",
       "      <td>1564</td>\n",
       "      <td>0</td>\n",
       "      <td>0</td>\n",
       "      <td>Pave</td>\n",
       "      <td>2</td>\n",
       "      <td>1Fam</td>\n",
       "      <td>TA</td>\n",
       "      <td>Av</td>\n",
       "      <td>583.0</td>\n",
       "      <td>0.0</td>\n",
       "      <td>...</td>\n",
       "      <td>0</td>\n",
       "      <td>Pave</td>\n",
       "      <td>6</td>\n",
       "      <td>1546.0</td>\n",
       "      <td>AllPub</td>\n",
       "      <td>132</td>\n",
       "      <td>2006</td>\n",
       "      <td>2007</td>\n",
       "      <td>2007</td>\n",
       "      <td>False</td>\n",
       "    </tr>\n",
       "    <tr>\n",
       "      <th>2610</th>\n",
       "      <td>1608</td>\n",
       "      <td>0</td>\n",
       "      <td>0</td>\n",
       "      <td>Pave</td>\n",
       "      <td>3</td>\n",
       "      <td>1Fam</td>\n",
       "      <td>TA</td>\n",
       "      <td>No</td>\n",
       "      <td>811.0</td>\n",
       "      <td>0.0</td>\n",
       "      <td>...</td>\n",
       "      <td>0</td>\n",
       "      <td>Pave</td>\n",
       "      <td>6</td>\n",
       "      <td>1396.0</td>\n",
       "      <td>AllPub</td>\n",
       "      <td>152</td>\n",
       "      <td>1961</td>\n",
       "      <td>1961</td>\n",
       "      <td>2007</td>\n",
       "      <td>False</td>\n",
       "    </tr>\n",
       "    <tr>\n",
       "      <th>2657</th>\n",
       "      <td>1209</td>\n",
       "      <td>1044</td>\n",
       "      <td>0</td>\n",
       "      <td>Pave</td>\n",
       "      <td>3</td>\n",
       "      <td>1Fam</td>\n",
       "      <td>TA</td>\n",
       "      <td>Av</td>\n",
       "      <td>0.0</td>\n",
       "      <td>0.0</td>\n",
       "      <td>...</td>\n",
       "      <td>0</td>\n",
       "      <td>Pave</td>\n",
       "      <td>8</td>\n",
       "      <td>1209.0</td>\n",
       "      <td>AllPub</td>\n",
       "      <td>243</td>\n",
       "      <td>2005</td>\n",
       "      <td>2006</td>\n",
       "      <td>2006</td>\n",
       "      <td>False</td>\n",
       "    </tr>\n",
       "    <tr>\n",
       "      <th>2686</th>\n",
       "      <td>1670</td>\n",
       "      <td>0</td>\n",
       "      <td>0</td>\n",
       "      <td>Grvl</td>\n",
       "      <td>2</td>\n",
       "      <td>1Fam</td>\n",
       "      <td>Gd</td>\n",
       "      <td>No</td>\n",
       "      <td>1562.0</td>\n",
       "      <td>0.0</td>\n",
       "      <td>...</td>\n",
       "      <td>0</td>\n",
       "      <td>Pave</td>\n",
       "      <td>6</td>\n",
       "      <td>1670.0</td>\n",
       "      <td>AllPub</td>\n",
       "      <td>0</td>\n",
       "      <td>2006</td>\n",
       "      <td>2006</td>\n",
       "      <td>2006</td>\n",
       "      <td>False</td>\n",
       "    </tr>\n",
       "    <tr>\n",
       "      <th>2862</th>\n",
       "      <td>914</td>\n",
       "      <td>0</td>\n",
       "      <td>0</td>\n",
       "      <td>Pave</td>\n",
       "      <td>2</td>\n",
       "      <td>1Fam</td>\n",
       "      <td>TA</td>\n",
       "      <td>Av</td>\n",
       "      <td>475.0</td>\n",
       "      <td>297.0</td>\n",
       "      <td>...</td>\n",
       "      <td>0</td>\n",
       "      <td>Pave</td>\n",
       "      <td>4</td>\n",
       "      <td>914.0</td>\n",
       "      <td>AllPub</td>\n",
       "      <td>32</td>\n",
       "      <td>2002</td>\n",
       "      <td>2002</td>\n",
       "      <td>2006</td>\n",
       "      <td>False</td>\n",
       "    </tr>\n",
       "  </tbody>\n",
       "</table>\n",
       "<p>24 rows × 81 columns</p>\n",
       "</div>"
      ],
      "text/plain": [
       "      1stFlrSF  2ndFlrSF  3SsnPorch Alley  BedroomAbvGr BldgType BsmtCond  \\\n",
       "234        860      1100          0  Pave             4     1Fam       TA   \n",
       "529       2515         0          0  Pave             4     1Fam       TA   \n",
       "650        822       843          0  Pave             3     1Fam       TA   \n",
       "936       1200         0          0  Grvl             2     1Fam       TA   \n",
       "973       1428         0          0  Grvl             3     1Fam       TA   \n",
       "977       1241         0          0  Pave             1   TwnhsE       TA   \n",
       "1243      2076         0          0  Grvl             2     1Fam       Gd   \n",
       "1278      1128       903          0  Pave             3     1Fam       TA   \n",
       "1691       878      1126          0  Grvl             4     1Fam       TA   \n",
       "1706      1436         0          0  Grvl             3     1Fam       TA   \n",
       "1882       840       885          0  Pave             3     1Fam       TA   \n",
       "1992       707       707          0  Grvl             3     1Fam       TA   \n",
       "2004      1460         0          0  Pave             3     1Fam       TA   \n",
       "2041       952       860          0  Pave             3     1Fam       TA   \n",
       "2311       768       728          0  Grvl             3     1Fam       TA   \n",
       "2325       754       640          0  Pave             3     1Fam       TA   \n",
       "2340      1528         0          0  Pave             3     1Fam       TA   \n",
       "2349       955       925          0  Pave             3     1Fam       TA   \n",
       "2368      1550         0          0  Pave             2   TwnhsE       TA   \n",
       "2592      1564         0          0  Pave             2     1Fam       TA   \n",
       "2610      1608         0          0  Pave             3     1Fam       TA   \n",
       "2657      1209      1044          0  Pave             3     1Fam       TA   \n",
       "2686      1670         0          0  Grvl             2     1Fam       Gd   \n",
       "2862       914         0          0  Pave             2     1Fam       TA   \n",
       "\n",
       "     BsmtExposure  BsmtFinSF1  BsmtFinSF2     ...      ScreenPorch Street  \\\n",
       "234            No       625.0         0.0     ...                0   Pave   \n",
       "529            No      1219.0         0.0     ...                0   Pave   \n",
       "650            No         0.0         0.0     ...                0   Pave   \n",
       "936            No       833.0         0.0     ...                0   Pave   \n",
       "973            No         0.0         0.0     ...                0   Pave   \n",
       "977            No      1106.0         0.0     ...                0   Pave   \n",
       "1243           Gd      1386.0         0.0     ...                0   Pave   \n",
       "1278           No       804.0         0.0     ...                0   Pave   \n",
       "1691           No       651.0         0.0     ...                0   Pave   \n",
       "1706           No         0.0         0.0     ...                0   Pave   \n",
       "1882           No         0.0         0.0     ...                0   Pave   \n",
       "1992           No         0.0         0.0     ...                0   Pave   \n",
       "2004           No       666.0         0.0     ...                0   Pave   \n",
       "2041           No         0.0         0.0     ...                0   Pave   \n",
       "2311           No         0.0         0.0     ...                0   Pave   \n",
       "2325           No         0.0         0.0     ...                0   Pave   \n",
       "2340           No         0.0         0.0     ...                0   Pave   \n",
       "2349           Av       745.0         0.0     ...                0   Pave   \n",
       "2368           No         0.0         0.0     ...                0   Pave   \n",
       "2592           Av       583.0         0.0     ...                0   Pave   \n",
       "2610           No       811.0         0.0     ...                0   Pave   \n",
       "2657           Av         0.0         0.0     ...                0   Pave   \n",
       "2686           No      1562.0         0.0     ...                0   Pave   \n",
       "2862           Av       475.0       297.0     ...                0   Pave   \n",
       "\n",
       "      TotRmsAbvGrd  TotalBsmtSF Utilities  WoodDeckSF YearBuilt YearRemodAdd  \\\n",
       "234              8        860.0    AllPub         288      2002         2002   \n",
       "529              9       2035.0    AllPub           0      1957         1975   \n",
       "650              7        813.0    AllPub           0      2007         2007   \n",
       "936              5       1176.0    AllPub           0      2003         2003   \n",
       "973              6       1428.0    AllPub           0      2007         2008   \n",
       "977              4       1241.0    AllPub           0      2006         2007   \n",
       "1243             7       2076.0    AllPub         216      2006         2006   \n",
       "1278             7       1128.0    AllPub           0      2002         2002   \n",
       "1691             8        870.0    AllPub           0      2002         2002   \n",
       "1706             6       1436.0    AllPub           0      2008         2009   \n",
       "1882             6        840.0    AllPub           0      2002         2002   \n",
       "1992             6        707.0    AllPub         100      2002         2002   \n",
       "2004             6       1460.0    AllPub           0      2006         2007   \n",
       "2041             7        952.0    AllPub         144      2002         2002   \n",
       "2311             7        768.0    AllPub         100      2007         2007   \n",
       "2325             7        384.0    AllPub         100      2003         2003   \n",
       "2340             6       1528.0    AllPub           0      2007         2007   \n",
       "2349             8        955.0    AllPub         168      2007         2007   \n",
       "2368             5       1550.0    AllPub           0      2006         2007   \n",
       "2592             6       1546.0    AllPub         132      2006         2007   \n",
       "2610             6       1396.0    AllPub         152      1961         1961   \n",
       "2657             8       1209.0    AllPub         243      2005         2006   \n",
       "2686             6       1670.0    AllPub           0      2006         2006   \n",
       "2862             4        914.0    AllPub          32      2002         2002   \n",
       "\n",
       "     YrSold FullnullBsmt  \n",
       "234    2010        False  \n",
       "529    2007        False  \n",
       "650    2008        False  \n",
       "936    2009        False  \n",
       "973    2008        False  \n",
       "977    2007        False  \n",
       "1243   2006        False  \n",
       "1278   2008        False  \n",
       "1691   2009        False  \n",
       "1706   2009        False  \n",
       "1882   2009        False  \n",
       "1992   2008        False  \n",
       "2004   2008        False  \n",
       "2041   2008        False  \n",
       "2311   2007        False  \n",
       "2325   2007        False  \n",
       "2340   2007        False  \n",
       "2349   2007        False  \n",
       "2368   2007        False  \n",
       "2592   2007        False  \n",
       "2610   2007        False  \n",
       "2657   2006        False  \n",
       "2686   2006        False  \n",
       "2862   2006        False  \n",
       "\n",
       "[24 rows x 81 columns]"
      ]
     },
     "execution_count": 1948,
     "metadata": {},
     "output_type": "execute_result"
    }
   ],
   "source": [
    "dataset.loc[dataset['MasVnrType'].isnull()]"
   ]
  },
  {
   "cell_type": "code",
   "execution_count": 1949,
   "metadata": {},
   "outputs": [
    {
     "data": {
      "text/plain": [
       "<matplotlib.axes._subplots.AxesSubplot at 0x7ff8d01dcb00>"
      ]
     },
     "execution_count": 1949,
     "metadata": {},
     "output_type": "execute_result"
    },
    {
     "data": {
      "image/png": "[encoded data removed]",
      "text/plain": [
       "<matplotlib.figure.Figure at 0x7ff8d06fd390>"
      ]
     },
     "metadata": {},
     "output_type": "display_data"
    }
   ],
   "source": [
    "sns.countplot(x='MasVnrType',data=dataset)"
   ]
  },
  {
   "cell_type": "code",
   "execution_count": 1950,
   "metadata": {},
   "outputs": [
    {
     "data": {
      "text/plain": [
       "<seaborn.axisgrid.FacetGrid at 0x7ff8d003f080>"
      ]
     },
     "execution_count": 1950,
     "metadata": {},
     "output_type": "execute_result"
    },
    {
     "data": {
      "image/png": "[encoded data removed]",
      "text/plain": [
       "<matplotlib.figure.Figure at 0x7ff8d01972b0>"
      ]
     },
     "metadata": {},
     "output_type": "display_data"
    }
   ],
   "source": [
    "sns.factorplot(x='MasVnrType',y='SalePrice',data=dataset,kind='strip',jitter=True)"
   ]
  },
  {
   "cell_type": "code",
   "execution_count": 1951,
   "metadata": {},
   "outputs": [],
   "source": [
    "# tbd here make it simple\n",
    "dataset.loc[dataset['MasVnrType'].isnull(),'MasVnrType'] = 'None'\n"
   ]
  },
  {
   "cell_type": "markdown",
   "metadata": {},
   "source": [
    "#### MiscFeature"
   ]
  },
  {
   "cell_type": "code",
   "execution_count": 1952,
   "metadata": {},
   "outputs": [],
   "source": [
    "MiscFeature_notnull_set = dataset.loc[dataset['MiscFeature'].isnull()==False]"
   ]
  },
  {
   "cell_type": "code",
   "execution_count": 1953,
   "metadata": {},
   "outputs": [
    {
     "data": {
      "text/plain": [
       "<matplotlib.axes._subplots.AxesSubplot at 0x7ff8d0104c88>"
      ]
     },
     "execution_count": 1953,
     "metadata": {},
     "output_type": "execute_result"
    },
    {
     "data": {
      "image/png": "[encoded data removed]",
      "text/plain": [
       "<matplotlib.figure.Figure at 0x7ff8d023e978>"
      ]
     },
     "metadata": {},
     "output_type": "display_data"
    }
   ],
   "source": [
    "sns.countplot('MiscFeature',data=MiscFeature_notnull_set)"
   ]
  },
  {
   "cell_type": "code",
   "execution_count": 1954,
   "metadata": {},
   "outputs": [
    {
     "data": {
      "text/plain": [
       "<seaborn.axisgrid.FacetGrid at 0x7ff8d01f17b8>"
      ]
     },
     "execution_count": 1954,
     "metadata": {},
     "output_type": "execute_result"
    },
    {
     "data": {
      "image/png": "[encoded data removed]",
      "text/plain": [
       "<matplotlib.figure.Figure at 0x7ff8d012a518>"
      ]
     },
     "metadata": {},
     "output_type": "display_data"
    }
   ],
   "source": [
    "sns.factorplot(x='MiscFeature',y='SalePrice',data=MiscFeature_notnull_set,kind='strip',jitter=True)"
   ]
  },
  {
   "cell_type": "code",
   "execution_count": 1955,
   "metadata": {},
   "outputs": [],
   "source": [
    "dataset.loc[ dataset['MiscFeature'].isnull(),'MiscFeature']='Shed' "
   ]
  },
  {
   "cell_type": "markdown",
   "metadata": {},
   "source": [
    "#### PoolQC"
   ]
  },
  {
   "cell_type": "code",
   "execution_count": 1956,
   "metadata": {},
   "outputs": [
    {
     "data": {
      "text/plain": [
       "10"
      ]
     },
     "execution_count": 1956,
     "metadata": {},
     "output_type": "execute_result"
    }
   ],
   "source": [
    "PoolQC_notnull_set =  dataset.loc[dataset['PoolQC'].isnull() == False]\n",
    "len(PoolQC_notnull_set)"
   ]
  },
  {
   "cell_type": "code",
   "execution_count": 1957,
   "metadata": {},
   "outputs": [
    {
     "data": {
      "text/plain": [
       "<matplotlib.axes._subplots.AxesSubplot at 0x7ff8d00bfa20>"
      ]
     },
     "execution_count": 1957,
     "metadata": {},
     "output_type": "execute_result"
    },
    {
     "data": {
      "image/png": "[encoded data removed]",
      "text/plain": [
       "<matplotlib.figure.Figure at 0x7ff8d01cd6a0>"
      ]
     },
     "metadata": {},
     "output_type": "display_data"
    }
   ],
   "source": [
    "sns.countplot(x='PoolQC',data=PoolQC_notnull_set)"
   ]
  },
  {
   "cell_type": "code",
   "execution_count": 1958,
   "metadata": {},
   "outputs": [],
   "source": [
    "if 'PoolQC' in dataset.columns:\n",
    "     dataset.drop( labels='PoolQC',axis=1,inplace=True);"
   ]
  },
  {
   "cell_type": "markdown",
   "metadata": {},
   "source": [
    "#### TotalBsmtSF"
   ]
  },
  {
   "cell_type": "code",
   "execution_count": 1959,
   "metadata": {},
   "outputs": [],
   "source": [
    "dataset.loc[dataset['TotalBsmtSF'].isnull(),'TotalBsmtSF'] = dataset['TotalBsmtSF'].median()"
   ]
  },
  {
   "cell_type": "markdown",
   "metadata": {},
   "source": [
    "#### Utilities\n"
   ]
  },
  {
   "cell_type": "code",
   "execution_count": 1960,
   "metadata": {},
   "outputs": [],
   "source": [
    "dataset.loc[dataset['Utilities'].isnull(),'Utilities'] = 'AllPub'"
   ]
  },
  {
   "cell_type": "markdown",
   "metadata": {},
   "source": [
    "#### SaleType\n"
   ]
  },
  {
   "cell_type": "code",
   "execution_count": 1961,
   "metadata": {},
   "outputs": [],
   "source": [
    "dataset.loc[dataset['SaleType'].isnull(),'SaleType'] = 'Other'"
   ]
  },
  {
   "cell_type": "markdown",
   "metadata": {},
   "source": [
    "#### LotFrontage"
   ]
  },
  {
   "cell_type": "code",
   "execution_count": 1962,
   "metadata": {},
   "outputs": [],
   "source": [
    "dataset.loc[dataset['LotFrontage'].isnull(),'LotFrontage'] = dataset['LotFrontage'].median()"
   ]
  },
  {
   "cell_type": "markdown",
   "metadata": {},
   "source": [
    "#### GarageArea"
   ]
  },
  {
   "cell_type": "code",
   "execution_count": 1963,
   "metadata": {},
   "outputs": [],
   "source": [
    "dataset.loc[dataset['GarageArea'].isnull(),'GarageArea'] = dataset['GarageArea'].median()"
   ]
  },
  {
   "cell_type": "markdown",
   "metadata": {},
   "source": [
    "#### GarageCars"
   ]
  },
  {
   "cell_type": "code",
   "execution_count": 1964,
   "metadata": {},
   "outputs": [],
   "source": [
    "dataset.loc[dataset['GarageCars'].isnull(),'GarageCars'] = dataset['GarageCars'].median()"
   ]
  },
  {
   "cell_type": "markdown",
   "metadata": {},
   "source": [
    "#### Functional"
   ]
  },
  {
   "cell_type": "code",
   "execution_count": 1965,
   "metadata": {},
   "outputs": [],
   "source": [
    "dataset.loc[dataset['Functional'].isnull(),'Functional']='Typ'"
   ]
  },
  {
   "cell_type": "markdown",
   "metadata": {},
   "source": [
    "#### KitchenQual"
   ]
  },
  {
   "cell_type": "code",
   "execution_count": 1966,
   "metadata": {},
   "outputs": [],
   "source": [
    "dataset.loc[dataset['KitchenQual'].isnull(),'KitchenQual']='TA'"
   ]
  },
  {
   "cell_type": "markdown",
   "metadata": {},
   "source": [
    "#### GarageCond\n"
   ]
  },
  {
   "cell_type": "code",
   "execution_count": 1967,
   "metadata": {},
   "outputs": [],
   "source": [
    "Garage_fl =  ['GarageCond','GarageQual','GarageArea','GarageCars','GarageFinish','GarageType']\n",
    "Garage_cat_fl = ['GarageCond','GarageQual','GarageFinish','GarageType']"
   ]
  },
  {
   "cell_type": "code",
   "execution_count": 1968,
   "metadata": {},
   "outputs": [],
   "source": [
    "null_cond = (dataset['GarageCond'].isnull() ) |\\\n",
    "                                               (dataset['GarageQual'].isnull() ) |\\\n",
    "                                               (dataset['GarageFinish'].isnull() ) |\\\n",
    "                                                (dataset['GarageType'].isnull() )\n",
    "Garage_null_set=dataset.loc[null_cond]"
   ]
  },
  {
   "cell_type": "code",
   "execution_count": 1969,
   "metadata": {},
   "outputs": [
    {
     "data": {
      "text/plain": [
       "<seaborn.axisgrid.FacetGrid at 0x7ff8c7fa5ba8>"
      ]
     },
     "execution_count": 1969,
     "metadata": {},
     "output_type": "execute_result"
    },
    {
     "data": {
      "image/png": "[encoded data removed]",
      "text/plain": [
       "<matplotlib.figure.Figure at 0x7ff8c7fa5f28>"
      ]
     },
     "metadata": {},
     "output_type": "display_data"
    }
   ],
   "source": [
    "Garage_notnull_set=dataset.loc[ (dataset['GarageCond'].isnull()==False) | (dataset['MiscFeature'] == 'Gar2' )]\n",
    "sns.factorplot(x='GarageCond',y='SalePrice',data=Garage_notnull_set,kind='strip',jitter=True)"
   ]
  },
  {
   "cell_type": "code",
   "execution_count": 1970,
   "metadata": {},
   "outputs": [
    {
     "data": {
      "text/html": [
       "<div>\n",
       "<style>\n",
       "    .dataframe thead tr:only-child th {\n",
       "        text-align: right;\n",
       "    }\n",
       "\n",
       "    .dataframe thead th {\n",
       "        text-align: left;\n",
       "    }\n",
       "\n",
       "    .dataframe tbody tr th {\n",
       "        vertical-align: top;\n",
       "    }\n",
       "</style>\n",
       "<table border=\"1\" class=\"dataframe\">\n",
       "  <thead>\n",
       "    <tr style=\"text-align: right;\">\n",
       "      <th></th>\n",
       "      <th>GarageCond</th>\n",
       "      <th>GarageQual</th>\n",
       "      <th>GarageFinish</th>\n",
       "      <th>GarageType</th>\n",
       "    </tr>\n",
       "  </thead>\n",
       "  <tbody>\n",
       "    <tr>\n",
       "      <th>count</th>\n",
       "      <td>2760</td>\n",
       "      <td>2760</td>\n",
       "      <td>2760</td>\n",
       "      <td>2760</td>\n",
       "    </tr>\n",
       "    <tr>\n",
       "      <th>unique</th>\n",
       "      <td>5</td>\n",
       "      <td>5</td>\n",
       "      <td>3</td>\n",
       "      <td>6</td>\n",
       "    </tr>\n",
       "    <tr>\n",
       "      <th>top</th>\n",
       "      <td>TA</td>\n",
       "      <td>TA</td>\n",
       "      <td>Unf</td>\n",
       "      <td>Attchd</td>\n",
       "    </tr>\n",
       "    <tr>\n",
       "      <th>freq</th>\n",
       "      <td>2654</td>\n",
       "      <td>2604</td>\n",
       "      <td>1230</td>\n",
       "      <td>1723</td>\n",
       "    </tr>\n",
       "  </tbody>\n",
       "</table>\n",
       "</div>"
      ],
      "text/plain": [
       "       GarageCond GarageQual GarageFinish GarageType\n",
       "count        2760       2760         2760       2760\n",
       "unique          5          5            3          6\n",
       "top            TA         TA          Unf     Attchd\n",
       "freq         2654       2604         1230       1723"
      ]
     },
     "execution_count": 1970,
     "metadata": {},
     "output_type": "execute_result"
    }
   ],
   "source": [
    "Garage_notnull_set[Garage_cat_fl].describe()"
   ]
  },
  {
   "cell_type": "markdown",
   "metadata": {},
   "source": [
    "Find those not NaN or 0:"
   ]
  },
  {
   "cell_type": "code",
   "execution_count": 1971,
   "metadata": {},
   "outputs": [
    {
     "data": {
      "text/html": [
       "<div>\n",
       "<style>\n",
       "    .dataframe thead tr:only-child th {\n",
       "        text-align: right;\n",
       "    }\n",
       "\n",
       "    .dataframe thead th {\n",
       "        text-align: left;\n",
       "    }\n",
       "\n",
       "    .dataframe tbody tr th {\n",
       "        vertical-align: top;\n",
       "    }\n",
       "</style>\n",
       "<table border=\"1\" class=\"dataframe\">\n",
       "  <thead>\n",
       "    <tr style=\"text-align: right;\">\n",
       "      <th></th>\n",
       "      <th>GarageCond</th>\n",
       "      <th>GarageQual</th>\n",
       "      <th>GarageArea</th>\n",
       "      <th>GarageCars</th>\n",
       "      <th>GarageFinish</th>\n",
       "      <th>GarageType</th>\n",
       "    </tr>\n",
       "  </thead>\n",
       "  <tbody>\n",
       "    <tr>\n",
       "      <th>2126</th>\n",
       "      <td>NaN</td>\n",
       "      <td>NaN</td>\n",
       "      <td>360.0</td>\n",
       "      <td>1.0</td>\n",
       "      <td>NaN</td>\n",
       "      <td>Detchd</td>\n",
       "    </tr>\n",
       "    <tr>\n",
       "      <th>2576</th>\n",
       "      <td>NaN</td>\n",
       "      <td>NaN</td>\n",
       "      <td>480.0</td>\n",
       "      <td>2.0</td>\n",
       "      <td>NaN</td>\n",
       "      <td>Detchd</td>\n",
       "    </tr>\n",
       "  </tbody>\n",
       "</table>\n",
       "</div>"
      ],
      "text/plain": [
       "     GarageCond GarageQual  GarageArea  GarageCars GarageFinish GarageType\n",
       "2126        NaN        NaN       360.0         1.0          NaN     Detchd\n",
       "2576        NaN        NaN       480.0         2.0          NaN     Detchd"
      ]
     },
     "execution_count": 1971,
     "metadata": {},
     "output_type": "execute_result"
    }
   ],
   "source": [
    "not_null_cond = (Garage_null_set['GarageCond'].isnull() == False) |\\\n",
    "                                   (Garage_null_set['GarageQual'].isnull() == False ) |\\\n",
    "                                  (Garage_null_set['GarageArea'] != 0 ) |\\\n",
    "                                  (Garage_null_set['GarageCars'] != 0 ) |\\\n",
    "                                  (Garage_null_set['GarageFinish'].isnull() == False ) |\\\n",
    "                                  (Garage_null_set['GarageType'].isnull() == False )\n",
    "Garage_null_set.loc[ not_null_cond,Garage_fl ]"
   ]
  },
  {
   "cell_type": "code",
   "execution_count": 1972,
   "metadata": {},
   "outputs": [],
   "source": [
    "for x in Garage_cat_fl :\n",
    "    dataset.loc[null_cond,x] =Garage_notnull_set[Garage_cat_fl].describe().loc['top'][x] "
   ]
  },
  {
   "cell_type": "markdown",
   "metadata": {
    "heading_collapsed": true
   },
   "source": [
    "#### GarageQual"
   ]
  },
  {
   "cell_type": "markdown",
   "metadata": {},
   "source": [
    "#### GarageType"
   ]
  },
  {
   "cell_type": "markdown",
   "metadata": {},
   "source": [
    "##### Garage year built"
   ]
  },
  {
   "cell_type": "code",
   "execution_count": 1973,
   "metadata": {},
   "outputs": [],
   "source": [
    "dataset.loc[dataset['GarageYrBlt'].isnull(),'GarageYrBlt'] = dataset.loc[dataset['GarageYrBlt'].isnull(),'YearBuilt'] "
   ]
  },
  {
   "cell_type": "code",
   "execution_count": 1974,
   "metadata": {},
   "outputs": [],
   "source": [
    "if 'SalePrice' in dataset:\n",
    "    dataset.drop(labels='SalePrice',axis=1,inplace=True)"
   ]
  },
  {
   "cell_type": "code",
   "execution_count": 1975,
   "metadata": {},
   "outputs": [
    {
     "data": {
      "text/plain": [
       "0"
      ]
     },
     "execution_count": 1975,
     "metadata": {},
     "output_type": "execute_result"
    }
   ],
   "source": [
    "sum (dataset.isnull().sum() )"
   ]
  },
  {
   "cell_type": "markdown",
   "metadata": {},
   "source": [
    "### Feature Engineering"
   ]
  },
  {
   "cell_type": "code",
   "execution_count": 1976,
   "metadata": {},
   "outputs": [
    {
     "data": {
      "text/plain": [
       "1stFlrSF            int64\n",
       "2ndFlrSF            int64\n",
       "3SsnPorch           int64\n",
       "Alley              object\n",
       "BedroomAbvGr        int64\n",
       "BldgType           object\n",
       "BsmtCond           object\n",
       "BsmtExposure       object\n",
       "BsmtFinSF1        float64\n",
       "BsmtFinSF2        float64\n",
       "BsmtFinType1       object\n",
       "BsmtFinType2       object\n",
       "BsmtFullBath      float64\n",
       "BsmtHalfBath      float64\n",
       "BsmtQual           object\n",
       "BsmtUnfSF         float64\n",
       "CentralAir         object\n",
       "Condition1         object\n",
       "Condition2         object\n",
       "Electrical         object\n",
       "EnclosedPorch       int64\n",
       "ExterCond          object\n",
       "ExterQual          object\n",
       "Exterior1st        object\n",
       "Exterior2nd        object\n",
       "Fence            category\n",
       "FireplaceQu        object\n",
       "Fireplaces          int64\n",
       "Foundation         object\n",
       "FullBath            int64\n",
       "                   ...   \n",
       "LotFrontage       float64\n",
       "LotShape           object\n",
       "LowQualFinSF        int64\n",
       "MSSubClass          int64\n",
       "MSZoning           object\n",
       "MasVnrArea        float64\n",
       "MasVnrType         object\n",
       "MiscFeature        object\n",
       "MiscVal             int64\n",
       "MoSold              int64\n",
       "Neighborhood       object\n",
       "OpenPorchSF         int64\n",
       "OverallCond         int64\n",
       "OverallQual         int64\n",
       "PavedDrive         object\n",
       "PoolArea            int64\n",
       "RoofMatl           object\n",
       "RoofStyle          object\n",
       "SaleCondition      object\n",
       "SaleType           object\n",
       "ScreenPorch         int64\n",
       "Street             object\n",
       "TotRmsAbvGrd        int64\n",
       "TotalBsmtSF       float64\n",
       "Utilities          object\n",
       "WoodDeckSF          int64\n",
       "YearBuilt           int64\n",
       "YearRemodAdd        int64\n",
       "YrSold              int64\n",
       "FullnullBsmt         bool\n",
       "Length: 79, dtype: object"
      ]
     },
     "execution_count": 1976,
     "metadata": {},
     "output_type": "execute_result"
    }
   ],
   "source": [
    "dataset.dtypes"
   ]
  },
  {
   "cell_type": "code",
   "execution_count": 1977,
   "metadata": {},
   "outputs": [
    {
     "data": {
      "text/plain": [
       "Index(['1stFlrSF', '2ndFlrSF', '3SsnPorch', 'Alley', 'BedroomAbvGr',\n",
       "       'BldgType', 'BsmtCond', 'BsmtExposure', 'BsmtFinSF1', 'BsmtFinSF2',\n",
       "       'BsmtFinType1', 'BsmtFinType2', 'BsmtFullBath', 'BsmtHalfBath',\n",
       "       'BsmtQual', 'BsmtUnfSF', 'CentralAir', 'Condition1', 'Condition2',\n",
       "       'Electrical', 'EnclosedPorch', 'ExterCond', 'ExterQual', 'Exterior1st',\n",
       "       'Exterior2nd', 'Fence', 'FireplaceQu', 'Fireplaces', 'Foundation',\n",
       "       'FullBath', 'Functional', 'GarageArea', 'GarageCars', 'GarageCond',\n",
       "       'GarageFinish', 'GarageQual', 'GarageType', 'GarageYrBlt', 'GrLivArea',\n",
       "       'HalfBath', 'Heating', 'HeatingQC', 'HouseStyle', 'KitchenAbvGr',\n",
       "       'KitchenQual', 'LandContour', 'LandSlope', 'LotArea', 'LotConfig',\n",
       "       'LotFrontage', 'LotShape', 'LowQualFinSF', 'MSSubClass', 'MSZoning',\n",
       "       'MasVnrArea', 'MasVnrType', 'MiscFeature', 'MiscVal', 'MoSold',\n",
       "       'Neighborhood', 'OpenPorchSF', 'OverallCond', 'OverallQual',\n",
       "       'PavedDrive', 'PoolArea', 'RoofMatl', 'RoofStyle', 'SaleCondition',\n",
       "       'SaleType', 'ScreenPorch', 'Street', 'TotRmsAbvGrd', 'TotalBsmtSF',\n",
       "       'Utilities', 'WoodDeckSF', 'YearBuilt', 'YearRemodAdd', 'YrSold',\n",
       "       'FullnullBsmt'],\n",
       "      dtype='object')"
      ]
     },
     "execution_count": 1977,
     "metadata": {},
     "output_type": "execute_result"
    }
   ],
   "source": [
    "dataset.columns"
   ]
  },
  {
   "cell_type": "markdown",
   "metadata": {},
   "source": [
    "Try to  distinguish numerical and categorial features"
   ]
  },
  {
   "cell_type": "markdown",
   "metadata": {},
   "source": [
    "#### year"
   ]
  },
  {
   "cell_type": "code",
   "execution_count": 1978,
   "metadata": {},
   "outputs": [],
   "source": [
    "year_fl = ['YearBuilt','YearRemodAdd','YrSold','GarageYrBlt']"
   ]
  },
  {
   "cell_type": "code",
   "execution_count": 1979,
   "metadata": {},
   "outputs": [
    {
     "data": {
      "text/html": [
       "<div>\n",
       "<style>\n",
       "    .dataframe thead tr:only-child th {\n",
       "        text-align: right;\n",
       "    }\n",
       "\n",
       "    .dataframe thead th {\n",
       "        text-align: left;\n",
       "    }\n",
       "\n",
       "    .dataframe tbody tr th {\n",
       "        vertical-align: top;\n",
       "    }\n",
       "</style>\n",
       "<table border=\"1\" class=\"dataframe\">\n",
       "  <thead>\n",
       "    <tr style=\"text-align: right;\">\n",
       "      <th></th>\n",
       "      <th>YearBuilt</th>\n",
       "      <th>YearRemodAdd</th>\n",
       "      <th>YrSold</th>\n",
       "      <th>GarageYrBlt</th>\n",
       "    </tr>\n",
       "  </thead>\n",
       "  <tbody>\n",
       "    <tr>\n",
       "      <th>523</th>\n",
       "      <td>2007</td>\n",
       "      <td>2008</td>\n",
       "      <td>2007</td>\n",
       "      <td>2007.0</td>\n",
       "    </tr>\n",
       "    <tr>\n",
       "      <th>1876</th>\n",
       "      <td>2002</td>\n",
       "      <td>2001</td>\n",
       "      <td>2009</td>\n",
       "      <td>2002.0</td>\n",
       "    </tr>\n",
       "    <tr>\n",
       "      <th>2295</th>\n",
       "      <td>2007</td>\n",
       "      <td>2008</td>\n",
       "      <td>2007</td>\n",
       "      <td>2007.0</td>\n",
       "    </tr>\n",
       "    <tr>\n",
       "      <th>2549</th>\n",
       "      <td>2008</td>\n",
       "      <td>2009</td>\n",
       "      <td>2007</td>\n",
       "      <td>2008.0</td>\n",
       "    </tr>\n",
       "  </tbody>\n",
       "</table>\n",
       "</div>"
      ],
      "text/plain": [
       "      YearBuilt  YearRemodAdd  YrSold  GarageYrBlt\n",
       "523        2007          2008    2007       2007.0\n",
       "1876       2002          2001    2009       2002.0\n",
       "2295       2007          2008    2007       2007.0\n",
       "2549       2008          2009    2007       2008.0"
      ]
     },
     "execution_count": 1979,
     "metadata": {},
     "output_type": "execute_result"
    }
   ],
   "source": [
    "dataset.loc[ (dataset['YearBuilt'] >dataset['YearRemodAdd'])  | (dataset['YearRemodAdd'] >dataset['YrSold']) ,year_fl]"
   ]
  },
  {
   "cell_type": "markdown",
   "metadata": {},
   "source": [
    "Garage first! it's strange"
   ]
  },
  {
   "cell_type": "code",
   "execution_count": 1980,
   "metadata": {},
   "outputs": [],
   "source": [
    "dataset['YearBuiltTillNow'] = 2018-dataset['YearBuilt']\n",
    "dataset['YearRemodTillNow'] = 2018-dataset['YearRemodAdd']\n",
    "dataset['YearSoldTillNow'] = 2018-dataset['YrSold']\n",
    "dataset['YearGaBuiltNow'] = 2018-dataset['GarageYrBlt']\n",
    "dataset['RemodAfterBuilt'] = dataset['YearBuiltTillNow']  -  dataset['YearRemodTillNow'] \n",
    "dataset['SoldAfterBuilt'] = dataset['YearBuiltTillNow']  -  dataset['YearSoldTillNow'] \n",
    "\n",
    "dataset.loc[dataset['YearGaBuiltNow'] < 0,'YearGaBuiltNow'] = dataset.loc[dataset['YearGaBuiltNow'] < 0,'YearBuilt'] \n",
    "\n",
    "for x in year_fl:\n",
    "    if x in dataset:\n",
    "        dataset.drop(labels=x,axis=1,inplace= True)"
   ]
  },
  {
   "cell_type": "code",
   "execution_count": 1981,
   "metadata": {},
   "outputs": [
    {
     "data": {
      "text/plain": [
       "array([dtype('int64'), dtype('O'), dtype('float64'), category,\n",
       "       dtype('bool')], dtype=object)"
      ]
     },
     "execution_count": 1981,
     "metadata": {},
     "output_type": "execute_result"
    }
   ],
   "source": [
    "dataset.dtypes.unique()"
   ]
  },
  {
   "cell_type": "code",
   "execution_count": 1982,
   "metadata": {},
   "outputs": [],
   "source": [
    "cat_dataset = dataset.select_dtypes(include=['object','bool'])"
   ]
  },
  {
   "cell_type": "code",
   "execution_count": 1983,
   "metadata": {},
   "outputs": [
    {
     "name": "stderr",
     "output_type": "stream",
     "text": [
      "/opt/anaconda3/lib/python3.6/site-packages/ipykernel_launcher.py:2: SettingWithCopyWarning: \n",
      "A value is trying to be set on a copy of a slice from a DataFrame.\n",
      "Try using .loc[row_indexer,col_indexer] = value instead\n",
      "\n",
      "See the caveats in the documentation: http://pandas.pydata.org/pandas-docs/stable/indexing.html#indexing-view-versus-copy\n",
      "  \n"
     ]
    }
   ],
   "source": [
    "for col in cat_dataset:\n",
    "    cat_dataset[col] = cat_dataset[col].astype('category')\n"
   ]
  },
  {
   "cell_type": "code",
   "execution_count": 1984,
   "metadata": {},
   "outputs": [
    {
     "data": {
      "text/plain": [
       "array([category], dtype=object)"
      ]
     },
     "execution_count": 1984,
     "metadata": {},
     "output_type": "execute_result"
    }
   ],
   "source": [
    "cat_dataset.dtypes.unique()"
   ]
  },
  {
   "cell_type": "code",
   "execution_count": 1985,
   "metadata": {},
   "outputs": [],
   "source": [
    "num_dataset = dataset.select_dtypes(exclude=['object','category']).astype('float64')"
   ]
  },
  {
   "cell_type": "markdown",
   "metadata": {},
   "source": [
    "Check no data smaller than 0 ,thus can apply log skew method"
   ]
  },
  {
   "cell_type": "code",
   "execution_count": 1986,
   "metadata": {},
   "outputs": [
    {
     "data": {
      "text/plain": [
       "array([1876, 2549])"
      ]
     },
     "execution_count": 1986,
     "metadata": {},
     "output_type": "execute_result"
    }
   ],
   "source": [
    "pos = np.where( num_dataset < 0 )\n",
    "pos[0]"
   ]
  },
  {
   "cell_type": "code",
   "execution_count": 1987,
   "metadata": {},
   "outputs": [],
   "source": [
    "num_dataset.loc[ num_dataset['RemodAfterBuilt'] < 0,'RemodAfterBuilt'] = 0\n",
    "num_dataset.loc[ num_dataset['SoldAfterBuilt'] < 0,'SoldAfterBuilt'] = 0"
   ]
  },
  {
   "cell_type": "code",
   "execution_count": 1988,
   "metadata": {},
   "outputs": [
    {
     "data": {
      "text/plain": [
       "array([], dtype=int64)"
      ]
     },
     "execution_count": 1988,
     "metadata": {},
     "output_type": "execute_result"
    }
   ],
   "source": [
    "pos = np.where( num_dataset < 0 )\n",
    "pos[0]"
   ]
  },
  {
   "cell_type": "markdown",
   "metadata": {},
   "source": [
    "#### unskew data"
   ]
  },
  {
   "cell_type": "code",
   "execution_count": 1989,
   "metadata": {},
   "outputs": [
    {
     "data": {
      "text/plain": [
       "YearGaBuiltNow    28.399911\n",
       "MiscVal           21.947195\n",
       "PoolArea          16.898328\n",
       "LotArea           12.822431\n",
       "LowQualFinSF      12.088761\n",
       "3SsnPorch         11.376065\n",
       "FullnullBsmt       5.910684\n",
       "KitchenAbvGr       4.302254\n",
       "BsmtFinSF2         4.146143\n",
       "EnclosedPorch      4.003891\n",
       "dtype: float64"
      ]
     },
     "execution_count": 1989,
     "metadata": {},
     "output_type": "execute_result"
    }
   ],
   "source": [
    "from scipy.stats import skew\n",
    "skew_feats = num_dataset.apply(skew).sort_values(ascending=False)\n",
    "skew_feats.head(10)"
   ]
  },
  {
   "cell_type": "code",
   "execution_count": 1990,
   "metadata": {},
   "outputs": [
    {
     "data": {
      "text/plain": [
       "<matplotlib.axes._subplots.AxesSubplot at 0x7ff8d0a12668>"
      ]
     },
     "execution_count": 1990,
     "metadata": {},
     "output_type": "execute_result"
    },
    {
     "data": {
      "image/png": "[encoded data removed]",
      "text/plain": [
       "<matplotlib.figure.Figure at 0x7ff8c7f5da20>"
      ]
     },
     "metadata": {},
     "output_type": "display_data"
    }
   ],
   "source": [
    "sns.distplot(num_dataset[num_dataset['MiscVal'] != 0]['MiscVal'])"
   ]
  },
  {
   "cell_type": "code",
   "execution_count": 1991,
   "metadata": {},
   "outputs": [
    {
     "name": "stdout",
     "output_type": "stream",
     "text": [
      "YearGaBuiltNow    28.399911\n",
      "MiscVal           21.947195\n",
      "PoolArea          16.898328\n",
      "LotArea           12.822431\n",
      "LowQualFinSF      12.088761\n",
      "3SsnPorch         11.376065\n",
      "dtype: float64\n"
     ]
    }
   ],
   "source": [
    "skew_feats = skew_feats[abs(skew_feats) > 10]\n",
    "\n",
    "print(skew_feats)\n",
    "\n",
    "for feat in skew_feats.index:\n",
    "    num_dataset[feat] = np.log1p(num_dataset[feat])"
   ]
  },
  {
   "cell_type": "code",
   "execution_count": 1992,
   "metadata": {},
   "outputs": [
    {
     "data": {
      "text/plain": [
       "<matplotlib.axes._subplots.AxesSubplot at 0x7ff8c7f34dd8>"
      ]
     },
     "execution_count": 1992,
     "metadata": {},
     "output_type": "execute_result"
    },
    {
     "data": {
      "image/png": "[encoded data removed]",
      "text/plain": [
       "<matplotlib.figure.Figure at 0x7ff8d084fda0>"
      ]
     },
     "metadata": {},
     "output_type": "display_data"
    }
   ],
   "source": [
    "sns.distplot(num_dataset[num_dataset['MiscVal'] != 0]['MiscVal'])"
   ]
  },
  {
   "cell_type": "markdown",
   "metadata": {},
   "source": [
    "#### featured"
   ]
  },
  {
   "cell_type": "code",
   "execution_count": 1993,
   "metadata": {},
   "outputs": [],
   "source": [
    "cat_dataset = pd.get_dummies(cat_dataset, columns = cat_dataset.columns);"
   ]
  },
  {
   "cell_type": "markdown",
   "metadata": {},
   "source": [
    "min-max  or normalazation"
   ]
  },
  {
   "cell_type": "code",
   "execution_count": 1994,
   "metadata": {},
   "outputs": [
    {
     "data": {
      "text/plain": [
       "(array([], dtype=int64), array([], dtype=int64))"
      ]
     },
     "execution_count": 1994,
     "metadata": {},
     "output_type": "execute_result"
    }
   ],
   "source": [
    "np.where(num_dataset < 0)"
   ]
  },
  {
   "cell_type": "code",
   "execution_count": 1995,
   "metadata": {},
   "outputs": [],
   "source": [
    "for x in num_dataset:\n",
    "     num_dataset[x] = (num_dataset[x] - num_dataset[x].mean()) / (num_dataset[x].std())\n",
    "#         num_dataset[x] = (num_dataset[x] - num_dataset[x].mean()) / (num_dataset[x].max() - num_dataset[x].min())"
   ]
  },
  {
   "cell_type": "markdown",
   "metadata": {},
   "source": [
    "normalization"
   ]
  },
  {
   "cell_type": "code",
   "execution_count": 1996,
   "metadata": {},
   "outputs": [
    {
     "data": {
      "text/plain": [
       "0"
      ]
     },
     "execution_count": 1996,
     "metadata": {},
     "output_type": "execute_result"
    }
   ],
   "source": [
    "sum (np.isnan(num_dataset).any())"
   ]
  },
  {
   "cell_type": "code",
   "execution_count": 1997,
   "metadata": {},
   "outputs": [
    {
     "data": {
      "text/plain": [
       "(array([], dtype=int64), array([], dtype=int64))"
      ]
     },
     "execution_count": 1997,
     "metadata": {},
     "output_type": "execute_result"
    }
   ],
   "source": [
    "np.where(np.isnan(num_dataset))"
   ]
  },
  {
   "cell_type": "code",
   "execution_count": 1998,
   "metadata": {},
   "outputs": [],
   "source": [
    "num_dataset = num_dataset.fillna(num_dataset.median())"
   ]
  },
  {
   "cell_type": "code",
   "execution_count": 1999,
   "metadata": {},
   "outputs": [
    {
     "data": {
      "text/plain": [
       "0"
      ]
     },
     "execution_count": 1999,
     "metadata": {},
     "output_type": "execute_result"
    }
   ],
   "source": [
    "sum (np.isnan(num_dataset).any())"
   ]
  },
  {
   "cell_type": "code",
   "execution_count": 2000,
   "metadata": {},
   "outputs": [
    {
     "data": {
      "text/plain": [
       "0"
      ]
     },
     "execution_count": 2000,
     "metadata": {},
     "output_type": "execute_result"
    }
   ],
   "source": [
    "dataset = pd.concat([cat_dataset,num_dataset],axis=1)\n",
    "\n",
    "X = dataset[:train_len]\n",
    "X_test   = dataset[train_len:]\n",
    "sum(X.isnull().sum())\n",
    "\n",
    "# y = train.pop('SalePrice')"
   ]
  },
  {
   "cell_type": "code",
   "execution_count": 2001,
   "metadata": {},
   "outputs": [
    {
     "data": {
      "text/plain": [
       "(1460, 288)"
      ]
     },
     "execution_count": 2001,
     "metadata": {},
     "output_type": "execute_result"
    }
   ],
   "source": [
    "sum(X_test.isnull().sum() )\n",
    "X.shape"
   ]
  },
  {
   "cell_type": "code",
   "execution_count": 2002,
   "metadata": {},
   "outputs": [
    {
     "data": {
      "text/plain": [
       "(1459, 288)"
      ]
     },
     "execution_count": 2002,
     "metadata": {},
     "output_type": "execute_result"
    }
   ],
   "source": [
    "X_test.shape"
   ]
  },
  {
   "cell_type": "markdown",
   "metadata": {},
   "source": [
    "### Build Models"
   ]
  },
  {
   "cell_type": "code",
   "execution_count": 2003,
   "metadata": {},
   "outputs": [],
   "source": [
    "from sklearn.linear_model import LinearRegression\n",
    "from sklearn.linear_model import Lasso,LassoCV\n",
    "from sklearn.linear_model import Ridge,RidgeCV\n",
    "# K折线 学习曲线 \n",
    "\n",
    "from sklearn.model_selection import GridSearchCV, \\\n",
    "                                                            cross_val_score, \\\n",
    "                                                            StratifiedKFold, \\\n",
    "                                                            learning_curve,\\\n",
    "                                                            KFold,\\\n",
    "                                                            cross_val_predict;\n",
    "from sklearn.model_selection import train_test_split;\n",
    "sns.set(style='white', context='notebook', palette='deep');\n",
    "from sklearn.metrics import mean_squared_error,mean_squared_log_error,median_absolute_error\n",
    "import warnings\n",
    "warnings.filterwarnings(action='ignore', category=UserWarning)\n"
   ]
  },
  {
   "cell_type": "code",
   "execution_count": 2004,
   "metadata": {},
   "outputs": [],
   "source": [
    "def train_model(estimator=None, X_train=None,y_train=None,X_cv=None,y_cv=None):\n",
    "    m = estimator\n",
    "    m.fit(X_train,y_train)\n",
    "    pred=estimator.predict(X_cv)\n",
    "#     print(np.where(np.isnan(pred)))\n",
    "    score = np.sqrt (mean_squared_log_error(y_cv,pred))\n",
    "    \n",
    "    #What's inside mean_squared_log_error...\n",
    "#     sq_diff = np.square(np.log(y_cv)-np.log(pred))\n",
    "#     score= np.sqrt(np.sum(sq_diff)/y_cv.shape[0])\n",
    "#     print('s2 ',score)\n",
    "    return score,m\n",
    "\n",
    "def train_model_1(estimator=None, X_train=None,y_train=None,X_cv=None,y_cv=None):\n",
    "    m = estimator\n",
    "    m.fit(X_train,np.log1p(y_train))\n",
    "    pred=estimator.predict(X_cv)\n",
    "#     print(np.where(np.isnan(pred)))\n",
    "    score = np.sqrt (mean_squared_error(np.log1p(y_cv),pred))\n",
    "    \n",
    "    #What's inside mean_squared_log_error...\n",
    "#     sq_diff = np.square(np.log(y_cv)-np.log(pred))\n",
    "#     score= np.sqrt(np.sum(sq_diff)/y_cv.shape[0])\n",
    "#     print('s2 ',score)\n",
    "    return score,m\n",
    "    "
   ]
  },
  {
   "cell_type": "code",
   "execution_count": 2005,
   "metadata": {},
   "outputs": [],
   "source": [
    "def gen_submission(csvname=None,X_test=None,models=None):\n",
    "    pred=np.expm1(models.predict(X_test))\n",
    "    result  = pd.concat([ids,pd.Series(pred).astype('float64')],axis=1);\n",
    "    result.columns = ['Id','SalePrice']\n",
    "    result.to_csv(csvname+r'.csv',index=False)\n",
    "    pass"
   ]
  },
  {
   "cell_type": "code",
   "execution_count": 2006,
   "metadata": {},
   "outputs": [
    {
     "data": {
      "text/plain": [
       "array([dtype('uint8'), dtype('float64')], dtype=object)"
      ]
     },
     "execution_count": 2006,
     "metadata": {},
     "output_type": "execute_result"
    }
   ],
   "source": [
    "X.dtypes.unique()"
   ]
  },
  {
   "cell_type": "code",
   "execution_count": 2007,
   "metadata": {},
   "outputs": [],
   "source": [
    "X = X.astype('float64')"
   ]
  },
  {
   "cell_type": "code",
   "execution_count": 2008,
   "metadata": {},
   "outputs": [
    {
     "data": {
      "text/plain": [
       "(1460, 288)"
      ]
     },
     "execution_count": 2008,
     "metadata": {},
     "output_type": "execute_result"
    }
   ],
   "source": [
    "X.shape"
   ]
  },
  {
   "cell_type": "markdown",
   "metadata": {},
   "source": [
    "Check on nan or inf values"
   ]
  },
  {
   "cell_type": "code",
   "execution_count": 2009,
   "metadata": {},
   "outputs": [
    {
     "data": {
      "text/plain": [
       "0"
      ]
     },
     "execution_count": 2009,
     "metadata": {},
     "output_type": "execute_result"
    }
   ],
   "source": [
    "sum(np.isnan(X).all())"
   ]
  },
  {
   "cell_type": "code",
   "execution_count": 2010,
   "metadata": {},
   "outputs": [
    {
     "data": {
      "text/plain": [
       "0"
      ]
     },
     "execution_count": 2010,
     "metadata": {},
     "output_type": "execute_result"
    }
   ],
   "source": [
    "sum (np.isinf(X).any() )"
   ]
  },
  {
   "cell_type": "markdown",
   "metadata": {},
   "source": [
    "#### LR models"
   ]
  },
  {
   "cell_type": "markdown",
   "metadata": {},
   "source": [
    "##### select models"
   ]
  },
  {
   "cell_type": "code",
   "execution_count": 2011,
   "metadata": {},
   "outputs": [
    {
     "name": "stdout",
     "output_type": "stream",
     "text": [
      "test vs cv score:\n"
     ]
    },
    {
     "name": "stderr",
     "output_type": "stream",
     "text": [
      "/opt/anaconda3/lib/python3.6/site-packages/sklearn/model_selection/_split.py:2026: FutureWarning: From version 0.21, test_size will always complement train_size unless both are specified.\n",
      "  FutureWarning)\n"
     ]
    },
    {
     "name": "stdout",
     "output_type": "stream",
     "text": [
      "For models ['ridge', 'lasso']\n",
      "Ave test score:  [0.11415685 0.10674245]\n",
      "Ave cv score:  [0.13699223 0.13191911]\n"
     ]
    }
   ],
   "source": [
    "scores_cv = [] \n",
    "scores_test=[]\n",
    "\n",
    "models = []\n",
    "LR_ridge = Ridge(alpha=20)\n",
    "LR_lasso = Lasso(alpha=0.0005)\n",
    "models.append( ['ridge',LR_ridge ])\n",
    "models.append(['lasso',LR_lasso])\n",
    "\n",
    "times = 50;\n",
    "\n",
    "score_mat = np.empty( (times,len(models),2))\n",
    "\n",
    "print('test vs cv score:')\n",
    "\n",
    "\n",
    "for i in range(times):\n",
    "#     kf = StratifiedKFold(n_splits=10,shuffle=True)\n",
    "    \n",
    "    X_train, X_vld, y_train,y_vld = train_test_split(X,y,train_size=0.8,shuffle=True)\n",
    "    j=0;\n",
    "    for n,m in models:\n",
    "        s,fin = train_model_1(m,X,y,X,y)\n",
    "#         print('model ',n, ' test score: ',s)\n",
    "        score_mat[i,j,0] = s\n",
    "        s,fin = train_model_1(m,X_train,y_train,X_vld,y_vld)\n",
    "#          print('model ',n, ' cv score: ',s)\n",
    "        score_mat[i,j,1] = s\n",
    "        j = j+1\n",
    "\n",
    "# print(score_mat)\n",
    "print('For models', list(map(lambda x: x[0] ,models)))\n",
    "print('Ave test score: ' ,np.mean(score_mat,axis=0)[:,0])\n",
    "print('Ave cv score: ' ,np.mean(score_mat,axis=0)[:,1])"
   ]
  },
  {
   "cell_type": "markdown",
   "metadata": {},
   "source": [
    "cv score is larger than test score . so the model is over fit as though"
   ]
  },
  {
   "cell_type": "markdown",
   "metadata": {},
   "source": [
    "##### Cross validation using kfolds"
   ]
  },
  {
   "cell_type": "code",
   "execution_count": 2012,
   "metadata": {},
   "outputs": [
    {
     "data": {
      "text/plain": [
       "0.39922568603836983"
      ]
     },
     "execution_count": 2012,
     "metadata": {},
     "output_type": "execute_result"
    }
   ],
   "source": [
    "scores = -1 * cross_val_score(LR,X,np.log1p(y),scoring='neg_mean_squared_error',cv=5)\n",
    "np.sqrt(scores).mean()"
   ]
  },
  {
   "cell_type": "markdown",
   "metadata": {},
   "source": [
    "##### Grid search"
   ]
  },
  {
   "cell_type": "code",
   "execution_count": 2013,
   "metadata": {},
   "outputs": [
    {
     "name": "stdout",
     "output_type": "stream",
     "text": [
      "Fitting 10 folds for each of 27 candidates, totalling 270 fits\n",
      "Lasso(alpha=0.0007, copy_X=True, fit_intercept=True, max_iter=1000,\n",
      "   normalize=False, positive=False, precompute=False, random_state=None,\n",
      "   selection='cyclic', tol=0.005, warm_start=False)\n",
      "0.13738235750912559\n"
     ]
    },
    {
     "name": "stderr",
     "output_type": "stream",
     "text": [
      "[Parallel(n_jobs=1)]: Done 270 out of 270 | elapsed:    5.0s finished\n"
     ]
    }
   ],
   "source": [
    "LR = Lasso()\n",
    "kf = StratifiedKFold(n_splits=5,shuffle=True)\n",
    "lasso_param_grid = {\n",
    "                \"alpha\":[0.001,0.0005,0.0007] ,\n",
    "                 \"max_iter\":[1000,800,500],\n",
    "                 \"tol\":[0.005,0.01,0.02],\n",
    "#                 \"fit_intercept\":[True,False],\n",
    "}\n",
    "#                   \"tol\":[0.005,0.01,0.02],\n",
    "#                   \"fit_intercept\":[True,False]}\n",
    "\n",
    "rcv_param_grid = {}\n",
    "\n",
    "gsLR = GridSearchCV(LR,param_grid = lasso_param_grid, cv=10,n_jobs= 1, verbose = 1)\n",
    "\n",
    "gsLR.scoring = 'neg_mean_squared_error'\n",
    "\n",
    "\n",
    "gsLR.fit(X,np.log1p(y))\n",
    "\n",
    "bestLR= gsLR.best_estimator_\n",
    "                 \n",
    "print(bestLR)\n",
    "# Best score\n",
    "print(np.sqrt(-gsLR.best_score_))"
   ]
  },
  {
   "cell_type": "markdown",
   "metadata": {},
   "source": [
    "#### Learning curves"
   ]
  },
  {
   "cell_type": "code",
   "execution_count": 2014,
   "metadata": {},
   "outputs": [
    {
     "data": {
      "image/png": "[encoded data removed]",
      "text/plain": [
       "<matplotlib.figure.Figure at 0x7ff8c7e0b9b0>"
      ]
     },
     "metadata": {},
     "output_type": "display_data"
    }
   ],
   "source": [
    "def plot_learning_curve(estimator, title, X, y, ylim=None, cv=None,\n",
    "                        n_jobs=-1, train_sizes=np.linspace(.1, 1.0, 5)):\n",
    "    \"\"\"Generate a simple plot of the test and training learning curve\"\"\"\n",
    "    plt.figure()\n",
    "    plt.title(title)\n",
    "    if ylim is not None:\n",
    "        plt.ylim(*ylim)\n",
    "    plt.xlabel(\"Training examples\")\n",
    "    plt.ylabel(\"Score\")\n",
    "    train_sizes, train_scores, test_scores = learning_curve(\n",
    "        estimator, X, y, cv=cv, n_jobs=n_jobs, train_sizes=train_sizes,scoring='neg_mean_squared_error')\n",
    "    train_scores = np.sqrt(-train_scores)\n",
    "    test_scores = np.sqrt(-test_scores)\n",
    "    train_scores_mean = np.mean(train_scores, axis=1)\n",
    "    train_scores_std = np.std(train_scores, axis=1)\n",
    "    test_scores_mean = np.mean(test_scores, axis=1)\n",
    "    test_scores_std = np.std(test_scores, axis=1)\n",
    "    plt.grid()\n",
    "\n",
    "    plt.fill_between(train_sizes, train_scores_mean - train_scores_std,\n",
    "                     train_scores_mean + train_scores_std, alpha=0.1,\n",
    "                     color=\"r\")\n",
    "    plt.fill_between(train_sizes, test_scores_mean - test_scores_std,\n",
    "                     test_scores_mean + test_scores_std, alpha=0.1, color=\"g\")\n",
    "    plt.plot(train_sizes, train_scores_mean, 'o-', color=\"r\",\n",
    "             label=\"Training score\")\n",
    "    plt.plot(train_sizes, test_scores_mean, 'o-', color=\"g\",\n",
    "             label=\"Cross-validation score\")\n",
    "\n",
    "    plt.legend(loc=\"best\")\n",
    "    return plt\n",
    "\n",
    "g = plot_learning_curve(bestLR,\"LR mearning curves\",X,np.log1p(y),cv=5)"
   ]
  },
  {
   "cell_type": "markdown",
   "metadata": {},
   "source": [
    "##### Submission"
   ]
  },
  {
   "cell_type": "code",
   "execution_count": null,
   "metadata": {},
   "outputs": [],
   "source": [
    "gen_submission(\"LassoCV_submission\",X_test,bestLR)"
   ]
  },
  {
   "cell_type": "markdown",
   "metadata": {},
   "source": [
    "#### LRCV model"
   ]
  },
  {
   "cell_type": "markdown",
   "metadata": {},
   "source": [
    "##### LassoCV"
   ]
  },
  {
   "cell_type": "code",
   "execution_count": null,
   "metadata": {},
   "outputs": [],
   "source": [
    "LR_lasso_cv = LassoCV();\n",
    "LR_lasso_cv.fit(X,y)\n",
    "g = plot_learning_curve(LR_lasso_cv,\"Lasso cv mearning curves\",X,np.log1p(y),cv=10)"
   ]
  },
  {
   "cell_type": "markdown",
   "metadata": {},
   "source": [
    "##### single parameter regulation , not using GridSearch"
   ]
  },
  {
   "cell_type": "code",
   "execution_count": null,
   "metadata": {},
   "outputs": [],
   "source": [
    "def rmse_cv(model):\n",
    "    rmse= np.sqrt(-cross_val_score(model, X, np.log1p(y), scoring=\"neg_mean_squared_error\", cv = 5))\n",
    "    return(rmse)"
   ]
  },
  {
   "cell_type": "code",
   "execution_count": null,
   "metadata": {},
   "outputs": [],
   "source": [
    "# alphas = [0.05, 0.1, 0.3, 1, 3, 5, 10, 15, 30, 50, 75]\n",
    "#confirm 10\n",
    "\n",
    "alphas = [5,6,7,8,9,10,20,30,50]\n",
    "#confirm 20\n",
    "\n",
    "cv_ridge = [rmse_cv(Ridge(alpha = alpha)).mean() \n",
    "            for alpha in alphas]\n",
    "\n",
    "\n",
    "cv_ridge = pd.Series(cv_ridge, index = alphas)\n",
    "cv_ridge.plot(title = \"Validation - Just Do It\")\n",
    "print(cv_ridge)\n",
    "plt.xlabel(\"alpha\")\n",
    "plt.ylabel(\"rmse\")"
   ]
  },
  {
   "cell_type": "code",
   "execution_count": null,
   "metadata": {},
   "outputs": [],
   "source": [
    "alphas = [0.00001,0.00005,0.0001,0.0005,0.001,]\n",
    "#confirm 0.0005\n",
    "\n",
    "#confirm 20\n",
    "alphas = [0.0001,0.0003,0.0005,0.0007,0.001]\n",
    "\n",
    "cv_ridge = [rmse_cv(Lasso(alpha = alpha)).mean() \n",
    "            for alpha in alphas]\n",
    "\n",
    "\n",
    "cv_ridge = pd.Series(cv_ridge, index = alphas)\n",
    "cv_ridge.plot(title = \"Validation - Just Do It\")\n",
    "print(cv_ridge)\n",
    "plt.xlabel(\"alpha\")\n",
    "plt.ylabel(\"rmse\")"
   ]
  },
  {
   "cell_type": "code",
   "execution_count": 1881,
   "metadata": {},
   "outputs": [
    {
     "data": {
      "image/png": "[encoded data removed]",
      "text/plain": [
       "<matplotlib.figure.Figure at 0x7ff8d0843d68>"
      ]
     },
     "metadata": {},
     "output_type": "display_data"
    }
   ],
   "source": [
    "LR_lasso_cv = LassoCV(alphas=[0.0004,0.0005,0.0006,0.0007]);\n",
    "LR_lasso_cv.fit(X,np.log1p(y))\n",
    "g = plot_learning_curve(LR_lasso_cv,\"Lasso cv mearning curves\",X,np.log1p(y),cv=5)"
   ]
  },
  {
   "cell_type": "code",
   "execution_count": 1435,
   "metadata": {},
   "outputs": [],
   "source": [
    "# got a 0.12 here\n",
    "gen_submission('Lasso_cv',X_test,LR_lasso_cv)"
   ]
  },
  {
   "cell_type": "code",
   "execution_count": null,
   "metadata": {},
   "outputs": [],
   "source": []
  }
 ],
 "metadata": {
  "kernelspec": {
   "display_name": "Python 3",
   "language": "python",
   "name": "python3"
  },
  "language_info": {
   "codemirror_mode": {
    "name": "ipython",
    "version": 3
   },
   "file_extension": ".py",
   "mimetype": "text/x-python",
   "name": "python",
   "nbconvert_exporter": "python",
   "pygments_lexer": "ipython3",
   "version": "3.6.4"
  },
  "latex_envs": {
   "LaTeX_envs_menu_present": true,
   "autoclose": false,
   "autocomplete": true,
   "bibliofile": "biblio.bib",
   "cite_by": "apalike",
   "current_citInitial": 1,
   "eqLabelWithNumbers": true,
   "eqNumInitial": 1,
   "hotkeys": {
    "equation": "Ctrl-E",
    "itemize": "Ctrl-I"
   },
   "labels_anchors": false,
   "latex_user_defs": false,
   "report_style_numbering": false,
   "user_envs_cfg": false
  },
  "toc": {
   "base_numbering": 1,
   "nav_menu": {},
   "number_sections": true,
   "sideBar": true,
   "skip_h1_title": false,
   "title_cell": "Table of Contents",
   "title_sidebar": "Contents",
   "toc_cell": false,
   "toc_position": {},
   "toc_section_display": true,
   "toc_window_display": false
  }
 },
 "nbformat": 4,
 "nbformat_minor": 2
}
