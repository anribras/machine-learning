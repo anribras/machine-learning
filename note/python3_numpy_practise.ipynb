{
 "cells": [
  {
   "cell_type": "markdown",
   "metadata": {},
   "source": [
    "### numpy行向量列向量之间转换"
   ]
  },
  {
   "cell_type": "code",
   "execution_count": 20,
   "metadata": {
    "slideshow": {
     "slide_type": "-"
    }
   },
   "outputs": [
    {
     "name": "stdout",
     "output_type": "stream",
     "text": [
      "a: [1 2 3 4] a.shape (4,)\n",
      "aa: [[1 2 3 4]] aa.shape (1, 4)\n",
      "aa:\n",
      " [[1]\n",
      " [2]\n",
      " [3]\n",
      " [4]] \n",
      "aa.shape (4, 1)\n",
      "row into column vec:\n",
      " [[1]\n",
      " [2]\n",
      " [3]\n",
      " [4]] \n",
      "b.shape (4, 1)\n",
      "column into row vec: [[1 2 3 4]] c.shape (1, 4)\n"
     ]
    }
   ],
   "source": [
    "import numpy as np;\n",
    "# np没有一维向量,只有(4)\n",
    "a=np.array([1,2,3,4]);\n",
    "print('a:',a,'a.shape',a.shape)\n",
    "\n",
    "#转变成 (1,4)\n",
    "aa=np.array([a])\n",
    "print('aa:',aa,'aa.shape',aa.shape)\n",
    "\n",
    "#转变成(4,1)\n",
    "aa=np.array([a]).T\n",
    "print('aa:\\n',aa,'\\naa.shape',aa.shape)\n",
    "\n",
    "# 用reshape\n",
    "b=a.reshape(-1,1);\n",
    "print('row into column vec:\\n',b,'\\nb.shape',b.shape)\n",
    "#列向量变行向量 reshape\n",
    "c=b.reshape(1,-1);\n",
    "print('column into row vec:',c,'c.shape',c.shape)"
   ]
  },
  {
   "cell_type": "markdown",
   "metadata": {},
   "source": [
    "### 倒序循环"
   ]
  },
  {
   "cell_type": "code",
   "execution_count": 26,
   "metadata": {},
   "outputs": [
    {
     "name": "stdout",
     "output_type": "stream",
     "text": [
      "9\n",
      "8\n",
      "7\n",
      "6\n",
      "5\n",
      "4\n",
      "3\n",
      "2\n",
      "1\n",
      "0\n"
     ]
    }
   ],
   "source": [
    "for i in range(10-1,-1,-1):\n",
    "    print(i);"
   ]
  },
  {
   "cell_type": "markdown",
   "metadata": {},
   "source": [
    "###  行，列，全体求和"
   ]
  },
  {
   "cell_type": "code",
   "execution_count": 28,
   "metadata": {},
   "outputs": [
    {
     "data": {
      "text/plain": [
       "9.0"
      ]
     },
     "execution_count": 28,
     "metadata": {},
     "output_type": "execute_result"
    }
   ],
   "source": [
    "A=np.ones([3,3]);\n",
    "np.sum(A)"
   ]
  },
  {
   "cell_type": "code",
   "execution_count": 30,
   "metadata": {},
   "outputs": [
    {
     "data": {
      "text/plain": [
       "3.0"
      ]
     },
     "execution_count": 30,
     "metadata": {},
     "output_type": "execute_result"
    }
   ],
   "source": [
    "np.sum(A[:,1])"
   ]
  },
  {
   "cell_type": "code",
   "execution_count": 31,
   "metadata": {},
   "outputs": [
    {
     "data": {
      "text/plain": [
       "3.0"
      ]
     },
     "execution_count": 31,
     "metadata": {},
     "output_type": "execute_result"
    }
   ],
   "source": [
    "np.sum(A[1,:])"
   ]
  },
  {
   "cell_type": "markdown",
   "metadata": {},
   "source": [
    "### 最后一个元素用a[-1]来寻找 ,类似matlab a(end)"
   ]
  },
  {
   "cell_type": "code",
   "execution_count": 33,
   "metadata": {},
   "outputs": [
    {
     "data": {
      "text/plain": [
       "3"
      ]
     },
     "execution_count": 33,
     "metadata": {},
     "output_type": "execute_result"
    }
   ],
   "source": [
    "a1=np.array([1,2,3])\n",
    "a1[-1]"
   ]
  },
  {
   "cell_type": "code",
   "execution_count": 35,
   "metadata": {},
   "outputs": [
    {
     "data": {
      "text/plain": [
       "2"
      ]
     },
     "execution_count": 35,
     "metadata": {},
     "output_type": "execute_result"
    }
   ],
   "source": [
    "a1[-2]"
   ]
  },
  {
   "cell_type": "code",
   "execution_count": 62,
   "metadata": {},
   "outputs": [
    {
     "data": {
      "text/plain": [
       "1"
      ]
     },
     "execution_count": 62,
     "metadata": {},
     "output_type": "execute_result"
    }
   ],
   "source": [
    "a1[-3]"
   ]
  },
  {
   "cell_type": "code",
   "execution_count": 63,
   "metadata": {},
   "outputs": [
    {
     "data": {
      "text/plain": [
       "array([3, 2, 1])"
      ]
     },
     "execution_count": 63,
     "metadata": {},
     "output_type": "execute_result"
    }
   ],
   "source": [
    "a1[::-1]"
   ]
  },
  {
   "cell_type": "markdown",
   "metadata": {},
   "source": [
    "### 矩阵连续点乘"
   ]
  },
  {
   "cell_type": "code",
   "execution_count": 58,
   "metadata": {},
   "outputs": [
    {
     "name": "stdout",
     "output_type": "stream",
     "text": [
      "[[-65.33427095 -67.19555078 -68.65499209]\n",
      " [-36.19156642 -37.189905   -38.01345919]\n",
      " [-64.37481746 -66.18932156 -67.63437653]]\n",
      "------\n"
     ]
    },
    {
     "data": {
      "text/plain": [
       "array([[-65.33427095, -67.19555078, -68.65499209],\n",
       "       [-36.19156642, -37.189905  , -38.01345919],\n",
       "       [-64.37481746, -66.18932156, -67.63437653]])"
      ]
     },
     "execution_count": 58,
     "metadata": {},
     "output_type": "execute_result"
    }
   ],
   "source": [
    "size = [3,3]\n",
    "A=np.random.rand(3,3);\n",
    "B= A+1;\n",
    "C =A /2 ;\n",
    "D = A -10;\n",
    "\n",
    "ans=A.dot(B).dot(C).dot(D)\n",
    "print(ans)\n",
    "print('------')\n",
    "from functools import reduce ;\n",
    "ans = reduce(np.dot,[A,B,C,D]);\n",
    "print(ans)\n"
   ]
  },
  {
   "cell_type": "code",
   "execution_count": null,
   "metadata": {},
   "outputs": [],
   "source": []
  }
 ],
 "metadata": {
  "kernelspec": {
   "display_name": "Python 3",
   "language": "python",
   "name": "python3"
  },
  "language_info": {
   "codemirror_mode": {
    "name": "ipython",
    "version": 3
   },
   "file_extension": ".py",
   "mimetype": "text/x-python",
   "name": "python",
   "nbconvert_exporter": "python",
   "pygments_lexer": "ipython3",
   "version": "3.6.4"
  }
 },
 "nbformat": 4,
 "nbformat_minor": 2
}
