{
 "cells": [
  {
   "cell_type": "code",
   "execution_count": 28,
   "metadata": {},
   "outputs": [],
   "source": [
    "import numpy as np;\n",
    "a=np.array([1,2,3,4]);"
   ]
  },
  {
   "cell_type": "code",
   "execution_count": 38,
   "metadata": {},
   "outputs": [
    {
     "data": {
      "text/plain": [
       "array([1, 2, 3, 4])"
      ]
     },
     "execution_count": 38,
     "metadata": {},
     "output_type": "execute_result"
    }
   ],
   "source": [
    "a"
   ]
  },
  {
   "cell_type": "code",
   "execution_count": 39,
   "metadata": {},
   "outputs": [],
   "source": [
    "# 行向量变列向量 numpy的用法比较诡异，matlab的方便多了\n",
    "b=a.reshape(-1,1);"
   ]
  },
  {
   "cell_type": "code",
   "execution_count": 40,
   "metadata": {},
   "outputs": [
    {
     "data": {
      "text/plain": [
       "array([[1],\n",
       "       [2],\n",
       "       [3],\n",
       "       [4]])"
      ]
     },
     "execution_count": 40,
     "metadata": {},
     "output_type": "execute_result"
    }
   ],
   "source": [
    "b"
   ]
  },
  {
   "cell_type": "code",
   "execution_count": 41,
   "metadata": {},
   "outputs": [],
   "source": [
    "#列向量变行向量\n",
    "c=b.reshape(1,-1);"
   ]
  },
  {
   "cell_type": "code",
   "execution_count": 42,
   "metadata": {},
   "outputs": [
    {
     "data": {
      "text/plain": [
       "array([[1, 2, 3, 4]])"
      ]
     },
     "execution_count": 42,
     "metadata": {},
     "output_type": "execute_result"
    }
   ],
   "source": [
    "c"
   ]
  },
  {
   "cell_type": "code",
   "execution_count": 43,
   "metadata": {},
   "outputs": [],
   "source": [
    "d=np.zeros([3,2]);"
   ]
  },
  {
   "cell_type": "code",
   "execution_count": 44,
   "metadata": {
    "scrolled": true
   },
   "outputs": [
    {
     "data": {
      "text/plain": [
       "(array([[ 0.,  0.],\n",
       "        [ 0.,  0.],\n",
       "        [ 0.,  0.]]), (3, 2))"
      ]
     },
     "execution_count": 44,
     "metadata": {},
     "output_type": "execute_result"
    }
   ],
   "source": [
    "d,d.shape"
   ]
  },
  {
   "cell_type": "code",
   "execution_count": 45,
   "metadata": {},
   "outputs": [
    {
     "data": {
      "text/plain": [
       "[1, 0]"
      ]
     },
     "execution_count": 45,
     "metadata": {},
     "output_type": "execute_result"
    }
   ],
   "source": [
    "list(range(1,-1,-1))"
   ]
  },
  {
   "cell_type": "code",
   "execution_count": null,
   "metadata": {},
   "outputs": [],
   "source": [
    "#   | 0.5 0.3 0.2 |\n",
    "# A=| 0.3 0.5 0.2 |\n",
    "#   | 0.2 0.3 0.5 |\n",
    "A=[[0.5,0.2,0.3],[0.3,0.5,0.2],[0.2,0.3,0.5]];\n",
    "B=[[0.5,0.5],[0.4,0.6],[0.7,0.3]];\n",
    "Pi=[0.2,0.4,0.4];\n",
    "obs = [0,1,0];\n",
    "import numpy as np;\n",
    "\n",
    "\n",
    "# delta nx1\n",
    "# A nxn\n",
    "# return nx1\n",
    "def max_delta(delta,A):\n",
    "    [m,n]=A.shape;\n",
    "    vec=np.zeros([m,1]);\n",
    "    idx=np.zeros([m,1]);\n",
    "    for i in range(n):\n",
    "        vec[i] = np.max(A[:,i] * delta);\n",
    "        idx[i] = np.argmax(A[:,i] * delta);\n",
    "    return vec.reshape(1,-1),idx.reshape(1,-1);\n",
    "\n",
    "\n",
    "# 状态空间 [1 2 3] 观测空间 [1，2](红 白)\n",
    "# 预测序列 p={红，白，红}\n",
    "# 维特比算法预测状态序列:\n",
    "def veterbi_cal(Pi,A,B,obs):\n",
    "    seq = obs;\n",
    "    times = len(seq);\n",
    "    A =np.array(A);\n",
    "    B=np.array(B);\n",
    "    Pi =np.array(Pi);\n",
    "    obs =np.array(obs);\n",
    "    #n为状态空间大小，m为观测空间大小\n",
    "    [n,m]=B.shape;\n",
    "    # delta初始化, 每1列代表1次观测,一共\n",
    "    # delta = [d(0),d(1),....d(times-1)]\n",
    "    # vaphi 类似\n",
    "    delta = np.zeros([n,times]);\n",
    "    vaphi = np.zeros([n,times],dtype=np.int64);\n",
    "\n",
    "    for i in range(len(seq)):\n",
    "        if(i == 0):\n",
    "            delta[:,i] = Pi * B[:,obs[i]];  \n",
    "            vaphi[:,i] = vaphi[:,i];\n",
    "        else:\n",
    "            # (1xn).T * (nx1) = nx1               \n",
    "            # 然后扩充到times列 nxtimes \n",
    "            vec,idx  = max_delta(delta[:,i-1],A);\n",
    "            delta[:,i] = vec * B[:,obs[i]]; \n",
    "            vaphi[:,i] = idx;\n",
    "    print('delta',delta);\n",
    "    print('vaphi',delta);\n",
    "    state = [];\n",
    "    val = np.max(delta[:,i]);\n",
    "    # index是最后一个状态的值的index\n",
    "    index = np.argmax(delta[:,i]);\n",
    "    state.insert(0,index);\n",
    "    # 反溯\n",
    "    # vaphi[:i]是类似[0;1;2]的向量，i当前反溯的最优路径的节点,vi是上一最优路径节点\n",
    "    for i in range(len(seq)-2,-1,-1):\n",
    "        index = vaphi[:,i+1][index];\n",
    "        # 表头插入，表示反向\n",
    "        state.insert(0,index);\n",
    "    \n",
    "    return state;\n",
    "\n",
    "\n",
    "\n",
    "if __name__ == '__main__':\n",
    "\n",
    "    print('veterbi cal:');\n",
    "    print(veterbi_cal(Pi,A,B,obs));"
   ]
  }
 ],
 "metadata": {
  "kernelspec": {
   "display_name": "Python 3",
   "language": "python",
   "name": "python3"
  },
  "language_info": {
   "codemirror_mode": {
    "name": "ipython",
    "version": 3
   },
   "file_extension": ".py",
   "mimetype": "text/x-python",
   "name": "python",
   "nbconvert_exporter": "python",
   "pygments_lexer": "ipython3",
   "version": "3.6.4"
  }
 },
 "nbformat": 4,
 "nbformat_minor": 2
}
